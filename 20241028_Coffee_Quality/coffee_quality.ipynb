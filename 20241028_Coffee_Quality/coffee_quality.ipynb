{
 "cells": [
  {
   "cell_type": "code",
   "execution_count": 1,
   "id": "c16ef581-fac9-4f34-9284-23fa0a2d5ba6",
   "metadata": {},
   "outputs": [],
   "source": [
    "# Source: https://www.kaggle.com/datasets/fatihb/coffee-quality-data-cqi"
   ]
  },
  {
   "cell_type": "code",
   "execution_count": 1,
   "id": "8d3e570e-812e-438a-a1fd-cdf85c6402e1",
   "metadata": {},
   "outputs": [],
   "source": [
    "import pandas as pd\n",
    "import numpy as np\n",
    "import os\n",
    "pd.options.display.width = 2000\n",
    "\n",
    "from IPython.display import display_html\n",
    "\n",
    "pd.set_option('display.max_rows', None)\n",
    "pd.set_option('display.max_columns', None)"
   ]
  },
  {
   "cell_type": "markdown",
   "id": "37733fd6-1c76-4691-b956-3c2ea08d3b7b",
   "metadata": {},
   "source": [
    "# 0. Define functions"
   ]
  },
  {
   "cell_type": "code",
   "execution_count": 65,
   "id": "5001c2cf-f390-4fd7-9677-750a2e8d7dd0",
   "metadata": {},
   "outputs": [],
   "source": [
    "'''\n",
    "# display dataframe, 5 columns each time\n",
    "def printing(arg):\n",
    "    display_html ( df[arg].head(5) )\n",
    "    \n",
    "# print frequency, n columns each time\n",
    "def freq(dfname, arg):\n",
    "    dfx = dfname.copy()\n",
    "    print(dfx.groupby(by=arg).size().reset_index())\n",
    "'''"
   ]
  },
  {
   "cell_type": "code",
   "execution_count": 2,
   "id": "971c49f6-3ed1-428f-a9cf-c4b7ef41a85e",
   "metadata": {},
   "outputs": [],
   "source": [
    "# display dataframe, 5 columns each time\n",
    "def printing(arg):\n",
    "    display_html ( df[arg].head(5) )\n",
    "    \n",
    "# print frequency, n columns each time\n",
    "def freq(dfname, arg):\n",
    "    print(dfname.groupby(by=arg).size().reset_index())"
   ]
  },
  {
   "cell_type": "markdown",
   "id": "b71b4379-ab53-42b1-ad91-8451a922e044",
   "metadata": {},
   "source": [
    "# 1. Retrieve data"
   ]
  },
  {
   "cell_type": "code",
   "execution_count": 3,
   "id": "7ee98a61-0699-4203-9258-f80e415dcfcf",
   "metadata": {},
   "outputs": [],
   "source": [
    "df = pd.read_csv (r'C:\\Users\\Maggie\\OneDrive\\Learning\\Python\\data\\df_arabica_clean.csv')"
   ]
  },
  {
   "cell_type": "code",
   "execution_count": 4,
   "id": "60924162-76a7-4563-9421-cd524505a2bf",
   "metadata": {},
   "outputs": [],
   "source": [
    "df_source = df.copy()"
   ]
  },
  {
   "cell_type": "markdown",
   "id": "425fc9ae-16ab-499a-a25a-069ef82f8c11",
   "metadata": {},
   "source": [
    "# 2. Explore data"
   ]
  },
  {
   "cell_type": "markdown",
   "id": "c6a6aebf-7e28-44c4-a953-9586f6a90c26",
   "metadata": {},
   "source": [
    "## 2.1 Data contents"
   ]
  },
  {
   "cell_type": "code",
   "execution_count": 7,
   "id": "8318decf-f13d-4ce5-90aa-7fede592cd67",
   "metadata": {},
   "outputs": [
    {
     "name": "stdout",
     "output_type": "stream",
     "text": [
      "<class 'pandas.core.frame.DataFrame'>\n",
      "RangeIndex: 207 entries, 0 to 206\n",
      "Data columns (total 41 columns):\n",
      " #   Column                 Non-Null Count  Dtype  \n",
      "---  ------                 --------------  -----  \n",
      " 0   Unnamed: 0             207 non-null    int64  \n",
      " 1   ID                     207 non-null    int64  \n",
      " 2   Country of Origin      207 non-null    object \n",
      " 3   Farm Name              205 non-null    object \n",
      " 4   Lot Number             206 non-null    object \n",
      " 5   Mill                   204 non-null    object \n",
      " 6   ICO Number             75 non-null     object \n",
      " 7   Company                207 non-null    object \n",
      " 8   Altitude               206 non-null    object \n",
      " 9   Region                 205 non-null    object \n",
      " 10  Producer               206 non-null    object \n",
      " 11  Number of Bags         207 non-null    int64  \n",
      " 12  Bag Weight             207 non-null    object \n",
      " 13  In-Country Partner     207 non-null    object \n",
      " 14  Harvest Year           207 non-null    object \n",
      " 15  Grading Date           207 non-null    object \n",
      " 16  Owner                  207 non-null    object \n",
      " 17  Variety                201 non-null    object \n",
      " 18  Status                 207 non-null    object \n",
      " 19  Processing Method      202 non-null    object \n",
      " 20  Aroma                  207 non-null    float64\n",
      " 21  Flavor                 207 non-null    float64\n",
      " 22  Aftertaste             207 non-null    float64\n",
      " 23  Acidity                207 non-null    float64\n",
      " 24  Body                   207 non-null    float64\n",
      " 25  Balance                207 non-null    float64\n",
      " 26  Uniformity             207 non-null    float64\n",
      " 27  Clean Cup              207 non-null    float64\n",
      " 28  Sweetness              207 non-null    float64\n",
      " 29  Overall                207 non-null    float64\n",
      " 30  Defects                207 non-null    float64\n",
      " 31  Total Cup Points       207 non-null    float64\n",
      " 32  Moisture Percentage    207 non-null    float64\n",
      " 33  Category One Defects   207 non-null    int64  \n",
      " 34  Quakers                207 non-null    int64  \n",
      " 35  Color                  207 non-null    object \n",
      " 36  Category Two Defects   207 non-null    int64  \n",
      " 37  Expiration             207 non-null    object \n",
      " 38  Certification Body     207 non-null    object \n",
      " 39  Certification Address  207 non-null    object \n",
      " 40  Certification Contact  207 non-null    object \n",
      "dtypes: float64(13), int64(6), object(22)\n",
      "memory usage: 66.4+ KB\n"
     ]
    }
   ],
   "source": [
    "df.info()"
   ]
  },
  {
   "cell_type": "markdown",
   "id": "96dbebdb-a222-4ad4-8231-b2b02cef6997",
   "metadata": {},
   "source": [
    "## 2.2 Modify data"
   ]
  },
  {
   "cell_type": "markdown",
   "id": "25fc0df9-c088-4768-9a94-ab433015be38",
   "metadata": {},
   "source": [
    "## 2.2.1 modify column names"
   ]
  },
  {
   "cell_type": "markdown",
   "id": "7123b881-7c67-4b20-aade-7841d7431ca1",
   "metadata": {},
   "source": [
    "### >>>> (change dataframe)"
   ]
  },
  {
   "cell_type": "code",
   "execution_count": 5,
   "id": "a57736af-e279-4140-b334-2bf8424e1b54",
   "metadata": {},
   "outputs": [
    {
     "name": "stdout",
     "output_type": "stream",
     "text": [
      "<class 'pandas.core.frame.DataFrame'>\n",
      "RangeIndex: 207 entries, 0 to 206\n",
      "Data columns (total 41 columns):\n",
      " #   Column                 Non-Null Count  Dtype  \n",
      "---  ------                 --------------  -----  \n",
      " 0   unnamed:_0             207 non-null    int64  \n",
      " 1   id                     207 non-null    int64  \n",
      " 2   country_of_origin      207 non-null    object \n",
      " 3   farm_name              205 non-null    object \n",
      " 4   lot_number             206 non-null    object \n",
      " 5   mill                   204 non-null    object \n",
      " 6   ico_number             75 non-null     object \n",
      " 7   company                207 non-null    object \n",
      " 8   altitude               206 non-null    object \n",
      " 9   region                 205 non-null    object \n",
      " 10  producer               206 non-null    object \n",
      " 11  number_of_bags         207 non-null    int64  \n",
      " 12  bag_weight             207 non-null    object \n",
      " 13  in_country_partner     207 non-null    object \n",
      " 14  harvest_year           207 non-null    object \n",
      " 15  grading_date           207 non-null    object \n",
      " 16  owner                  207 non-null    object \n",
      " 17  variety                201 non-null    object \n",
      " 18  status                 207 non-null    object \n",
      " 19  processing_method      202 non-null    object \n",
      " 20  aroma                  207 non-null    float64\n",
      " 21  flavor                 207 non-null    float64\n",
      " 22  aftertaste             207 non-null    float64\n",
      " 23  acidity                207 non-null    float64\n",
      " 24  body                   207 non-null    float64\n",
      " 25  balance                207 non-null    float64\n",
      " 26  uniformity             207 non-null    float64\n",
      " 27  clean_cup              207 non-null    float64\n",
      " 28  sweetness              207 non-null    float64\n",
      " 29  overall                207 non-null    float64\n",
      " 30  defects                207 non-null    float64\n",
      " 31  total_cup_points       207 non-null    float64\n",
      " 32  moisture_percentage    207 non-null    float64\n",
      " 33  category_one_defects   207 non-null    int64  \n",
      " 34  quakers                207 non-null    int64  \n",
      " 35  color                  207 non-null    object \n",
      " 36  category_two_defects   207 non-null    int64  \n",
      " 37  expiration             207 non-null    object \n",
      " 38  certification_body     207 non-null    object \n",
      " 39  certification_address  207 non-null    object \n",
      " 40  certification_contact  207 non-null    object \n",
      "dtypes: float64(13), int64(6), object(22)\n",
      "memory usage: 66.4+ KB\n"
     ]
    }
   ],
   "source": [
    "df.columns = df.columns.str.replace(\" \", \"_\") # replace space in column name by underscore\n",
    "df.columns = df.columns.str.replace(\"-\", \"_\")\n",
    "df.columns = df.columns.str.lower()           # change column name to all lower case\n",
    "df.info()"
   ]
  },
  {
   "cell_type": "markdown",
   "id": "149b7d6d-8429-47e9-bbb6-aeae46913b63",
   "metadata": {},
   "source": [
    "## 2.2.2 add continent by dictionary"
   ]
  },
  {
   "cell_type": "markdown",
   "id": "a221b32d-dcf0-466d-9dc3-aafc6db267df",
   "metadata": {},
   "source": [
    "### >>>> (change dataframe)"
   ]
  },
  {
   "cell_type": "code",
   "execution_count": 6,
   "id": "0b3182d3-61de-4a4a-a37a-4b15bfb8135e",
   "metadata": {},
   "outputs": [],
   "source": [
    "# add continent by dictionary\n",
    "\n",
    "# create dictionary\n",
    "country = {'Brazil':'South America', \n",
    "'Colombia':'South America', \n",
    "'Costa Rica':'North America', \n",
    "'El Salvador':'North America', \n",
    "'Ethiopia':'Africa', \n",
    "'Guatemala':'North America', \n",
    "'Honduras':'North America', \n",
    "'Indonesia':'Asia', \n",
    "'Kenya':'Africa', \n",
    "'Laos':'Asia', \n",
    "'Madagascar':'Africa', \n",
    "'Mexico':'North America', \n",
    "'Myanmar':'Asia', \n",
    "'Nicaragua':'North America', \n",
    "'Panama':'North America', \n",
    "'Peru':'South America', \n",
    "'Taiwan':'Asia', \n",
    "'Tanzania, United Republic Of':'Africa', \n",
    "'Thailand':'Asia', \n",
    "'Uganda':'Africa', \n",
    "'United States (Hawaii)':'North America', \n",
    "'Vietnam':'Asia'\n",
    "}\n"
   ]
  },
  {
   "cell_type": "code",
   "execution_count": 7,
   "id": "bbc14fcc-3f87-46b1-8360-98fb5961755a",
   "metadata": {
    "tags": []
   },
   "outputs": [
    {
     "name": "stdout",
     "output_type": "stream",
     "text": [
      "        continent             country_of_origin   0\n",
      "0          Africa                      Ethiopia  11\n",
      "1          Africa                         Kenya   2\n",
      "2          Africa                    Madagascar   1\n",
      "3          Africa  Tanzania, United Republic Of   6\n",
      "4          Africa                        Uganda   3\n",
      "5            Asia                     Indonesia   3\n",
      "6            Asia                          Laos   3\n",
      "7            Asia                       Myanmar   1\n",
      "8            Asia                        Taiwan  61\n",
      "9            Asia                      Thailand  12\n",
      "10           Asia                       Vietnam   4\n",
      "11  North America                    Costa Rica   8\n",
      "12  North America                   El Salvador   7\n",
      "13  North America                     Guatemala  21\n",
      "14  North America                      Honduras  13\n",
      "15  North America                        Mexico   4\n",
      "16  North America                     Nicaragua   7\n",
      "17  North America                        Panama   2\n",
      "18  North America        United States (Hawaii)   5\n",
      "19  South America                        Brazil  10\n",
      "20  South America                      Colombia  19\n",
      "21  South America                          Peru   4\n"
     ]
    }
   ],
   "source": [
    "df['continent'] = df['country_of_origin'].map(country) \n",
    "freq(df, ['continent', 'country_of_origin'])"
   ]
  },
  {
   "cell_type": "markdown",
   "id": "57bd2a68-cdfe-4127-ae2a-dd3bba9c6a7c",
   "metadata": {},
   "source": [
    "### 2.2.3 handle altitude (use the minimum)"
   ]
  },
  {
   "cell_type": "code",
   "execution_count": 8,
   "id": "0a769bd1-9a46-4af2-a31e-bf2929d8bb97",
   "metadata": {
    "tags": []
   },
   "outputs": [
    {
     "data": {
      "text/plain": [
       "1000            3\n",
       "1040            1\n",
       "1060            1\n",
       "1100            6\n",
       "1100-1200       1\n",
       "1200           23\n",
       "1200 - 1300     1\n",
       "1200 - 1580     2\n",
       "1200-1350       1\n",
       "1200~1600       1\n",
       "1250            7\n",
       "1250-1350       1\n",
       "1280            1\n",
       "1280-1325       1\n",
       "1300            7\n",
       "1300-1400       2\n",
       "1300-1500       3\n",
       "1300-1800       1\n",
       "1340            1\n",
       "1350            6\n",
       "1350-1550       1\n",
       "1368            5\n",
       "139             1\n",
       "1390            1\n",
       "140             1\n",
       "1400            7\n",
       "1400 - 1900     1\n",
       "1400-1700       4\n",
       "1411            1\n",
       "1450            5\n",
       "1470            1\n",
       "150             2\n",
       "150-250         2\n",
       "1500            3\n",
       "1500-1600       2\n",
       "1500-1700       1\n",
       "1500-1950       1\n",
       "1570-1600       1\n",
       "1574            1\n",
       "1600           12\n",
       "1600-1750       1\n",
       "1600-1900       1\n",
       "165             1\n",
       "1650            1\n",
       "1654            1\n",
       "1668            1\n",
       "1700            5\n",
       "1700-1930       1\n",
       "1750            1\n",
       "1800            3\n",
       "1800-2200       1\n",
       "1850            4\n",
       "1850-2100       1\n",
       "1900            4\n",
       "1900-2000       1\n",
       "1900-2100       1\n",
       "1905            2\n",
       "1943            1\n",
       "1950            1\n",
       "200-300         3\n",
       "200-400         1\n",
       "2000            2\n",
       "2100            1\n",
       "2150 - 2350     1\n",
       "230             1\n",
       "2361            1\n",
       "250-300         2\n",
       "250-400         1\n",
       "300             3\n",
       "300-500         1\n",
       "340             1\n",
       "350-400         1\n",
       "400             1\n",
       "400-600         1\n",
       "435             1\n",
       "460             1\n",
       "465             1\n",
       "4700            1\n",
       "4895            1\n",
       "4895 A 5650     1\n",
       "500             1\n",
       "520             1\n",
       "5400            1\n",
       "600             2\n",
       "600-800         1\n",
       "640             1\n",
       "650             2\n",
       "668             1\n",
       "700             1\n",
       "750             1\n",
       "800             3\n",
       "800-1200        1\n",
       "850             3\n",
       "850-1100        1\n",
       "900             1\n",
       "900-1000        1\n",
       "950             2\n",
       "Name: altitude, dtype: int64"
      ]
     },
     "execution_count": 8,
     "metadata": {},
     "output_type": "execute_result"
    }
   ],
   "source": [
    "df['altitude'].value_counts().sort_index()"
   ]
  },
  {
   "cell_type": "markdown",
   "id": "c0643ba7-c7cb-4c4c-8600-137624bc8dcb",
   "metadata": {},
   "source": [
    "#### 2.2.3.1 select minimum altitude"
   ]
  },
  {
   "cell_type": "code",
   "execution_count": 108,
   "id": "65db0edf-76d4-494b-8930-b20d1cc7a048",
   "metadata": {},
   "outputs": [
    {
     "data": {
      "text/plain": [
       "1000     3\n",
       "1040     1\n",
       "1060     1\n",
       "1100     7\n",
       "1200    28\n",
       "1250     8\n",
       "1280     2\n",
       "1300    13\n",
       "1340     1\n",
       "1350     7\n",
       "1368     5\n",
       "139      1\n",
       "1390     1\n",
       "140      1\n",
       "1400    12\n",
       "1411     1\n",
       "1450     5\n",
       "1470     1\n",
       "150      4\n",
       "1500     7\n",
       "1570     1\n",
       "1574     1\n",
       "1600    14\n",
       "165      1\n",
       "1650     1\n",
       "1654     1\n",
       "1668     1\n",
       "1700     6\n",
       "1750     1\n",
       "1800     4\n",
       "1850     5\n",
       "1900     6\n",
       "1905     2\n",
       "1943     1\n",
       "1950     1\n",
       "200      4\n",
       "2000     2\n",
       "2100     1\n",
       "2150     1\n",
       "230      1\n",
       "2361     1\n",
       "250      3\n",
       "300      4\n",
       "340      1\n",
       "350      1\n",
       "400      2\n",
       "435      1\n",
       "460      1\n",
       "465      1\n",
       "4700     1\n",
       "4895     2\n",
       "500      1\n",
       "520      1\n",
       "5400     1\n",
       "600      3\n",
       "640      1\n",
       "650      2\n",
       "668      1\n",
       "700      1\n",
       "750      1\n",
       "800      4\n",
       "850      4\n",
       "900      2\n",
       "950      2\n",
       "NaN      1\n",
       "Name: altitude_min, dtype: int64"
      ]
     },
     "execution_count": 108,
     "metadata": {},
     "output_type": "execute_result"
    }
   ],
   "source": [
    "df1.altitude = df.altitude.str.replace(' ', '')  # remove all space between words in the column 'altitude'\n",
    "\n",
    "df1[['altitude_min','dummy']] = df1['altitude'].str.split('-',expand=True)\n",
    "df1 = df1.drop('dummy', axis=1)\n",
    "\n",
    "df1[['altitude_min','dummy']] = df1['altitude_min'].str.split('~',expand=True)\n",
    "df1 = df1.drop('dummy', axis=1)\n",
    "\n",
    "df1[['altitude_min','dummy']] = df1['altitude_min'].str.split('A',expand=True)\n",
    "df1 = df1.drop('dummy', axis=1)\n",
    "\n",
    "#df1[['altitude_min']]= df1[['altitude_min']].astype(int)\n",
    "\n",
    "df1['altitude_min'].value_counts(dropna=False).sort_index()  # proc freq including null"
   ]
  },
  {
   "cell_type": "code",
   "execution_count": 72,
   "id": "42fc8dcb-aefd-43b4-9020-5dba6da4fe7b",
   "metadata": {},
   "outputs": [
    {
     "name": "stdout",
     "output_type": "stream",
     "text": [
      "<class 'pandas.core.frame.DataFrame'>\n",
      "RangeIndex: 207 entries, 0 to 206\n",
      "Data columns (total 44 columns):\n",
      " #   Column                 Non-Null Count  Dtype  \n",
      "---  ------                 --------------  -----  \n",
      " 0   unnamed:_0             207 non-null    Int64  \n",
      " 1   id                     207 non-null    Int64  \n",
      " 2   country_of_origin      207 non-null    string \n",
      " 3   farm_name              205 non-null    string \n",
      " 4   lot_number             206 non-null    string \n",
      " 5   mill                   204 non-null    string \n",
      " 6   ico_number             75 non-null     string \n",
      " 7   company                207 non-null    string \n",
      " 8   altitude               206 non-null    object \n",
      " 9   region                 205 non-null    string \n",
      " 10  producer               206 non-null    string \n",
      " 11  number_of_bags         207 non-null    Int64  \n",
      " 12  bag_weight             207 non-null    string \n",
      " 13  in_country_partner     207 non-null    string \n",
      " 14  harvest_year           207 non-null    string \n",
      " 15  grading_date           207 non-null    string \n",
      " 16  owner                  207 non-null    string \n",
      " 17  variety                201 non-null    string \n",
      " 18  status                 207 non-null    string \n",
      " 19  processing_method      202 non-null    string \n",
      " 20  aroma                  207 non-null    Float64\n",
      " 21  flavor                 207 non-null    Float64\n",
      " 22  aftertaste             207 non-null    Float64\n",
      " 23  acidity                207 non-null    Float64\n",
      " 24  body                   207 non-null    Float64\n",
      " 25  balance                207 non-null    Float64\n",
      " 26  uniformity             207 non-null    Float64\n",
      " 27  clean_cup              207 non-null    Int64  \n",
      " 28  sweetness              207 non-null    Int64  \n",
      " 29  overall                207 non-null    Float64\n",
      " 30  defects                207 non-null    Int64  \n",
      " 31  total_cup_points       207 non-null    Float64\n",
      " 32  moisture_percentage    207 non-null    Float64\n",
      " 33  category_one_defects   207 non-null    Int64  \n",
      " 34  quakers                207 non-null    Int64  \n",
      " 35  color                  207 non-null    string \n",
      " 36  category_two_defects   207 non-null    Int64  \n",
      " 37  expiration             207 non-null    string \n",
      " 38  certification_body     207 non-null    string \n",
      " 39  certification_address  207 non-null    string \n",
      " 40  certification_contact  207 non-null    string \n",
      " 41  continent              207 non-null    string \n",
      " 42  altitude_min           206 non-null    float64\n",
      " 43  altitude_group         206 non-null    object \n",
      "dtypes: Float64(10), Int64(9), float64(1), object(2), string(22)\n",
      "memory usage: 75.1+ KB\n"
     ]
    }
   ],
   "source": [
    "df1.info()"
   ]
  },
  {
   "cell_type": "markdown",
   "id": "ea467f83-edc8-4c21-bfe5-bba5c9797c93",
   "metadata": {},
   "source": [
    "#### 2.2.3.2 check null value in altitude_min"
   ]
  },
  {
   "cell_type": "code",
   "execution_count": 83,
   "id": "e294b047-98ca-4a82-b07a-d1eba59ed19c",
   "metadata": {},
   "outputs": [
    {
     "data": {
      "text/plain": [
       "True"
      ]
     },
     "execution_count": 83,
     "metadata": {},
     "output_type": "execute_result"
    }
   ],
   "source": [
    "df1['altitude_min'].isnull().values.any() # check whether there is null value"
   ]
  },
  {
   "cell_type": "markdown",
   "id": "a311affd-5786-43a0-a40b-49c946c196ac",
   "metadata": {},
   "source": [
    "#### 2.2.3.3 as there are null values, change type to Float instead of Integer"
   ]
  },
  {
   "cell_type": "code",
   "execution_count": 109,
   "id": "76af5720-704e-40cb-8c63-b0dbe27e88c7",
   "metadata": {},
   "outputs": [],
   "source": [
    "df1[['altitude_min']] = df1[['altitude_min']].astype(float)"
   ]
  },
  {
   "cell_type": "code",
   "execution_count": 106,
   "id": "78261d8a-9e83-4906-b6f9-3b8abd74cd7a",
   "metadata": {},
   "outputs": [
    {
     "name": "stdout",
     "output_type": "stream",
     "text": [
      "<class 'pandas.core.frame.DataFrame'>\n",
      "RangeIndex: 207 entries, 0 to 206\n",
      "Data columns (total 44 columns):\n",
      " #   Column                 Non-Null Count  Dtype  \n",
      "---  ------                 --------------  -----  \n",
      " 0   unnamed:_0             207 non-null    Int64  \n",
      " 1   id                     207 non-null    Int64  \n",
      " 2   country_of_origin      207 non-null    string \n",
      " 3   farm_name              205 non-null    string \n",
      " 4   lot_number             206 non-null    string \n",
      " 5   mill                   204 non-null    string \n",
      " 6   ico_number             75 non-null     string \n",
      " 7   company                207 non-null    string \n",
      " 8   altitude               206 non-null    object \n",
      " 9   region                 205 non-null    string \n",
      " 10  producer               206 non-null    string \n",
      " 11  number_of_bags         207 non-null    Int64  \n",
      " 12  bag_weight             207 non-null    string \n",
      " 13  in_country_partner     207 non-null    string \n",
      " 14  harvest_year           207 non-null    string \n",
      " 15  grading_date           207 non-null    string \n",
      " 16  owner                  207 non-null    string \n",
      " 17  variety                201 non-null    string \n",
      " 18  status                 207 non-null    string \n",
      " 19  processing_method      202 non-null    string \n",
      " 20  aroma                  207 non-null    Float64\n",
      " 21  flavor                 207 non-null    Float64\n",
      " 22  aftertaste             207 non-null    Float64\n",
      " 23  acidity                207 non-null    Float64\n",
      " 24  body                   207 non-null    Float64\n",
      " 25  balance                207 non-null    Float64\n",
      " 26  uniformity             207 non-null    Float64\n",
      " 27  clean_cup              207 non-null    Int64  \n",
      " 28  sweetness              207 non-null    Int64  \n",
      " 29  overall                207 non-null    Float64\n",
      " 30  defects                207 non-null    Int64  \n",
      " 31  total_cup_points       207 non-null    Float64\n",
      " 32  moisture_percentage    207 non-null    Float64\n",
      " 33  category_one_defects   207 non-null    Int64  \n",
      " 34  quakers                207 non-null    Int64  \n",
      " 35  color                  207 non-null    string \n",
      " 36  category_two_defects   207 non-null    Int64  \n",
      " 37  expiration             207 non-null    string \n",
      " 38  certification_body     207 non-null    string \n",
      " 39  certification_address  207 non-null    string \n",
      " 40  certification_contact  207 non-null    string \n",
      " 41  continent              207 non-null    string \n",
      " 42  altitude_min           206 non-null    object \n",
      " 43  altitude_group         207 non-null    object \n",
      "dtypes: Float64(10), Int64(9), object(3), string(22)\n",
      "memory usage: 75.1+ KB\n"
     ]
    }
   ],
   "source": [
    "df1.info()"
   ]
  },
  {
   "cell_type": "markdown",
   "id": "a3d90f0d-bcac-4649-86d9-894e5ab212b0",
   "metadata": {},
   "source": [
    "#### 2.2.3.4 check data type of altitude_min"
   ]
  },
  {
   "cell_type": "code",
   "execution_count": 110,
   "id": "a34f369f-38a8-4656-850e-4ccd57a30e51",
   "metadata": {},
   "outputs": [
    {
     "data": {
      "text/plain": [
       "139.0    1\n",
       "140.0    1\n",
       "150.0    4\n",
       "165.0    1\n",
       "200.0    4\n",
       "230.0    1\n",
       "250.0    3\n",
       "Name: altitude_min, dtype: int64"
      ]
     },
     "execution_count": 110,
     "metadata": {},
     "output_type": "execute_result"
    }
   ],
   "source": [
    "df_valid = df1[ (df1.altitude_min<300) ]\n",
    "df_valid.altitude_min.value_counts(dropna=False).sort_index()"
   ]
  },
  {
   "cell_type": "markdown",
   "id": "bc328892-3617-46c3-adb4-28003c568be8",
   "metadata": {},
   "source": [
    "#### 2.2.3.5 assign altitude group"
   ]
  },
  {
   "cell_type": "code",
   "execution_count": 117,
   "id": "02a535bf-a5c0-455f-80df-2923e346f17a",
   "metadata": {},
   "outputs": [
    {
     "data": {
      "text/plain": [
       "1. <500            26\n",
       "2. 500-<1.000      23\n",
       "3. 1,000-<1,200    12\n",
       "4. 1,200-<1,400    65\n",
       "5. 1,400-<1,600    28\n",
       "6. 1,600-<1,800    24\n",
       "7. 1,800-<2,000    19\n",
       "8. 2,000+           9\n",
       "8. Missing          1\n",
       "Name: altitude_group, dtype: int64"
      ]
     },
     "execution_count": 117,
     "metadata": {},
     "output_type": "execute_result"
    }
   ],
   "source": [
    "def altitude_grouping(row):\n",
    "    if row['altitude_min'] < 500:\n",
    "        val = '1. <500'\n",
    "    elif row['altitude_min'] < 1000:\n",
    "        val = '2. 500-<1.000'\n",
    "    elif row['altitude_min'] < 1200:\n",
    "        val = '3. 1,000-<1,200'\n",
    "    elif row['altitude_min'] < 1400:\n",
    "        val = '4. 1,200-<1,400'\n",
    "    elif row['altitude_min'] < 1600:\n",
    "        val = '5. 1,400-<1,600'\n",
    "    elif row['altitude_min'] < 1800:\n",
    "        val = '6. 1,600-<1,800'\n",
    "    elif row['altitude_min'] < 2000:\n",
    "        val = '7. 1,800-<2,000'\n",
    "    elif row['altitude_min'] >= 2000:\n",
    "        val = '8. 2,000+'\n",
    "    else:\n",
    "        val = '8. Missing'\n",
    "    return val\n",
    "\n",
    "df1['altitude_group']=df1.apply(altitude_grouping, axis=1)\n",
    "df1['altitude_group'].value_counts().sort_index()"
   ]
  },
  {
   "cell_type": "code",
   "execution_count": 118,
   "id": "46969285-f24f-41c0-96ab-1c2002f749b9",
   "metadata": {},
   "outputs": [
    {
     "name": "stdout",
     "output_type": "stream",
     "text": [
      "     altitude_group  altitude_min  count\n",
      "0           1. <500         139.0      1\n",
      "1           1. <500         140.0      1\n",
      "2           1. <500         150.0      4\n",
      "3           1. <500         165.0      1\n",
      "4           1. <500         200.0      4\n",
      "5           1. <500         230.0      1\n",
      "6           1. <500         250.0      3\n",
      "7           1. <500         300.0      4\n",
      "8           1. <500         340.0      1\n",
      "9           1. <500         350.0      1\n",
      "10          1. <500         400.0      2\n",
      "11          1. <500         435.0      1\n",
      "12          1. <500         460.0      1\n",
      "13          1. <500         465.0      1\n",
      "14    2. 500-<1.000         500.0      1\n",
      "15    2. 500-<1.000         520.0      1\n",
      "16    2. 500-<1.000         600.0      3\n",
      "17    2. 500-<1.000         640.0      1\n",
      "18    2. 500-<1.000         650.0      2\n",
      "19    2. 500-<1.000         668.0      1\n",
      "20    2. 500-<1.000         700.0      1\n",
      "21    2. 500-<1.000         750.0      1\n",
      "22    2. 500-<1.000         800.0      4\n",
      "23    2. 500-<1.000         850.0      4\n",
      "24    2. 500-<1.000         900.0      2\n",
      "25    2. 500-<1.000         950.0      2\n",
      "26  3. 1,000-<1,200        1000.0      3\n",
      "27  3. 1,000-<1,200        1040.0      1\n",
      "28  3. 1,000-<1,200        1060.0      1\n",
      "29  3. 1,000-<1,200        1100.0      7\n",
      "30  4. 1,200-<1,400        1200.0     28\n",
      "31  4. 1,200-<1,400        1250.0      8\n",
      "32  4. 1,200-<1,400        1280.0      2\n",
      "33  4. 1,200-<1,400        1300.0     13\n",
      "34  4. 1,200-<1,400        1340.0      1\n",
      "35  4. 1,200-<1,400        1350.0      7\n",
      "36  4. 1,200-<1,400        1368.0      5\n",
      "37  4. 1,200-<1,400        1390.0      1\n",
      "38  5. 1,400-<1,600        1400.0     12\n",
      "39  5. 1,400-<1,600        1411.0      1\n",
      "40  5. 1,400-<1,600        1450.0      5\n",
      "41  5. 1,400-<1,600        1470.0      1\n",
      "42  5. 1,400-<1,600        1500.0      7\n",
      "43  5. 1,400-<1,600        1570.0      1\n",
      "44  5. 1,400-<1,600        1574.0      1\n",
      "45  6. 1,600-<1,800        1600.0     14\n",
      "46  6. 1,600-<1,800        1650.0      1\n",
      "47  6. 1,600-<1,800        1654.0      1\n",
      "48  6. 1,600-<1,800        1668.0      1\n",
      "49  6. 1,600-<1,800        1700.0      6\n",
      "50  6. 1,600-<1,800        1750.0      1\n",
      "51  7. 1,800-<2,000        1800.0      4\n",
      "52  7. 1,800-<2,000        1850.0      5\n",
      "53  7. 1,800-<2,000        1900.0      6\n",
      "54  7. 1,800-<2,000        1905.0      2\n",
      "55  7. 1,800-<2,000        1943.0      1\n",
      "56  7. 1,800-<2,000        1950.0      1\n",
      "57        8. 2,000+        2000.0      2\n",
      "58        8. 2,000+        2100.0      1\n",
      "59        8. 2,000+        2150.0      1\n",
      "60        8. 2,000+        2361.0      1\n",
      "61        8. 2,000+        4700.0      1\n",
      "62        8. 2,000+        4895.0      2\n",
      "63        8. 2,000+        5400.0      1\n"
     ]
    }
   ],
   "source": [
    "dfg = df1.groupby(by=['altitude_group', 'altitude_min']).size().reset_index(name=\"count\")\n",
    "print(dfg)"
   ]
  },
  {
   "cell_type": "code",
   "execution_count": 113,
   "id": "7898fa19-f2e8-417c-97df-c9df85a8d915",
   "metadata": {},
   "outputs": [
    {
     "data": {
      "text/plain": [
       "'\\ndf1[\\'altitude_group\\'] = \\'99.Missing\\'\\ndf1.loc[df1[\\'altitude_min\\']<500,  \\'altitude_group\\'] = \\'01. <500\\'\\ndf1.loc[df1[\\'altitude_min\\']>=500, \\'altitude_group\\'] = \\'02. 500-<1,000\\'\\ndf1.loc[df1[\\'altitude_min\\']>=1000, \\'altitude_group\\'] = \\'03. 1,000-<1,200\\'\\ndf1.loc[df1[\\'altitude_min\\']>=1200, \\'altitude_group\\'] = \\'04. 1,200-<1,400\\'\\ndf1.loc[df1[\\'altitude_min\\']>=1400, \\'altitude_group\\'] = \\'05. 1,400-<1,600\\'\\ndf1.loc[df1[\\'altitude_min\\']>=1600, \\'altitude_group\\'] = \\'06. 1,600-<1,800\\'\\ndf1.loc[df1[\\'altitude_min\\']>=1800, \\'altitude_group\\'] = \\'07. 1,800-<2,000\\'\\ndf1.loc[df1[\\'altitude_min\\']>=2000, \\'altitude_group\\'] = \\'08. 2,000+\\'\\n\\n#dfg = df1.groupby(by=[\\'altitude_group\\', \\'altitude_min\\']).size().reset_index(name=\"count\")\\n#print(dfg)\\n\\ndf1.altitude_group.value_counts(dropna=False).sort_index()\\n'"
      ]
     },
     "execution_count": 113,
     "metadata": {},
     "output_type": "execute_result"
    }
   ],
   "source": [
    "'''\n",
    "df1['altitude_group'] = '99.Missing'\n",
    "df1.loc[df1['altitude_min']<500,  'altitude_group'] = '01. <500'\n",
    "df1.loc[df1['altitude_min']>=500, 'altitude_group'] = '02. 500-<1,000'\n",
    "df1.loc[df1['altitude_min']>=1000, 'altitude_group'] = '03. 1,000-<1,200'\n",
    "df1.loc[df1['altitude_min']>=1200, 'altitude_group'] = '04. 1,200-<1,400'\n",
    "df1.loc[df1['altitude_min']>=1400, 'altitude_group'] = '05. 1,400-<1,600'\n",
    "df1.loc[df1['altitude_min']>=1600, 'altitude_group'] = '06. 1,600-<1,800'\n",
    "df1.loc[df1['altitude_min']>=1800, 'altitude_group'] = '07. 1,800-<2,000'\n",
    "df1.loc[df1['altitude_min']>=2000, 'altitude_group'] = '08. 2,000+'\n",
    "\n",
    "#dfg = df1.groupby(by=['altitude_group', 'altitude_min']).size().reset_index(name=\"count\")\n",
    "#print(dfg)\n",
    "\n",
    "df1.altitude_group.value_counts(dropna=False).sort_index()\n",
    "'''"
   ]
  },
  {
   "cell_type": "markdown",
   "id": "bab9b6fe-019c-412a-a2aa-ecdd50825bca",
   "metadata": {},
   "source": [
    "### >>>> change dataframe"
   ]
  },
  {
   "cell_type": "code",
   "execution_count": 119,
   "id": "41d9fe38-59bb-42e3-91be-5ebcf3ea4185",
   "metadata": {},
   "outputs": [
    {
     "data": {
      "text/plain": [
       "1. <500            26\n",
       "2. 500-<1.000      23\n",
       "3. 1,000-<1,200    12\n",
       "4. 1,200-<1,400    65\n",
       "5. 1,400-<1,600    28\n",
       "6. 1,600-<1,800    24\n",
       "7. 1,800-<2,000    19\n",
       "8. 2,000+           9\n",
       "8. Missing          1\n",
       "Name: altitude_group, dtype: int64"
      ]
     },
     "execution_count": 119,
     "metadata": {},
     "output_type": "execute_result"
    }
   ],
   "source": [
    "# 2.2.3.1 select minimum altitude\n",
    "\n",
    "df.altitude = df.altitude.str.replace(' ', '')  # remove all space between words in the column 'altitude'\n",
    "\n",
    "df[['altitude_min','dummy']] = df['altitude'].str.split('-',expand=True)\n",
    "df = df.drop('dummy', axis=1)\n",
    "\n",
    "df[['altitude_min','dummy']] = df['altitude_min'].str.split('~',expand=True)\n",
    "df = df.drop('dummy', axis=1)\n",
    "\n",
    "df[['altitude_min','dummy']] = df['altitude_min'].str.split('A',expand=True)\n",
    "df = df.drop('dummy', axis=1)\n",
    "\n",
    "#df1[['altitude_min']]= df1[['altitude_min']].astype(int)\n",
    "\n",
    "df['altitude_min'].value_counts(dropna=False).sort_index()  # proc freq including null\n",
    "\n",
    "\n",
    "# 2.2.3.3 as there are null values, change type to Float instead of Integer\n",
    "df[['altitude_min']] = df1[['altitude_min']].astype(float)\n",
    "\n",
    "# 2.2.3.5 assign altitude group\n",
    "def altitude_grouping(row):\n",
    "    if row['altitude_min'] < 500:\n",
    "        val = '1. <500'\n",
    "    elif row['altitude_min'] < 1000:\n",
    "        val = '2. 500-<1.000'\n",
    "    elif row['altitude_min'] < 1200:\n",
    "        val = '3. 1,000-<1,200'\n",
    "    elif row['altitude_min'] < 1400:\n",
    "        val = '4. 1,200-<1,400'\n",
    "    elif row['altitude_min'] < 1600:\n",
    "        val = '5. 1,400-<1,600'\n",
    "    elif row['altitude_min'] < 1800:\n",
    "        val = '6. 1,600-<1,800'\n",
    "    elif row['altitude_min'] < 2000:\n",
    "        val = '7. 1,800-<2,000'\n",
    "    elif row['altitude_min'] >= 2000:\n",
    "        val = '8. 2,000+'\n",
    "    else:\n",
    "        val = '8. Missing'\n",
    "    return val\n",
    "\n",
    "df['altitude_group']=df.apply(altitude_grouping, axis=1)\n",
    "\n",
    "\n",
    "df['altitude_group'].value_counts().sort_index()"
   ]
  },
  {
   "cell_type": "code",
   "execution_count": 121,
   "id": "d958caf5-64c7-41d4-b428-97428616068e",
   "metadata": {},
   "outputs": [
    {
     "name": "stdout",
     "output_type": "stream",
     "text": [
      "   index   altitude_group  frequency  minimum  maximum\n",
      "0      0          1. <500         26    139.0    465.0\n",
      "1      1    2. 500-<1.000         23    500.0    950.0\n",
      "2      2  3. 1,000-<1,200         12   1000.0   1100.0\n",
      "3      3  4. 1,200-<1,400         65   1200.0   1390.0\n",
      "4      4  5. 1,400-<1,600         28   1400.0   1574.0\n",
      "5      5  6. 1,600-<1,800         24   1600.0   1750.0\n",
      "6      6  7. 1,800-<2,000         19   1800.0   1950.0\n",
      "7      7        8. 2,000+          9   2000.0   5400.0\n",
      "8      8       8. Missing          0      NaN      NaN\n"
     ]
    }
   ],
   "source": [
    "df_chk = df.groupby('altitude_group',as_index=False).agg(\n",
    "              frequency =('altitude_min','count'),\n",
    "              minimum =('altitude_min','min'),\n",
    "              maximum =('altitude_min','max')\n",
    "             ).reset_index()\n",
    "print(df_chk)"
   ]
  },
  {
   "cell_type": "markdown",
   "id": "5dcdd009-b88f-4861-ba45-178410ac0b9a",
   "metadata": {},
   "source": [
    "# 3. Explore data"
   ]
  },
  {
   "cell_type": "code",
   "execution_count": 22,
   "id": "7aa6959d-a3ca-4a86-988f-d3b91d3757be",
   "metadata": {},
   "outputs": [
    {
     "data": {
      "text/html": [
       "<div>\n",
       "<style scoped>\n",
       "    .dataframe tbody tr th:only-of-type {\n",
       "        vertical-align: middle;\n",
       "    }\n",
       "\n",
       "    .dataframe tbody tr th {\n",
       "        vertical-align: top;\n",
       "    }\n",
       "\n",
       "    .dataframe thead th {\n",
       "        text-align: right;\n",
       "    }\n",
       "</style>\n",
       "<table border=\"1\" class=\"dataframe\">\n",
       "  <thead>\n",
       "    <tr style=\"text-align: right;\">\n",
       "      <th></th>\n",
       "      <th>id</th>\n",
       "      <th>country_of_origin</th>\n",
       "      <th>farm_name</th>\n",
       "      <th>lot_number</th>\n",
       "      <th>mill</th>\n",
       "    </tr>\n",
       "  </thead>\n",
       "  <tbody>\n",
       "    <tr>\n",
       "      <th>0</th>\n",
       "      <td>0</td>\n",
       "      <td>Colombia</td>\n",
       "      <td>Finca El Paraiso</td>\n",
       "      <td>CQU2022015</td>\n",
       "      <td>Finca El Paraiso</td>\n",
       "    </tr>\n",
       "    <tr>\n",
       "      <th>1</th>\n",
       "      <td>1</td>\n",
       "      <td>Taiwan</td>\n",
       "      <td>Royal Bean Geisha Estate</td>\n",
       "      <td>The 2022 Pacific Rim Coffee Summit,T037</td>\n",
       "      <td>Royal Bean Geisha Estate</td>\n",
       "    </tr>\n",
       "    <tr>\n",
       "      <th>2</th>\n",
       "      <td>2</td>\n",
       "      <td>Laos</td>\n",
       "      <td>OKLAO coffee farms</td>\n",
       "      <td>The 2022 Pacific Rim Coffee Summit,LA01</td>\n",
       "      <td>oklao coffee processing plant</td>\n",
       "    </tr>\n",
       "    <tr>\n",
       "      <th>3</th>\n",
       "      <td>3</td>\n",
       "      <td>Costa Rica</td>\n",
       "      <td>La Cumbre</td>\n",
       "      <td>CQU2022017</td>\n",
       "      <td>La Montana Tarrazu MIll</td>\n",
       "    </tr>\n",
       "    <tr>\n",
       "      <th>4</th>\n",
       "      <td>4</td>\n",
       "      <td>Colombia</td>\n",
       "      <td>Finca Santuario</td>\n",
       "      <td>CQU2023002</td>\n",
       "      <td>Finca Santuario</td>\n",
       "    </tr>\n",
       "  </tbody>\n",
       "</table>\n",
       "</div>"
      ]
     },
     "metadata": {},
     "output_type": "display_data"
    },
    {
     "data": {
      "text/html": [
       "<div>\n",
       "<style scoped>\n",
       "    .dataframe tbody tr th:only-of-type {\n",
       "        vertical-align: middle;\n",
       "    }\n",
       "\n",
       "    .dataframe tbody tr th {\n",
       "        vertical-align: top;\n",
       "    }\n",
       "\n",
       "    .dataframe thead th {\n",
       "        text-align: right;\n",
       "    }\n",
       "</style>\n",
       "<table border=\"1\" class=\"dataframe\">\n",
       "  <thead>\n",
       "    <tr style=\"text-align: right;\">\n",
       "      <th></th>\n",
       "      <th>ico_number</th>\n",
       "      <th>company</th>\n",
       "      <th>altitude</th>\n",
       "      <th>region</th>\n",
       "      <th>producer</th>\n",
       "    </tr>\n",
       "  </thead>\n",
       "  <tbody>\n",
       "    <tr>\n",
       "      <th>0</th>\n",
       "      <td>NaN</td>\n",
       "      <td>Coffee Quality Union</td>\n",
       "      <td>1700-1930</td>\n",
       "      <td>Piendamo,Cauca</td>\n",
       "      <td>Diego Samuel Bermudez</td>\n",
       "    </tr>\n",
       "    <tr>\n",
       "      <th>1</th>\n",
       "      <td>NaN</td>\n",
       "      <td>Taiwan Coffee Laboratory</td>\n",
       "      <td>1200</td>\n",
       "      <td>Chiayi</td>\n",
       "      <td>曾福森</td>\n",
       "    </tr>\n",
       "    <tr>\n",
       "      <th>2</th>\n",
       "      <td>NaN</td>\n",
       "      <td>Taiwan Coffee Laboratory</td>\n",
       "      <td>1300</td>\n",
       "      <td>Laos Borofen Plateau</td>\n",
       "      <td>WU TAO CHI</td>\n",
       "    </tr>\n",
       "    <tr>\n",
       "      <th>3</th>\n",
       "      <td>NaN</td>\n",
       "      <td>Coffee Quality Union</td>\n",
       "      <td>1900</td>\n",
       "      <td>Los Santos,Tarrazu</td>\n",
       "      <td>Santa Maria de Dota</td>\n",
       "    </tr>\n",
       "    <tr>\n",
       "      <th>4</th>\n",
       "      <td>NaN</td>\n",
       "      <td>Coffee Quality Union</td>\n",
       "      <td>1850-2100</td>\n",
       "      <td>Popayan,Cauca</td>\n",
       "      <td>Camilo Merizalde</td>\n",
       "    </tr>\n",
       "  </tbody>\n",
       "</table>\n",
       "</div>"
      ]
     },
     "metadata": {},
     "output_type": "display_data"
    },
    {
     "data": {
      "text/html": [
       "<div>\n",
       "<style scoped>\n",
       "    .dataframe tbody tr th:only-of-type {\n",
       "        vertical-align: middle;\n",
       "    }\n",
       "\n",
       "    .dataframe tbody tr th {\n",
       "        vertical-align: top;\n",
       "    }\n",
       "\n",
       "    .dataframe thead th {\n",
       "        text-align: right;\n",
       "    }\n",
       "</style>\n",
       "<table border=\"1\" class=\"dataframe\">\n",
       "  <thead>\n",
       "    <tr style=\"text-align: right;\">\n",
       "      <th></th>\n",
       "      <th>number_of_bags</th>\n",
       "      <th>bag_weight</th>\n",
       "      <th>in_country_partner</th>\n",
       "      <th>harvest_year</th>\n",
       "      <th>grading_date</th>\n",
       "    </tr>\n",
       "  </thead>\n",
       "  <tbody>\n",
       "    <tr>\n",
       "      <th>0</th>\n",
       "      <td>1</td>\n",
       "      <td>35 kg</td>\n",
       "      <td>Japan Coffee Exchange</td>\n",
       "      <td>2021 / 2022</td>\n",
       "      <td>September 21st, 2022</td>\n",
       "    </tr>\n",
       "    <tr>\n",
       "      <th>1</th>\n",
       "      <td>1</td>\n",
       "      <td>80 kg</td>\n",
       "      <td>Taiwan Coffee Laboratory 台灣咖啡研究室</td>\n",
       "      <td>2021 / 2022</td>\n",
       "      <td>November 15th, 2022</td>\n",
       "    </tr>\n",
       "    <tr>\n",
       "      <th>2</th>\n",
       "      <td>19</td>\n",
       "      <td>25 kg</td>\n",
       "      <td>Taiwan Coffee Laboratory 台灣咖啡研究室</td>\n",
       "      <td>2021 / 2022</td>\n",
       "      <td>November 15th, 2022</td>\n",
       "    </tr>\n",
       "    <tr>\n",
       "      <th>3</th>\n",
       "      <td>1</td>\n",
       "      <td>22 kg</td>\n",
       "      <td>Japan Coffee Exchange</td>\n",
       "      <td>2022</td>\n",
       "      <td>September 21st, 2022</td>\n",
       "    </tr>\n",
       "    <tr>\n",
       "      <th>4</th>\n",
       "      <td>2</td>\n",
       "      <td>24 kg</td>\n",
       "      <td>Japan Coffee Exchange</td>\n",
       "      <td>2022</td>\n",
       "      <td>March 6th, 2023</td>\n",
       "    </tr>\n",
       "  </tbody>\n",
       "</table>\n",
       "</div>"
      ]
     },
     "metadata": {},
     "output_type": "display_data"
    },
    {
     "data": {
      "text/html": [
       "<div>\n",
       "<style scoped>\n",
       "    .dataframe tbody tr th:only-of-type {\n",
       "        vertical-align: middle;\n",
       "    }\n",
       "\n",
       "    .dataframe tbody tr th {\n",
       "        vertical-align: top;\n",
       "    }\n",
       "\n",
       "    .dataframe thead th {\n",
       "        text-align: right;\n",
       "    }\n",
       "</style>\n",
       "<table border=\"1\" class=\"dataframe\">\n",
       "  <thead>\n",
       "    <tr style=\"text-align: right;\">\n",
       "      <th></th>\n",
       "      <th>owner</th>\n",
       "      <th>variety</th>\n",
       "      <th>status</th>\n",
       "      <th>processing_method</th>\n",
       "      <th>aroma</th>\n",
       "    </tr>\n",
       "  </thead>\n",
       "  <tbody>\n",
       "    <tr>\n",
       "      <th>0</th>\n",
       "      <td>Coffee Quality Union</td>\n",
       "      <td>Castillo</td>\n",
       "      <td>Completed</td>\n",
       "      <td>Double Anaerobic Washed</td>\n",
       "      <td>8.58</td>\n",
       "    </tr>\n",
       "    <tr>\n",
       "      <th>1</th>\n",
       "      <td>Taiwan Coffee Laboratory 台灣咖啡研究室</td>\n",
       "      <td>Gesha</td>\n",
       "      <td>Completed</td>\n",
       "      <td>Washed / Wet</td>\n",
       "      <td>8.50</td>\n",
       "    </tr>\n",
       "    <tr>\n",
       "      <th>2</th>\n",
       "      <td>Taiwan Coffee Laboratory 台灣咖啡研究室</td>\n",
       "      <td>Java</td>\n",
       "      <td>Completed</td>\n",
       "      <td>Semi Washed</td>\n",
       "      <td>8.33</td>\n",
       "    </tr>\n",
       "    <tr>\n",
       "      <th>3</th>\n",
       "      <td>Coffee Quality Union</td>\n",
       "      <td>Gesha</td>\n",
       "      <td>Completed</td>\n",
       "      <td>Washed / Wet</td>\n",
       "      <td>8.08</td>\n",
       "    </tr>\n",
       "    <tr>\n",
       "      <th>4</th>\n",
       "      <td>Coffee Quality Union</td>\n",
       "      <td>Red Bourbon</td>\n",
       "      <td>Completed</td>\n",
       "      <td>Honey,Mossto</td>\n",
       "      <td>8.33</td>\n",
       "    </tr>\n",
       "  </tbody>\n",
       "</table>\n",
       "</div>"
      ]
     },
     "metadata": {},
     "output_type": "display_data"
    },
    {
     "data": {
      "text/html": [
       "<div>\n",
       "<style scoped>\n",
       "    .dataframe tbody tr th:only-of-type {\n",
       "        vertical-align: middle;\n",
       "    }\n",
       "\n",
       "    .dataframe tbody tr th {\n",
       "        vertical-align: top;\n",
       "    }\n",
       "\n",
       "    .dataframe thead th {\n",
       "        text-align: right;\n",
       "    }\n",
       "</style>\n",
       "<table border=\"1\" class=\"dataframe\">\n",
       "  <thead>\n",
       "    <tr style=\"text-align: right;\">\n",
       "      <th></th>\n",
       "      <th>flavor</th>\n",
       "      <th>aftertaste</th>\n",
       "      <th>acidity</th>\n",
       "      <th>body</th>\n",
       "      <th>balance</th>\n",
       "    </tr>\n",
       "  </thead>\n",
       "  <tbody>\n",
       "    <tr>\n",
       "      <th>0</th>\n",
       "      <td>8.50</td>\n",
       "      <td>8.42</td>\n",
       "      <td>8.58</td>\n",
       "      <td>8.25</td>\n",
       "      <td>8.42</td>\n",
       "    </tr>\n",
       "    <tr>\n",
       "      <th>1</th>\n",
       "      <td>8.50</td>\n",
       "      <td>7.92</td>\n",
       "      <td>8.00</td>\n",
       "      <td>7.92</td>\n",
       "      <td>8.25</td>\n",
       "    </tr>\n",
       "    <tr>\n",
       "      <th>2</th>\n",
       "      <td>8.42</td>\n",
       "      <td>8.08</td>\n",
       "      <td>8.17</td>\n",
       "      <td>7.92</td>\n",
       "      <td>8.17</td>\n",
       "    </tr>\n",
       "    <tr>\n",
       "      <th>3</th>\n",
       "      <td>8.17</td>\n",
       "      <td>8.17</td>\n",
       "      <td>8.25</td>\n",
       "      <td>8.17</td>\n",
       "      <td>8.08</td>\n",
       "    </tr>\n",
       "    <tr>\n",
       "      <th>4</th>\n",
       "      <td>8.33</td>\n",
       "      <td>8.08</td>\n",
       "      <td>8.25</td>\n",
       "      <td>7.92</td>\n",
       "      <td>7.92</td>\n",
       "    </tr>\n",
       "  </tbody>\n",
       "</table>\n",
       "</div>"
      ]
     },
     "metadata": {},
     "output_type": "display_data"
    },
    {
     "data": {
      "text/html": [
       "<div>\n",
       "<style scoped>\n",
       "    .dataframe tbody tr th:only-of-type {\n",
       "        vertical-align: middle;\n",
       "    }\n",
       "\n",
       "    .dataframe tbody tr th {\n",
       "        vertical-align: top;\n",
       "    }\n",
       "\n",
       "    .dataframe thead th {\n",
       "        text-align: right;\n",
       "    }\n",
       "</style>\n",
       "<table border=\"1\" class=\"dataframe\">\n",
       "  <thead>\n",
       "    <tr style=\"text-align: right;\">\n",
       "      <th></th>\n",
       "      <th>uniformity</th>\n",
       "      <th>clean_cup</th>\n",
       "      <th>sweetness</th>\n",
       "      <th>overall</th>\n",
       "      <th>defects</th>\n",
       "    </tr>\n",
       "  </thead>\n",
       "  <tbody>\n",
       "    <tr>\n",
       "      <th>0</th>\n",
       "      <td>10.0</td>\n",
       "      <td>10.0</td>\n",
       "      <td>10.0</td>\n",
       "      <td>8.58</td>\n",
       "      <td>0.0</td>\n",
       "    </tr>\n",
       "    <tr>\n",
       "      <th>1</th>\n",
       "      <td>10.0</td>\n",
       "      <td>10.0</td>\n",
       "      <td>10.0</td>\n",
       "      <td>8.50</td>\n",
       "      <td>0.0</td>\n",
       "    </tr>\n",
       "    <tr>\n",
       "      <th>2</th>\n",
       "      <td>10.0</td>\n",
       "      <td>10.0</td>\n",
       "      <td>10.0</td>\n",
       "      <td>8.33</td>\n",
       "      <td>0.0</td>\n",
       "    </tr>\n",
       "    <tr>\n",
       "      <th>3</th>\n",
       "      <td>10.0</td>\n",
       "      <td>10.0</td>\n",
       "      <td>10.0</td>\n",
       "      <td>8.25</td>\n",
       "      <td>0.0</td>\n",
       "    </tr>\n",
       "    <tr>\n",
       "      <th>4</th>\n",
       "      <td>10.0</td>\n",
       "      <td>10.0</td>\n",
       "      <td>10.0</td>\n",
       "      <td>8.25</td>\n",
       "      <td>0.0</td>\n",
       "    </tr>\n",
       "  </tbody>\n",
       "</table>\n",
       "</div>"
      ]
     },
     "metadata": {},
     "output_type": "display_data"
    },
    {
     "data": {
      "text/html": [
       "<div>\n",
       "<style scoped>\n",
       "    .dataframe tbody tr th:only-of-type {\n",
       "        vertical-align: middle;\n",
       "    }\n",
       "\n",
       "    .dataframe tbody tr th {\n",
       "        vertical-align: top;\n",
       "    }\n",
       "\n",
       "    .dataframe thead th {\n",
       "        text-align: right;\n",
       "    }\n",
       "</style>\n",
       "<table border=\"1\" class=\"dataframe\">\n",
       "  <thead>\n",
       "    <tr style=\"text-align: right;\">\n",
       "      <th></th>\n",
       "      <th>total_cup_points</th>\n",
       "      <th>moisture_percentage</th>\n",
       "      <th>category_one_defects</th>\n",
       "      <th>quakers</th>\n",
       "      <th>color</th>\n",
       "    </tr>\n",
       "  </thead>\n",
       "  <tbody>\n",
       "    <tr>\n",
       "      <th>0</th>\n",
       "      <td>89.33</td>\n",
       "      <td>11.8</td>\n",
       "      <td>0</td>\n",
       "      <td>0</td>\n",
       "      <td>green</td>\n",
       "    </tr>\n",
       "    <tr>\n",
       "      <th>1</th>\n",
       "      <td>87.58</td>\n",
       "      <td>10.5</td>\n",
       "      <td>0</td>\n",
       "      <td>0</td>\n",
       "      <td>blue-green</td>\n",
       "    </tr>\n",
       "    <tr>\n",
       "      <th>2</th>\n",
       "      <td>87.42</td>\n",
       "      <td>10.4</td>\n",
       "      <td>0</td>\n",
       "      <td>0</td>\n",
       "      <td>yellowish</td>\n",
       "    </tr>\n",
       "    <tr>\n",
       "      <th>3</th>\n",
       "      <td>87.17</td>\n",
       "      <td>11.8</td>\n",
       "      <td>0</td>\n",
       "      <td>0</td>\n",
       "      <td>green</td>\n",
       "    </tr>\n",
       "    <tr>\n",
       "      <th>4</th>\n",
       "      <td>87.08</td>\n",
       "      <td>11.6</td>\n",
       "      <td>0</td>\n",
       "      <td>2</td>\n",
       "      <td>yellow-green</td>\n",
       "    </tr>\n",
       "  </tbody>\n",
       "</table>\n",
       "</div>"
      ]
     },
     "metadata": {},
     "output_type": "display_data"
    },
    {
     "data": {
      "text/html": [
       "<div>\n",
       "<style scoped>\n",
       "    .dataframe tbody tr th:only-of-type {\n",
       "        vertical-align: middle;\n",
       "    }\n",
       "\n",
       "    .dataframe tbody tr th {\n",
       "        vertical-align: top;\n",
       "    }\n",
       "\n",
       "    .dataframe thead th {\n",
       "        text-align: right;\n",
       "    }\n",
       "</style>\n",
       "<table border=\"1\" class=\"dataframe\">\n",
       "  <thead>\n",
       "    <tr style=\"text-align: right;\">\n",
       "      <th></th>\n",
       "      <th>category_two_defects</th>\n",
       "      <th>expiration</th>\n",
       "      <th>certification_body</th>\n",
       "      <th>certification_address</th>\n",
       "      <th>certification_contact</th>\n",
       "    </tr>\n",
       "  </thead>\n",
       "  <tbody>\n",
       "    <tr>\n",
       "      <th>0</th>\n",
       "      <td>3</td>\n",
       "      <td>September 21st, 2023</td>\n",
       "      <td>Japan Coffee Exchange</td>\n",
       "      <td>〒413-0002 静岡県熱海市伊豆山１１７３−５８ 1173-58 Izusan, Ata...</td>\n",
       "      <td>松澤　宏樹　Koju Matsuzawa - +81(0)9085642901</td>\n",
       "    </tr>\n",
       "    <tr>\n",
       "      <th>1</th>\n",
       "      <td>0</td>\n",
       "      <td>November 15th, 2023</td>\n",
       "      <td>Taiwan Coffee Laboratory 台灣咖啡研究室</td>\n",
       "      <td>QAHWAH CO., LTD 4F, No. 225, Sec. 3, Beixin Rd...</td>\n",
       "      <td>Lin, Jen-An Neil 林仁安 - 886-289116612</td>\n",
       "    </tr>\n",
       "    <tr>\n",
       "      <th>2</th>\n",
       "      <td>2</td>\n",
       "      <td>November 15th, 2023</td>\n",
       "      <td>Taiwan Coffee Laboratory 台灣咖啡研究室</td>\n",
       "      <td>QAHWAH CO., LTD 4F, No. 225, Sec. 3, Beixin Rd...</td>\n",
       "      <td>Lin, Jen-An Neil 林仁安 - 886-289116612</td>\n",
       "    </tr>\n",
       "    <tr>\n",
       "      <th>3</th>\n",
       "      <td>0</td>\n",
       "      <td>September 21st, 2023</td>\n",
       "      <td>Japan Coffee Exchange</td>\n",
       "      <td>〒413-0002 静岡県熱海市伊豆山１１７３−５８ 1173-58 Izusan, Ata...</td>\n",
       "      <td>松澤　宏樹　Koju Matsuzawa - +81(0)9085642901</td>\n",
       "    </tr>\n",
       "    <tr>\n",
       "      <th>4</th>\n",
       "      <td>2</td>\n",
       "      <td>March 5th, 2024</td>\n",
       "      <td>Japan Coffee Exchange</td>\n",
       "      <td>〒413-0002 静岡県熱海市伊豆山１１７３−５８ 1173-58 Izusan, Ata...</td>\n",
       "      <td>松澤　宏樹　Koju Matsuzawa - +81(0)9085642901</td>\n",
       "    </tr>\n",
       "  </tbody>\n",
       "</table>\n",
       "</div>"
      ]
     },
     "metadata": {},
     "output_type": "display_data"
    },
    {
     "data": {
      "text/html": [
       "<div>\n",
       "<style scoped>\n",
       "    .dataframe tbody tr th:only-of-type {\n",
       "        vertical-align: middle;\n",
       "    }\n",
       "\n",
       "    .dataframe tbody tr th {\n",
       "        vertical-align: top;\n",
       "    }\n",
       "\n",
       "    .dataframe thead th {\n",
       "        text-align: right;\n",
       "    }\n",
       "</style>\n",
       "<table border=\"1\" class=\"dataframe\">\n",
       "  <thead>\n",
       "    <tr style=\"text-align: right;\">\n",
       "      <th></th>\n",
       "      <th>continent</th>\n",
       "    </tr>\n",
       "  </thead>\n",
       "  <tbody>\n",
       "    <tr>\n",
       "      <th>0</th>\n",
       "      <td>South America</td>\n",
       "    </tr>\n",
       "    <tr>\n",
       "      <th>1</th>\n",
       "      <td>Asia</td>\n",
       "    </tr>\n",
       "    <tr>\n",
       "      <th>2</th>\n",
       "      <td>Asia</td>\n",
       "    </tr>\n",
       "    <tr>\n",
       "      <th>3</th>\n",
       "      <td>North America</td>\n",
       "    </tr>\n",
       "    <tr>\n",
       "      <th>4</th>\n",
       "      <td>South America</td>\n",
       "    </tr>\n",
       "  </tbody>\n",
       "</table>\n",
       "</div>"
      ]
     },
     "metadata": {},
     "output_type": "display_data"
    }
   ],
   "source": [
    "printing(['id', 'country_of_origin', 'farm_name', 'lot_number', 'mill'])\n",
    "printing(['ico_number', 'company', 'altitude', 'region', 'producer'])\n",
    "printing(['number_of_bags', 'bag_weight', 'in_country_partner', 'harvest_year', 'grading_date'])\n",
    "printing(['owner', 'variety', 'status', 'processing_method', 'aroma'])\n",
    "printing(['flavor', 'aftertaste', 'acidity', 'body', 'balance'])\n",
    "printing(['uniformity', 'clean_cup', 'sweetness', 'overall', 'defects'])\n",
    "printing(['total_cup_points', 'moisture_percentage', 'category_one_defects', 'quakers', 'color'])\n",
    "printing(['category_two_defects', 'expiration', 'certification_body', \n",
    "         'certification_address', 'certification_contact']) \n",
    "printing(['continent'])"
   ]
  },
  {
   "cell_type": "code",
   "execution_count": 17,
   "id": "9042db91-8fa1-4c0f-a6c3-41f791af8c7c",
   "metadata": {},
   "outputs": [
    {
     "data": {
      "text/plain": [
       "0"
      ]
     },
     "execution_count": 17,
     "metadata": {},
     "output_type": "execute_result"
    }
   ],
   "source": [
    "# find no. of duplicate rows\n",
    "df_temp = df[df.duplicated()]\n",
    "df_temp.shape[0]"
   ]
  },
  {
   "cell_type": "code",
   "execution_count": 18,
   "id": "f3bf5b80-5e0e-4dd8-a6ae-782d0c520f0d",
   "metadata": {},
   "outputs": [
    {
     "data": {
      "text/plain": [
       "0"
      ]
     },
     "execution_count": 18,
     "metadata": {},
     "output_type": "execute_result"
    }
   ],
   "source": [
    "# find no. of duplicate rows, ignore column 'Unamed: 0'\n",
    "df1 = df.drop('unnamed:_0', axis=1)\n",
    "df_temp = df1[df1.duplicated()]\n",
    "df_temp.shape[0]"
   ]
  },
  {
   "cell_type": "code",
   "execution_count": 19,
   "id": "d6f1d77d-c05a-4393-811b-8d63c9558cd6",
   "metadata": {},
   "outputs": [
    {
     "data": {
      "text/html": [
       "<div>\n",
       "<style scoped>\n",
       "    .dataframe tbody tr th:only-of-type {\n",
       "        vertical-align: middle;\n",
       "    }\n",
       "\n",
       "    .dataframe tbody tr th {\n",
       "        vertical-align: top;\n",
       "    }\n",
       "\n",
       "    .dataframe thead th {\n",
       "        text-align: right;\n",
       "    }\n",
       "</style>\n",
       "<table border=\"1\" class=\"dataframe\">\n",
       "  <thead>\n",
       "    <tr style=\"text-align: right;\">\n",
       "      <th></th>\n",
       "      <th>unnamed:_0</th>\n",
       "      <th>id</th>\n",
       "      <th>number_of_bags</th>\n",
       "      <th>aroma</th>\n",
       "      <th>flavor</th>\n",
       "      <th>aftertaste</th>\n",
       "      <th>acidity</th>\n",
       "      <th>body</th>\n",
       "      <th>balance</th>\n",
       "      <th>uniformity</th>\n",
       "      <th>clean_cup</th>\n",
       "      <th>sweetness</th>\n",
       "      <th>overall</th>\n",
       "      <th>defects</th>\n",
       "      <th>total_cup_points</th>\n",
       "      <th>moisture_percentage</th>\n",
       "      <th>category_one_defects</th>\n",
       "      <th>quakers</th>\n",
       "      <th>category_two_defects</th>\n",
       "    </tr>\n",
       "  </thead>\n",
       "  <tbody>\n",
       "    <tr>\n",
       "      <th>count</th>\n",
       "      <td>207.0</td>\n",
       "      <td>207.0</td>\n",
       "      <td>207.000000</td>\n",
       "      <td>207.000000</td>\n",
       "      <td>207.000000</td>\n",
       "      <td>207.000000</td>\n",
       "      <td>207.00000</td>\n",
       "      <td>207.000000</td>\n",
       "      <td>207.000000</td>\n",
       "      <td>207.000000</td>\n",
       "      <td>207.0</td>\n",
       "      <td>207.0</td>\n",
       "      <td>207.000000</td>\n",
       "      <td>207.0</td>\n",
       "      <td>207.00000</td>\n",
       "      <td>207.000000</td>\n",
       "      <td>207.000000</td>\n",
       "      <td>207.000000</td>\n",
       "      <td>207.000000</td>\n",
       "    </tr>\n",
       "    <tr>\n",
       "      <th>min</th>\n",
       "      <td>0.0</td>\n",
       "      <td>0.0</td>\n",
       "      <td>1.000000</td>\n",
       "      <td>6.500000</td>\n",
       "      <td>6.750000</td>\n",
       "      <td>6.670000</td>\n",
       "      <td>6.83000</td>\n",
       "      <td>6.830000</td>\n",
       "      <td>6.670000</td>\n",
       "      <td>8.670000</td>\n",
       "      <td>10.0</td>\n",
       "      <td>10.0</td>\n",
       "      <td>6.670000</td>\n",
       "      <td>0.0</td>\n",
       "      <td>78.00000</td>\n",
       "      <td>0.000000</td>\n",
       "      <td>0.000000</td>\n",
       "      <td>0.000000</td>\n",
       "      <td>0.000000</td>\n",
       "    </tr>\n",
       "    <tr>\n",
       "      <th>max</th>\n",
       "      <td>206.0</td>\n",
       "      <td>206.0</td>\n",
       "      <td>2240.000000</td>\n",
       "      <td>8.580000</td>\n",
       "      <td>8.500000</td>\n",
       "      <td>8.420000</td>\n",
       "      <td>8.58000</td>\n",
       "      <td>8.250000</td>\n",
       "      <td>8.420000</td>\n",
       "      <td>10.000000</td>\n",
       "      <td>10.0</td>\n",
       "      <td>10.0</td>\n",
       "      <td>8.580000</td>\n",
       "      <td>0.0</td>\n",
       "      <td>89.33000</td>\n",
       "      <td>13.500000</td>\n",
       "      <td>5.000000</td>\n",
       "      <td>12.000000</td>\n",
       "      <td>16.000000</td>\n",
       "    </tr>\n",
       "    <tr>\n",
       "      <th>mean</th>\n",
       "      <td>103.0</td>\n",
       "      <td>103.0</td>\n",
       "      <td>155.449275</td>\n",
       "      <td>7.721063</td>\n",
       "      <td>7.744734</td>\n",
       "      <td>7.599758</td>\n",
       "      <td>7.69029</td>\n",
       "      <td>7.640918</td>\n",
       "      <td>7.644058</td>\n",
       "      <td>9.990338</td>\n",
       "      <td>10.0</td>\n",
       "      <td>10.0</td>\n",
       "      <td>7.676812</td>\n",
       "      <td>0.0</td>\n",
       "      <td>83.70657</td>\n",
       "      <td>10.735266</td>\n",
       "      <td>0.135266</td>\n",
       "      <td>0.690821</td>\n",
       "      <td>2.251208</td>\n",
       "    </tr>\n",
       "  </tbody>\n",
       "</table>\n",
       "</div>"
      ],
      "text/plain": [
       "       unnamed:_0     id  number_of_bags       aroma      flavor  aftertaste    acidity        body     balance  uniformity  clean_cup  sweetness     overall  defects  total_cup_points  moisture_percentage  category_one_defects     quakers  category_two_defects\n",
       "count       207.0  207.0      207.000000  207.000000  207.000000  207.000000  207.00000  207.000000  207.000000  207.000000      207.0      207.0  207.000000    207.0         207.00000           207.000000            207.000000  207.000000            207.000000\n",
       "min           0.0    0.0        1.000000    6.500000    6.750000    6.670000    6.83000    6.830000    6.670000    8.670000       10.0       10.0    6.670000      0.0          78.00000             0.000000              0.000000    0.000000              0.000000\n",
       "max         206.0  206.0     2240.000000    8.580000    8.500000    8.420000    8.58000    8.250000    8.420000   10.000000       10.0       10.0    8.580000      0.0          89.33000            13.500000              5.000000   12.000000             16.000000\n",
       "mean        103.0  103.0      155.449275    7.721063    7.744734    7.599758    7.69029    7.640918    7.644058    9.990338       10.0       10.0    7.676812      0.0          83.70657            10.735266              0.135266    0.690821              2.251208"
      ]
     },
     "execution_count": 19,
     "metadata": {},
     "output_type": "execute_result"
    }
   ],
   "source": [
    "# df.describe()\n",
    "df.describe().loc[['count', 'min', 'max', 'mean']]"
   ]
  },
  {
   "cell_type": "code",
   "execution_count": 20,
   "id": "eba84498-806e-4851-9fd2-5ae53a17818c",
   "metadata": {},
   "outputs": [
    {
     "data": {
      "text/html": [
       "<div>\n",
       "<style scoped>\n",
       "    .dataframe tbody tr th:only-of-type {\n",
       "        vertical-align: middle;\n",
       "    }\n",
       "\n",
       "    .dataframe tbody tr th {\n",
       "        vertical-align: top;\n",
       "    }\n",
       "\n",
       "    .dataframe thead th {\n",
       "        text-align: right;\n",
       "    }\n",
       "</style>\n",
       "<table border=\"1\" class=\"dataframe\">\n",
       "  <thead>\n",
       "    <tr style=\"text-align: right;\">\n",
       "      <th></th>\n",
       "      <th>country_of_origin</th>\n",
       "      <th>farm_name</th>\n",
       "      <th>lot_number</th>\n",
       "      <th>mill</th>\n",
       "      <th>ico_number</th>\n",
       "      <th>company</th>\n",
       "      <th>altitude</th>\n",
       "      <th>region</th>\n",
       "      <th>producer</th>\n",
       "      <th>bag_weight</th>\n",
       "      <th>in_country_partner</th>\n",
       "      <th>harvest_year</th>\n",
       "      <th>grading_date</th>\n",
       "      <th>owner</th>\n",
       "      <th>variety</th>\n",
       "      <th>status</th>\n",
       "      <th>processing_method</th>\n",
       "      <th>color</th>\n",
       "      <th>expiration</th>\n",
       "      <th>certification_body</th>\n",
       "      <th>certification_address</th>\n",
       "      <th>certification_contact</th>\n",
       "      <th>continent</th>\n",
       "    </tr>\n",
       "  </thead>\n",
       "  <tbody>\n",
       "    <tr>\n",
       "      <th>count</th>\n",
       "      <td>207</td>\n",
       "      <td>205</td>\n",
       "      <td>206</td>\n",
       "      <td>204</td>\n",
       "      <td>75</td>\n",
       "      <td>207</td>\n",
       "      <td>206</td>\n",
       "      <td>205</td>\n",
       "      <td>206</td>\n",
       "      <td>207</td>\n",
       "      <td>207</td>\n",
       "      <td>207</td>\n",
       "      <td>207</td>\n",
       "      <td>207</td>\n",
       "      <td>201</td>\n",
       "      <td>207</td>\n",
       "      <td>202</td>\n",
       "      <td>207</td>\n",
       "      <td>207</td>\n",
       "      <td>207</td>\n",
       "      <td>207</td>\n",
       "      <td>207</td>\n",
       "      <td>207</td>\n",
       "    </tr>\n",
       "    <tr>\n",
       "      <th>unique</th>\n",
       "      <td>22</td>\n",
       "      <td>172</td>\n",
       "      <td>187</td>\n",
       "      <td>162</td>\n",
       "      <td>67</td>\n",
       "      <td>72</td>\n",
       "      <td>97</td>\n",
       "      <td>120</td>\n",
       "      <td>172</td>\n",
       "      <td>39</td>\n",
       "      <td>21</td>\n",
       "      <td>7</td>\n",
       "      <td>75</td>\n",
       "      <td>80</td>\n",
       "      <td>48</td>\n",
       "      <td>1</td>\n",
       "      <td>10</td>\n",
       "      <td>12</td>\n",
       "      <td>75</td>\n",
       "      <td>21</td>\n",
       "      <td>21</td>\n",
       "      <td>21</td>\n",
       "      <td>4</td>\n",
       "    </tr>\n",
       "    <tr>\n",
       "      <th>top</th>\n",
       "      <td>Taiwan</td>\n",
       "      <td>Doi Tung Development Project</td>\n",
       "      <td>1</td>\n",
       "      <td>Dry Mill</td>\n",
       "      <td>non</td>\n",
       "      <td>Taiwan Coffee Laboratory</td>\n",
       "      <td>1200</td>\n",
       "      <td>Chiayi</td>\n",
       "      <td>Doi Tung Development Project</td>\n",
       "      <td>30 kg</td>\n",
       "      <td>Taiwan Coffee Laboratory 台灣咖啡研究室</td>\n",
       "      <td>2021 / 2022</td>\n",
       "      <td>November 15th, 2022</td>\n",
       "      <td>Taiwan Coffee Laboratory 台灣咖啡研究室</td>\n",
       "      <td>Caturra</td>\n",
       "      <td>Completed</td>\n",
       "      <td>Washed / Wet</td>\n",
       "      <td>green</td>\n",
       "      <td>November 15th, 2023</td>\n",
       "      <td>Taiwan Coffee Laboratory 台灣咖啡研究室</td>\n",
       "      <td>QAHWAH CO., LTD 4F, No. 225, Sec. 3, Beixin Rd...</td>\n",
       "      <td>Lin, Jen-An Neil 林仁安 - 886-289116612</td>\n",
       "      <td>Asia</td>\n",
       "    </tr>\n",
       "    <tr>\n",
       "      <th>freq</th>\n",
       "      <td>61</td>\n",
       "      <td>7</td>\n",
       "      <td>11</td>\n",
       "      <td>11</td>\n",
       "      <td>5</td>\n",
       "      <td>51</td>\n",
       "      <td>23</td>\n",
       "      <td>12</td>\n",
       "      <td>7</td>\n",
       "      <td>39</td>\n",
       "      <td>83</td>\n",
       "      <td>99</td>\n",
       "      <td>40</td>\n",
       "      <td>30</td>\n",
       "      <td>27</td>\n",
       "      <td>207</td>\n",
       "      <td>124</td>\n",
       "      <td>101</td>\n",
       "      <td>40</td>\n",
       "      <td>83</td>\n",
       "      <td>83</td>\n",
       "      <td>83</td>\n",
       "      <td>84</td>\n",
       "    </tr>\n",
       "  </tbody>\n",
       "</table>\n",
       "</div>"
      ],
      "text/plain": [
       "       country_of_origin                     farm_name lot_number      mill ico_number                   company altitude  region                      producer bag_weight                in_country_partner harvest_year         grading_date                             owner  variety     status processing_method  color           expiration                certification_body                              certification_address                 certification_contact continent\n",
       "count                207                           205        206       204         75                       207      206     205                           206        207                               207          207                  207                               207      201        207               202    207                  207                               207                                                207                                   207       207\n",
       "unique                22                           172        187       162         67                        72       97     120                           172         39                                21            7                   75                                80       48          1                10     12                   75                                21                                                 21                                    21         4\n",
       "top               Taiwan  Doi Tung Development Project          1  Dry Mill        non  Taiwan Coffee Laboratory     1200  Chiayi  Doi Tung Development Project      30 kg  Taiwan Coffee Laboratory 台灣咖啡研究室  2021 / 2022  November 15th, 2022  Taiwan Coffee Laboratory 台灣咖啡研究室  Caturra  Completed      Washed / Wet  green  November 15th, 2023  Taiwan Coffee Laboratory 台灣咖啡研究室  QAHWAH CO., LTD 4F, No. 225, Sec. 3, Beixin Rd...  Lin, Jen-An Neil 林仁安 - 886-289116612      Asia\n",
       "freq                  61                             7         11        11          5                        51       23      12                             7         39                                83           99                   40                                30       27        207               124    101                   40                                83                                                 83                                    83        84"
      ]
     },
     "execution_count": 20,
     "metadata": {},
     "output_type": "execute_result"
    }
   ],
   "source": [
    "df.describe(include=[object])"
   ]
  },
  {
   "cell_type": "code",
   "execution_count": 21,
   "id": "7416fab5-2e05-4002-a804-09b4573bd129",
   "metadata": {},
   "outputs": [
    {
     "name": "stdout",
     "output_type": "stream",
     "text": [
      "               country_of_origin   0\n",
      "0                         Brazil  10\n",
      "1                       Colombia  19\n",
      "2                     Costa Rica   8\n",
      "3                    El Salvador   7\n",
      "4                       Ethiopia  11\n",
      "5                      Guatemala  21\n",
      "6                       Honduras  13\n",
      "7                      Indonesia   3\n",
      "8                          Kenya   2\n",
      "9                           Laos   3\n",
      "10                    Madagascar   1\n",
      "11                        Mexico   4\n",
      "12                       Myanmar   1\n",
      "13                     Nicaragua   7\n",
      "14                        Panama   2\n",
      "15                          Peru   4\n",
      "16                        Taiwan  61\n",
      "17  Tanzania, United Republic Of   6\n",
      "18                      Thailand  12\n",
      "19                        Uganda   3\n",
      "20        United States (Hawaii)   5\n",
      "21                       Vietnam   4\n"
     ]
    }
   ],
   "source": [
    "freq(df, 'country_of_origin')"
   ]
  },
  {
   "cell_type": "code",
   "execution_count": 21,
   "id": "a8fe311c-5171-4a1b-a17f-59c3956093ed",
   "metadata": {},
   "outputs": [
    {
     "data": {
      "text/plain": [
       "Brazil                          10\n",
       "Colombia                        19\n",
       "Costa Rica                       8\n",
       "El Salvador                      7\n",
       "Ethiopia                        11\n",
       "Guatemala                       21\n",
       "Honduras                        13\n",
       "Indonesia                        3\n",
       "Kenya                            2\n",
       "Laos                             3\n",
       "Madagascar                       1\n",
       "Mexico                           4\n",
       "Myanmar                          1\n",
       "Nicaragua                        7\n",
       "Panama                           2\n",
       "Peru                             4\n",
       "Taiwan                          61\n",
       "Tanzania, United Republic Of     6\n",
       "Thailand                        12\n",
       "Uganda                           3\n",
       "United States (Hawaii)           5\n",
       "Vietnam                          4\n",
       "Name: country_of_origin, dtype: int64"
      ]
     },
     "execution_count": 21,
     "metadata": {},
     "output_type": "execute_result"
    }
   ],
   "source": [
    "df['country_of_origin'].value_counts(dropna=False).sort_index()"
   ]
  },
  {
   "cell_type": "markdown",
   "id": "e6c7484c-e6e6-4a32-a8e1-b0a94a8d2eae",
   "metadata": {},
   "source": [
    "# 4. Statistics"
   ]
  },
  {
   "cell_type": "markdown",
   "id": "a61c9446-380f-41c3-a68e-8883ca67935b",
   "metadata": {},
   "source": [
    "## 4.1 aroma by continent"
   ]
  },
  {
   "cell_type": "code",
   "execution_count": 23,
   "id": "9e927be4-b3e2-4cd6-b75f-de41ca2b9403",
   "metadata": {},
   "outputs": [
    {
     "data": {
      "text/html": [
       "<div>\n",
       "<style scoped>\n",
       "    .dataframe tbody tr th:only-of-type {\n",
       "        vertical-align: middle;\n",
       "    }\n",
       "\n",
       "    .dataframe tbody tr th {\n",
       "        vertical-align: top;\n",
       "    }\n",
       "\n",
       "    .dataframe thead tr th {\n",
       "        text-align: left;\n",
       "    }\n",
       "\n",
       "    .dataframe thead tr:last-of-type th {\n",
       "        text-align: right;\n",
       "    }\n",
       "</style>\n",
       "<table border=\"1\" class=\"dataframe\">\n",
       "  <thead>\n",
       "    <tr>\n",
       "      <th></th>\n",
       "      <th colspan=\"4\" halign=\"left\">aroma</th>\n",
       "    </tr>\n",
       "    <tr>\n",
       "      <th></th>\n",
       "      <th>count</th>\n",
       "      <th>mean</th>\n",
       "      <th>max</th>\n",
       "      <th>min</th>\n",
       "    </tr>\n",
       "    <tr>\n",
       "      <th>continent</th>\n",
       "      <th></th>\n",
       "      <th></th>\n",
       "      <th></th>\n",
       "      <th></th>\n",
       "    </tr>\n",
       "  </thead>\n",
       "  <tbody>\n",
       "    <tr>\n",
       "      <th>Africa</th>\n",
       "      <td>23</td>\n",
       "      <td>7.870435</td>\n",
       "      <td>8.17</td>\n",
       "      <td>7.42</td>\n",
       "    </tr>\n",
       "    <tr>\n",
       "      <th>Asia</th>\n",
       "      <td>84</td>\n",
       "      <td>7.771905</td>\n",
       "      <td>8.50</td>\n",
       "      <td>7.17</td>\n",
       "    </tr>\n",
       "    <tr>\n",
       "      <th>North America</th>\n",
       "      <td>67</td>\n",
       "      <td>7.629104</td>\n",
       "      <td>8.33</td>\n",
       "      <td>6.50</td>\n",
       "    </tr>\n",
       "    <tr>\n",
       "      <th>South America</th>\n",
       "      <td>33</td>\n",
       "      <td>7.674242</td>\n",
       "      <td>8.58</td>\n",
       "      <td>7.17</td>\n",
       "    </tr>\n",
       "  </tbody>\n",
       "</table>\n",
       "</div>"
      ],
      "text/plain": [
       "              aroma                      \n",
       "              count      mean   max   min\n",
       "continent                                \n",
       "Africa           23  7.870435  8.17  7.42\n",
       "Asia             84  7.771905  8.50  7.17\n",
       "North America    67  7.629104  8.33  6.50\n",
       "South America    33  7.674242  8.58  7.17"
      ]
     },
     "execution_count": 23,
     "metadata": {},
     "output_type": "execute_result"
    }
   ],
   "source": [
    "# calculate count, mean, max, min\n",
    "df.groupby('continent').agg({'aroma': ['count','mean','max','min']})"
   ]
  },
  {
   "cell_type": "markdown",
   "id": "e48735ca-4dd5-4365-a527-51cf361aae0f",
   "metadata": {},
   "source": [
    "## 4.1.1 display statistics in dataframe (group by continent)"
   ]
  },
  {
   "cell_type": "code",
   "execution_count": 280,
   "id": "13007a0a-fa95-4ed2-9aa5-6868a51271a4",
   "metadata": {},
   "outputs": [
    {
     "name": "stdout",
     "output_type": "stream",
     "text": [
      "   index      continent  frequency       avg  maximum  minimum\n",
      "0      0         Africa         23  7.870435     8.17     7.42\n",
      "1      1           Asia         84  7.771905     8.50     7.17\n",
      "2      2  North America         67  7.629104     8.33     6.50\n",
      "3      3  South America         33  7.674242     8.58     7.17\n"
     ]
    }
   ],
   "source": [
    "df_break = df.groupby('continent',as_index=False).agg(\n",
    "              frequency =('aroma','count'),\n",
    "              avg     =('aroma','mean'),\n",
    "              maximum =('aroma','max'),\n",
    "              minimum =('aroma','min')\n",
    "             ).reset_index()\n",
    "print(df_break)"
   ]
  },
  {
   "cell_type": "markdown",
   "id": "c0e882df-4eeb-43aa-854e-92ea7cf11fab",
   "metadata": {},
   "source": [
    "## 4.1.2 display total statistics in dataframe"
   ]
  },
  {
   "cell_type": "code",
   "execution_count": 281,
   "id": "a6b35ce1-4ed3-4a95-ac69-c72a513ddee0",
   "metadata": {},
   "outputs": [
    {
     "name": "stdout",
     "output_type": "stream",
     "text": [
      "                aroma\n",
      "frequency  207.000000\n",
      "avg          7.721063\n",
      "maximum      8.580000\n",
      "minimum      6.500000\n"
     ]
    }
   ],
   "source": [
    "df_total = df.agg(\n",
    "              frequency =('aroma','count'),\n",
    "              avg     =('aroma','mean'),\n",
    "              maximum =('aroma','max'),\n",
    "              minimum =('aroma','min')\n",
    "             )\n",
    "print(df_total)"
   ]
  },
  {
   "cell_type": "markdown",
   "id": "f26bc05c-96fe-4d79-b0b6-ac9b5f2d8853",
   "metadata": {},
   "source": [
    "## 4.1.3 transpose data and add columns"
   ]
  },
  {
   "cell_type": "code",
   "execution_count": 282,
   "id": "a53a635a-a03d-4158-8fd2-f29655b90ef2",
   "metadata": {},
   "outputs": [
    {
     "data": {
      "text/html": [
       "<div>\n",
       "<style scoped>\n",
       "    .dataframe tbody tr th:only-of-type {\n",
       "        vertical-align: middle;\n",
       "    }\n",
       "\n",
       "    .dataframe tbody tr th {\n",
       "        vertical-align: top;\n",
       "    }\n",
       "\n",
       "    .dataframe thead th {\n",
       "        text-align: right;\n",
       "    }\n",
       "</style>\n",
       "<table border=\"1\" class=\"dataframe\">\n",
       "  <thead>\n",
       "    <tr style=\"text-align: right;\">\n",
       "      <th></th>\n",
       "      <th>frequency</th>\n",
       "      <th>avg</th>\n",
       "      <th>maximum</th>\n",
       "      <th>minimum</th>\n",
       "    </tr>\n",
       "  </thead>\n",
       "  <tbody>\n",
       "    <tr>\n",
       "      <th>aroma</th>\n",
       "      <td>207.0</td>\n",
       "      <td>7.721063</td>\n",
       "      <td>8.58</td>\n",
       "      <td>6.5</td>\n",
       "    </tr>\n",
       "  </tbody>\n",
       "</table>\n",
       "</div>"
      ],
      "text/plain": [
       "       frequency       avg  maximum  minimum\n",
       "aroma      207.0  7.721063     8.58      6.5"
      ]
     },
     "execution_count": 282,
     "metadata": {},
     "output_type": "execute_result"
    }
   ],
   "source": [
    "df_total_T = df_total.T\n",
    "df_total_T"
   ]
  },
  {
   "cell_type": "code",
   "execution_count": 283,
   "id": "9bb17ff6-6c75-4dbf-a065-f4f95ee5876f",
   "metadata": {},
   "outputs": [
    {
     "data": {
      "text/html": [
       "<div>\n",
       "<style scoped>\n",
       "    .dataframe tbody tr th:only-of-type {\n",
       "        vertical-align: middle;\n",
       "    }\n",
       "\n",
       "    .dataframe tbody tr th {\n",
       "        vertical-align: top;\n",
       "    }\n",
       "\n",
       "    .dataframe thead th {\n",
       "        text-align: right;\n",
       "    }\n",
       "</style>\n",
       "<table border=\"1\" class=\"dataframe\">\n",
       "  <thead>\n",
       "    <tr style=\"text-align: right;\">\n",
       "      <th></th>\n",
       "      <th>index</th>\n",
       "      <th>frequency</th>\n",
       "      <th>avg</th>\n",
       "      <th>maximum</th>\n",
       "      <th>minimum</th>\n",
       "    </tr>\n",
       "  </thead>\n",
       "  <tbody>\n",
       "    <tr>\n",
       "      <th>0</th>\n",
       "      <td>aroma</td>\n",
       "      <td>207.0</td>\n",
       "      <td>7.721063</td>\n",
       "      <td>8.58</td>\n",
       "      <td>6.5</td>\n",
       "    </tr>\n",
       "  </tbody>\n",
       "</table>\n",
       "</div>"
      ],
      "text/plain": [
       "   index  frequency       avg  maximum  minimum\n",
       "0  aroma      207.0  7.721063     8.58      6.5"
      ]
     },
     "execution_count": 283,
     "metadata": {},
     "output_type": "execute_result"
    }
   ],
   "source": [
    "df_total_T.reset_index()"
   ]
  },
  {
   "cell_type": "code",
   "execution_count": 284,
   "id": "2933e7cd-bc79-42e5-b735-3e232cf6a670",
   "metadata": {},
   "outputs": [
    {
     "data": {
      "text/html": [
       "<div>\n",
       "<style scoped>\n",
       "    .dataframe tbody tr th:only-of-type {\n",
       "        vertical-align: middle;\n",
       "    }\n",
       "\n",
       "    .dataframe tbody tr th {\n",
       "        vertical-align: top;\n",
       "    }\n",
       "\n",
       "    .dataframe thead th {\n",
       "        text-align: right;\n",
       "    }\n",
       "</style>\n",
       "<table border=\"1\" class=\"dataframe\">\n",
       "  <thead>\n",
       "    <tr style=\"text-align: right;\">\n",
       "      <th></th>\n",
       "      <th>frequency</th>\n",
       "      <th>avg</th>\n",
       "      <th>maximum</th>\n",
       "      <th>minimum</th>\n",
       "      <th>continent</th>\n",
       "      <th>dummy</th>\n",
       "    </tr>\n",
       "  </thead>\n",
       "  <tbody>\n",
       "    <tr>\n",
       "      <th>aroma</th>\n",
       "      <td>207.0</td>\n",
       "      <td>7.721063</td>\n",
       "      <td>8.58</td>\n",
       "      <td>6.5</td>\n",
       "      <td>TOTAL</td>\n",
       "      <td>1</td>\n",
       "    </tr>\n",
       "  </tbody>\n",
       "</table>\n",
       "</div>"
      ],
      "text/plain": [
       "       frequency       avg  maximum  minimum continent  dummy\n",
       "aroma      207.0  7.721063     8.58      6.5     TOTAL      1"
      ]
     },
     "execution_count": 284,
     "metadata": {},
     "output_type": "execute_result"
    }
   ],
   "source": [
    "df_total_T['continent'] = 'TOTAL'\n",
    "df_total_T['dummy'] = 1\n",
    "df_total_T"
   ]
  },
  {
   "cell_type": "markdown",
   "id": "a42a30ae-c612-4c2b-b789-2a194cd7c823",
   "metadata": {},
   "source": [
    "## 4.1.4 append grouped data and total data"
   ]
  },
  {
   "cell_type": "code",
   "execution_count": 285,
   "id": "5b0ef771-a53e-4902-ba35-d62dfac6e819",
   "metadata": {},
   "outputs": [
    {
     "data": {
      "text/html": [
       "<div>\n",
       "<style scoped>\n",
       "    .dataframe tbody tr th:only-of-type {\n",
       "        vertical-align: middle;\n",
       "    }\n",
       "\n",
       "    .dataframe tbody tr th {\n",
       "        vertical-align: top;\n",
       "    }\n",
       "\n",
       "    .dataframe thead th {\n",
       "        text-align: right;\n",
       "    }\n",
       "</style>\n",
       "<table border=\"1\" class=\"dataframe\">\n",
       "  <thead>\n",
       "    <tr style=\"text-align: right;\">\n",
       "      <th></th>\n",
       "      <th>index</th>\n",
       "      <th>continent</th>\n",
       "      <th>frequency</th>\n",
       "      <th>avg</th>\n",
       "      <th>maximum</th>\n",
       "      <th>minimum</th>\n",
       "      <th>dummy</th>\n",
       "    </tr>\n",
       "  </thead>\n",
       "  <tbody>\n",
       "    <tr>\n",
       "      <th>0</th>\n",
       "      <td>0.0</td>\n",
       "      <td>Africa</td>\n",
       "      <td>23.0</td>\n",
       "      <td>7.870435</td>\n",
       "      <td>8.17</td>\n",
       "      <td>7.42</td>\n",
       "      <td>1</td>\n",
       "    </tr>\n",
       "    <tr>\n",
       "      <th>1</th>\n",
       "      <td>1.0</td>\n",
       "      <td>Asia</td>\n",
       "      <td>84.0</td>\n",
       "      <td>7.771905</td>\n",
       "      <td>8.50</td>\n",
       "      <td>7.17</td>\n",
       "      <td>1</td>\n",
       "    </tr>\n",
       "    <tr>\n",
       "      <th>2</th>\n",
       "      <td>2.0</td>\n",
       "      <td>North America</td>\n",
       "      <td>67.0</td>\n",
       "      <td>7.629104</td>\n",
       "      <td>8.33</td>\n",
       "      <td>6.50</td>\n",
       "      <td>1</td>\n",
       "    </tr>\n",
       "    <tr>\n",
       "      <th>3</th>\n",
       "      <td>3.0</td>\n",
       "      <td>South America</td>\n",
       "      <td>33.0</td>\n",
       "      <td>7.674242</td>\n",
       "      <td>8.58</td>\n",
       "      <td>7.17</td>\n",
       "      <td>1</td>\n",
       "    </tr>\n",
       "    <tr>\n",
       "      <th>aroma</th>\n",
       "      <td>NaN</td>\n",
       "      <td>TOTAL</td>\n",
       "      <td>207.0</td>\n",
       "      <td>7.721063</td>\n",
       "      <td>8.58</td>\n",
       "      <td>6.50</td>\n",
       "      <td>1</td>\n",
       "    </tr>\n",
       "  </tbody>\n",
       "</table>\n",
       "</div>"
      ],
      "text/plain": [
       "       index      continent  frequency       avg  maximum  minimum  dummy\n",
       "0        0.0         Africa       23.0  7.870435     8.17     7.42      1\n",
       "1        1.0           Asia       84.0  7.771905     8.50     7.17      1\n",
       "2        2.0  North America       67.0  7.629104     8.33     6.50      1\n",
       "3        3.0  South America       33.0  7.674242     8.58     7.17      1\n",
       "aroma    NaN          TOTAL      207.0  7.721063     8.58     6.50      1"
      ]
     },
     "execution_count": 285,
     "metadata": {},
     "output_type": "execute_result"
    }
   ],
   "source": [
    "df_temp_0 = df_break.append(df_total_T)\n",
    "df_temp_0['dummy'] = 1\n",
    "df_temp_0"
   ]
  },
  {
   "cell_type": "markdown",
   "id": "e413effd-6949-490e-bc1d-3a4ef6802f89",
   "metadata": {},
   "source": [
    "## 4.1.5 calculate proportion and index"
   ]
  },
  {
   "cell_type": "code",
   "execution_count": 286,
   "id": "dd7c092e-77f5-462e-b8f8-3c61f9a2a6b8",
   "metadata": {},
   "outputs": [
    {
     "data": {
      "text/html": [
       "<div>\n",
       "<style scoped>\n",
       "    .dataframe tbody tr th:only-of-type {\n",
       "        vertical-align: middle;\n",
       "    }\n",
       "\n",
       "    .dataframe tbody tr th {\n",
       "        vertical-align: top;\n",
       "    }\n",
       "\n",
       "    .dataframe thead th {\n",
       "        text-align: right;\n",
       "    }\n",
       "</style>\n",
       "<table border=\"1\" class=\"dataframe\">\n",
       "  <thead>\n",
       "    <tr style=\"text-align: right;\">\n",
       "      <th></th>\n",
       "      <th>index</th>\n",
       "      <th>continent</th>\n",
       "      <th>frequency</th>\n",
       "      <th>avg</th>\n",
       "      <th>maximum</th>\n",
       "      <th>minimum</th>\n",
       "      <th>dummy</th>\n",
       "      <th>total_avg</th>\n",
       "      <th>total_frequency</th>\n",
       "    </tr>\n",
       "  </thead>\n",
       "  <tbody>\n",
       "    <tr>\n",
       "      <th>0</th>\n",
       "      <td>0.0</td>\n",
       "      <td>Africa</td>\n",
       "      <td>23.0</td>\n",
       "      <td>7.870435</td>\n",
       "      <td>8.17</td>\n",
       "      <td>7.42</td>\n",
       "      <td>1</td>\n",
       "      <td>7.721063</td>\n",
       "      <td>207.0</td>\n",
       "    </tr>\n",
       "    <tr>\n",
       "      <th>1</th>\n",
       "      <td>1.0</td>\n",
       "      <td>Asia</td>\n",
       "      <td>84.0</td>\n",
       "      <td>7.771905</td>\n",
       "      <td>8.50</td>\n",
       "      <td>7.17</td>\n",
       "      <td>1</td>\n",
       "      <td>7.721063</td>\n",
       "      <td>207.0</td>\n",
       "    </tr>\n",
       "    <tr>\n",
       "      <th>2</th>\n",
       "      <td>2.0</td>\n",
       "      <td>North America</td>\n",
       "      <td>67.0</td>\n",
       "      <td>7.629104</td>\n",
       "      <td>8.33</td>\n",
       "      <td>6.50</td>\n",
       "      <td>1</td>\n",
       "      <td>7.721063</td>\n",
       "      <td>207.0</td>\n",
       "    </tr>\n",
       "    <tr>\n",
       "      <th>3</th>\n",
       "      <td>3.0</td>\n",
       "      <td>South America</td>\n",
       "      <td>33.0</td>\n",
       "      <td>7.674242</td>\n",
       "      <td>8.58</td>\n",
       "      <td>7.17</td>\n",
       "      <td>1</td>\n",
       "      <td>7.721063</td>\n",
       "      <td>207.0</td>\n",
       "    </tr>\n",
       "    <tr>\n",
       "      <th>4</th>\n",
       "      <td>NaN</td>\n",
       "      <td>TOTAL</td>\n",
       "      <td>207.0</td>\n",
       "      <td>7.721063</td>\n",
       "      <td>8.58</td>\n",
       "      <td>6.50</td>\n",
       "      <td>1</td>\n",
       "      <td>7.721063</td>\n",
       "      <td>207.0</td>\n",
       "    </tr>\n",
       "  </tbody>\n",
       "</table>\n",
       "</div>"
      ],
      "text/plain": [
       "   index      continent  frequency       avg  maximum  minimum  dummy  total_avg  total_frequency\n",
       "0    0.0         Africa       23.0  7.870435     8.17     7.42      1   7.721063            207.0\n",
       "1    1.0           Asia       84.0  7.771905     8.50     7.17      1   7.721063            207.0\n",
       "2    2.0  North America       67.0  7.629104     8.33     6.50      1   7.721063            207.0\n",
       "3    3.0  South America       33.0  7.674242     8.58     7.17      1   7.721063            207.0\n",
       "4    NaN          TOTAL      207.0  7.721063     8.58     6.50      1   7.721063            207.0"
      ]
     },
     "execution_count": 286,
     "metadata": {},
     "output_type": "execute_result"
    }
   ],
   "source": [
    "df_total_T_1 = df_total_T.rename(columns={'avg':'total_avg', 'frequency':'total_frequency'})\n",
    "df_temp_1 = pd.merge(df_all, df_total_T_1[['total_avg','total_frequency','dummy']], how='left', on='dummy')\n",
    "df_temp_1"
   ]
  },
  {
   "cell_type": "code",
   "execution_count": 287,
   "id": "58bfbdac-42f9-45cd-8b98-87cab1249afd",
   "metadata": {},
   "outputs": [
    {
     "data": {
      "text/html": [
       "<div>\n",
       "<style scoped>\n",
       "    .dataframe tbody tr th:only-of-type {\n",
       "        vertical-align: middle;\n",
       "    }\n",
       "\n",
       "    .dataframe tbody tr th {\n",
       "        vertical-align: top;\n",
       "    }\n",
       "\n",
       "    .dataframe thead th {\n",
       "        text-align: right;\n",
       "    }\n",
       "</style>\n",
       "<table border=\"1\" class=\"dataframe\">\n",
       "  <thead>\n",
       "    <tr style=\"text-align: right;\">\n",
       "      <th></th>\n",
       "      <th>continent</th>\n",
       "      <th>frequency</th>\n",
       "      <th>avg</th>\n",
       "      <th>maximum</th>\n",
       "      <th>minimum</th>\n",
       "      <th>proportion</th>\n",
       "      <th>var_index</th>\n",
       "    </tr>\n",
       "  </thead>\n",
       "  <tbody>\n",
       "    <tr>\n",
       "      <th>0</th>\n",
       "      <td>Africa</td>\n",
       "      <td>23.0</td>\n",
       "      <td>7.870435</td>\n",
       "      <td>8.17</td>\n",
       "      <td>7.42</td>\n",
       "      <td>11.111111</td>\n",
       "      <td>101.934604</td>\n",
       "    </tr>\n",
       "    <tr>\n",
       "      <th>1</th>\n",
       "      <td>Asia</td>\n",
       "      <td>84.0</td>\n",
       "      <td>7.771905</td>\n",
       "      <td>8.50</td>\n",
       "      <td>7.17</td>\n",
       "      <td>40.579710</td>\n",
       "      <td>100.658484</td>\n",
       "    </tr>\n",
       "    <tr>\n",
       "      <th>2</th>\n",
       "      <td>North America</td>\n",
       "      <td>67.0</td>\n",
       "      <td>7.629104</td>\n",
       "      <td>8.33</td>\n",
       "      <td>6.50</td>\n",
       "      <td>32.367150</td>\n",
       "      <td>98.808994</td>\n",
       "    </tr>\n",
       "    <tr>\n",
       "      <th>3</th>\n",
       "      <td>South America</td>\n",
       "      <td>33.0</td>\n",
       "      <td>7.674242</td>\n",
       "      <td>8.58</td>\n",
       "      <td>7.17</td>\n",
       "      <td>15.942029</td>\n",
       "      <td>99.393602</td>\n",
       "    </tr>\n",
       "    <tr>\n",
       "      <th>4</th>\n",
       "      <td>TOTAL</td>\n",
       "      <td>207.0</td>\n",
       "      <td>7.721063</td>\n",
       "      <td>8.58</td>\n",
       "      <td>6.50</td>\n",
       "      <td>100.000000</td>\n",
       "      <td>100.000000</td>\n",
       "    </tr>\n",
       "  </tbody>\n",
       "</table>\n",
       "</div>"
      ],
      "text/plain": [
       "       continent  frequency       avg  maximum  minimum  proportion   var_index\n",
       "0         Africa       23.0  7.870435     8.17     7.42   11.111111  101.934604\n",
       "1           Asia       84.0  7.771905     8.50     7.17   40.579710  100.658484\n",
       "2  North America       67.0  7.629104     8.33     6.50   32.367150   98.808994\n",
       "3  South America       33.0  7.674242     8.58     7.17   15.942029   99.393602\n",
       "4          TOTAL      207.0  7.721063     8.58     6.50  100.000000  100.000000"
      ]
     },
     "execution_count": 287,
     "metadata": {},
     "output_type": "execute_result"
    }
   ],
   "source": [
    "df_temp_1['proportion'] = df_temp_1['frequency'] / df_temp_1['total_frequency'] * 100\n",
    "df_temp_1['var_index']  = df_temp_1['avg'] / df_temp_1['total_avg'] * 100\n",
    "df_temp_1.drop(['total_avg','total_frequency','dummy','index'], axis=1, inplace=True)\n",
    "df_temp_1"
   ]
  },
  {
   "cell_type": "markdown",
   "id": "529507d1-e9b1-416d-a001-19d2f28c62b1",
   "metadata": {},
   "source": [
    "## 4.1.6 convert frequency and var_index to integer, average and proportion to 2 decimal places"
   ]
  },
  {
   "cell_type": "code",
   "execution_count": 278,
   "id": "23a4a227-206f-403f-8a25-8aaeee860662",
   "metadata": {},
   "outputs": [
    {
     "data": {
      "text/html": [
       "<div>\n",
       "<style scoped>\n",
       "    .dataframe tbody tr th:only-of-type {\n",
       "        vertical-align: middle;\n",
       "    }\n",
       "\n",
       "    .dataframe tbody tr th {\n",
       "        vertical-align: top;\n",
       "    }\n",
       "\n",
       "    .dataframe thead th {\n",
       "        text-align: right;\n",
       "    }\n",
       "</style>\n",
       "<table border=\"1\" class=\"dataframe\">\n",
       "  <thead>\n",
       "    <tr style=\"text-align: right;\">\n",
       "      <th></th>\n",
       "      <th>continent</th>\n",
       "      <th>frequency</th>\n",
       "      <th>avg</th>\n",
       "      <th>maximum</th>\n",
       "      <th>minimum</th>\n",
       "      <th>proportion</th>\n",
       "      <th>var_index</th>\n",
       "    </tr>\n",
       "  </thead>\n",
       "  <tbody>\n",
       "    <tr>\n",
       "      <th>0</th>\n",
       "      <td>Africa</td>\n",
       "      <td>23</td>\n",
       "      <td>7.870435</td>\n",
       "      <td>8.17</td>\n",
       "      <td>7.42</td>\n",
       "      <td>11.111111</td>\n",
       "      <td>101</td>\n",
       "    </tr>\n",
       "    <tr>\n",
       "      <th>1</th>\n",
       "      <td>Asia</td>\n",
       "      <td>84</td>\n",
       "      <td>7.771905</td>\n",
       "      <td>8.50</td>\n",
       "      <td>7.17</td>\n",
       "      <td>40.579710</td>\n",
       "      <td>100</td>\n",
       "    </tr>\n",
       "    <tr>\n",
       "      <th>2</th>\n",
       "      <td>North America</td>\n",
       "      <td>67</td>\n",
       "      <td>7.629104</td>\n",
       "      <td>8.33</td>\n",
       "      <td>6.50</td>\n",
       "      <td>32.367150</td>\n",
       "      <td>98</td>\n",
       "    </tr>\n",
       "    <tr>\n",
       "      <th>3</th>\n",
       "      <td>South America</td>\n",
       "      <td>33</td>\n",
       "      <td>7.674242</td>\n",
       "      <td>8.58</td>\n",
       "      <td>7.17</td>\n",
       "      <td>15.942029</td>\n",
       "      <td>99</td>\n",
       "    </tr>\n",
       "    <tr>\n",
       "      <th>4</th>\n",
       "      <td>TOTAL</td>\n",
       "      <td>207</td>\n",
       "      <td>7.721063</td>\n",
       "      <td>8.58</td>\n",
       "      <td>6.50</td>\n",
       "      <td>100.000000</td>\n",
       "      <td>100</td>\n",
       "    </tr>\n",
       "  </tbody>\n",
       "</table>\n",
       "</div>"
      ],
      "text/plain": [
       "       continent  frequency       avg  maximum  minimum  proportion  var_index\n",
       "0         Africa         23  7.870435     8.17     7.42   11.111111        101\n",
       "1           Asia         84  7.771905     8.50     7.17   40.579710        100\n",
       "2  North America         67  7.629104     8.33     6.50   32.367150         98\n",
       "3  South America         33  7.674242     8.58     7.17   15.942029         99\n",
       "4          TOTAL        207  7.721063     8.58     6.50  100.000000        100"
      ]
     },
     "execution_count": 278,
     "metadata": {},
     "output_type": "execute_result"
    }
   ],
   "source": [
    "df_temp_1[['frequency','var_index']]= df_temp_1[['frequency','var_index']].astype(int)\n",
    "df_temp_1"
   ]
  },
  {
   "cell_type": "code",
   "execution_count": 279,
   "id": "5c9b003c-2d84-4f1f-9075-a6e01145370d",
   "metadata": {},
   "outputs": [
    {
     "data": {
      "text/html": [
       "<div>\n",
       "<style scoped>\n",
       "    .dataframe tbody tr th:only-of-type {\n",
       "        vertical-align: middle;\n",
       "    }\n",
       "\n",
       "    .dataframe tbody tr th {\n",
       "        vertical-align: top;\n",
       "    }\n",
       "\n",
       "    .dataframe thead th {\n",
       "        text-align: right;\n",
       "    }\n",
       "</style>\n",
       "<table border=\"1\" class=\"dataframe\">\n",
       "  <thead>\n",
       "    <tr style=\"text-align: right;\">\n",
       "      <th></th>\n",
       "      <th>continent</th>\n",
       "      <th>frequency</th>\n",
       "      <th>avg</th>\n",
       "      <th>maximum</th>\n",
       "      <th>minimum</th>\n",
       "      <th>proportion</th>\n",
       "      <th>var_index</th>\n",
       "    </tr>\n",
       "  </thead>\n",
       "  <tbody>\n",
       "    <tr>\n",
       "      <th>0</th>\n",
       "      <td>Africa</td>\n",
       "      <td>23</td>\n",
       "      <td>7.87</td>\n",
       "      <td>8.17</td>\n",
       "      <td>7.42</td>\n",
       "      <td>11.11</td>\n",
       "      <td>101</td>\n",
       "    </tr>\n",
       "    <tr>\n",
       "      <th>1</th>\n",
       "      <td>Asia</td>\n",
       "      <td>84</td>\n",
       "      <td>7.77</td>\n",
       "      <td>8.50</td>\n",
       "      <td>7.17</td>\n",
       "      <td>40.58</td>\n",
       "      <td>100</td>\n",
       "    </tr>\n",
       "    <tr>\n",
       "      <th>2</th>\n",
       "      <td>North America</td>\n",
       "      <td>67</td>\n",
       "      <td>7.63</td>\n",
       "      <td>8.33</td>\n",
       "      <td>6.50</td>\n",
       "      <td>32.37</td>\n",
       "      <td>98</td>\n",
       "    </tr>\n",
       "    <tr>\n",
       "      <th>3</th>\n",
       "      <td>South America</td>\n",
       "      <td>33</td>\n",
       "      <td>7.67</td>\n",
       "      <td>8.58</td>\n",
       "      <td>7.17</td>\n",
       "      <td>15.94</td>\n",
       "      <td>99</td>\n",
       "    </tr>\n",
       "    <tr>\n",
       "      <th>4</th>\n",
       "      <td>TOTAL</td>\n",
       "      <td>207</td>\n",
       "      <td>7.72</td>\n",
       "      <td>8.58</td>\n",
       "      <td>6.50</td>\n",
       "      <td>100.00</td>\n",
       "      <td>100</td>\n",
       "    </tr>\n",
       "  </tbody>\n",
       "</table>\n",
       "</div>"
      ],
      "text/plain": [
       "       continent  frequency   avg  maximum  minimum  proportion  var_index\n",
       "0         Africa         23  7.87     8.17     7.42       11.11        101\n",
       "1           Asia         84  7.77     8.50     7.17       40.58        100\n",
       "2  North America         67  7.63     8.33     6.50       32.37         98\n",
       "3  South America         33  7.67     8.58     7.17       15.94         99\n",
       "4          TOTAL        207  7.72     8.58     6.50      100.00        100"
      ]
     },
     "execution_count": 279,
     "metadata": {},
     "output_type": "execute_result"
    }
   ],
   "source": [
    "df_temp_1 = df_temp_1.round({'avg':2, 'proportion':2})\n",
    "df_temp_1\n",
    "\n",
    "# alternative:\n",
    "# df_temp_1[['avg','proportion']] = df_temp_1[['avg','proportion']].apply(lambda x: round(x, 2))"
   ]
  },
  {
   "cell_type": "markdown",
   "id": "7da54d83-5c15-4c3c-b343-8b68a9117144",
   "metadata": {},
   "source": [
    "## 4.1.7 combine program"
   ]
  },
  {
   "cell_type": "code",
   "execution_count": 289,
   "id": "a2ef749c-cd44-49b5-a688-35e13dd31a7d",
   "metadata": {},
   "outputs": [
    {
     "data": {
      "text/html": [
       "<div>\n",
       "<style scoped>\n",
       "    .dataframe tbody tr th:only-of-type {\n",
       "        vertical-align: middle;\n",
       "    }\n",
       "\n",
       "    .dataframe tbody tr th {\n",
       "        vertical-align: top;\n",
       "    }\n",
       "\n",
       "    .dataframe thead th {\n",
       "        text-align: right;\n",
       "    }\n",
       "</style>\n",
       "<table border=\"1\" class=\"dataframe\">\n",
       "  <thead>\n",
       "    <tr style=\"text-align: right;\">\n",
       "      <th></th>\n",
       "      <th>continent</th>\n",
       "      <th>frequency</th>\n",
       "      <th>avg</th>\n",
       "      <th>maximum</th>\n",
       "      <th>minimum</th>\n",
       "      <th>proportion</th>\n",
       "      <th>var_index</th>\n",
       "    </tr>\n",
       "  </thead>\n",
       "  <tbody>\n",
       "    <tr>\n",
       "      <th>0</th>\n",
       "      <td>Africa</td>\n",
       "      <td>23</td>\n",
       "      <td>7.87</td>\n",
       "      <td>8.17</td>\n",
       "      <td>7.42</td>\n",
       "      <td>11.11</td>\n",
       "      <td>101</td>\n",
       "    </tr>\n",
       "    <tr>\n",
       "      <th>1</th>\n",
       "      <td>Asia</td>\n",
       "      <td>84</td>\n",
       "      <td>7.77</td>\n",
       "      <td>8.50</td>\n",
       "      <td>7.17</td>\n",
       "      <td>40.58</td>\n",
       "      <td>100</td>\n",
       "    </tr>\n",
       "    <tr>\n",
       "      <th>2</th>\n",
       "      <td>North America</td>\n",
       "      <td>67</td>\n",
       "      <td>7.63</td>\n",
       "      <td>8.33</td>\n",
       "      <td>6.50</td>\n",
       "      <td>32.37</td>\n",
       "      <td>98</td>\n",
       "    </tr>\n",
       "    <tr>\n",
       "      <th>3</th>\n",
       "      <td>South America</td>\n",
       "      <td>33</td>\n",
       "      <td>7.67</td>\n",
       "      <td>8.58</td>\n",
       "      <td>7.17</td>\n",
       "      <td>15.94</td>\n",
       "      <td>99</td>\n",
       "    </tr>\n",
       "    <tr>\n",
       "      <th>4</th>\n",
       "      <td>TOTAL</td>\n",
       "      <td>207</td>\n",
       "      <td>7.72</td>\n",
       "      <td>8.58</td>\n",
       "      <td>6.50</td>\n",
       "      <td>100.00</td>\n",
       "      <td>100</td>\n",
       "    </tr>\n",
       "  </tbody>\n",
       "</table>\n",
       "</div>"
      ],
      "text/plain": [
       "       continent  frequency   avg  maximum  minimum  proportion  var_index\n",
       "0         Africa         23  7.87     8.17     7.42       11.11        101\n",
       "1           Asia         84  7.77     8.50     7.17       40.58        100\n",
       "2  North America         67  7.63     8.33     6.50       32.37         98\n",
       "3  South America         33  7.67     8.58     7.17       15.94         99\n",
       "4          TOTAL        207  7.72     8.58     6.50      100.00        100"
      ]
     },
     "execution_count": 289,
     "metadata": {},
     "output_type": "execute_result"
    }
   ],
   "source": [
    "# grouped data\n",
    "df_break = df.groupby('continent',as_index=False).agg(\n",
    "              frequency =('aroma','count'),\n",
    "              avg     =('aroma','mean'),\n",
    "              maximum =('aroma','max'),\n",
    "              minimum =('aroma','min')\n",
    "             ).reset_index()\n",
    "\n",
    "# total data\n",
    "df_total = df.agg(\n",
    "              frequency =('aroma','count'),\n",
    "              avg     =('aroma','mean'),\n",
    "              maximum =('aroma','max'),\n",
    "              minimum =('aroma','min')\n",
    "             )\n",
    "\n",
    "# transpose\n",
    "df_total_T = df_total.T\n",
    "df_total_T.reset_index()\n",
    "df_total_T['continent'] = 'TOTAL'\n",
    "df_total_T['dummy'] = 1\n",
    "\n",
    "# append grouped data and total data\n",
    "df_temp_0 = df_break.append(df_total_T)\n",
    "df_temp_0['dummy'] = 1\n",
    "\n",
    "df_total_T_1 = df_total_T.rename(columns={'avg':'total_avg', 'frequency':'total_frequency'})\n",
    "df_temp_1 = pd.merge(df_all, df_total_T_1[['total_avg','total_frequency','dummy']], how='left', on='dummy')\n",
    "\n",
    "df_temp_1['proportion'] = df_temp_1['frequency'] / df_temp_1['total_frequency'] * 100\n",
    "df_temp_1['var_index']  = df_temp_1['avg'] / df_temp_1['total_avg'] * 100\n",
    "df_temp_1.drop(['total_avg','total_frequency','dummy','index'], axis=1, inplace=True)\n",
    "\n",
    "# handle decimal places\n",
    "df_temp_1[['frequency','var_index']]= df_temp_1[['frequency','var_index']].astype(int)\n",
    "df_temp_1 = df_temp_1.round({'avg':2, 'proportion':2})\n",
    "\n",
    "df_temp_1"
   ]
  },
  {
   "cell_type": "markdown",
   "id": "70b6cb9e-5041-485f-91ff-b27adbd0380f",
   "metadata": {},
   "source": [
    "## 4.1.8 develop function to calculate score by category"
   ]
  },
  {
   "cell_type": "code",
   "execution_count": 142,
   "id": "77e582d2-84ff-45dc-9e92-b2e8657e2eaf",
   "metadata": {},
   "outputs": [],
   "source": [
    "def score_by_category(score, category):\n",
    "    global df_temp_1\n",
    "    \n",
    "    # grouped data\n",
    "    df_break = df.groupby(category,as_index=False).agg(\n",
    "                  frequency =(score,'count'),\n",
    "                  avg     =(score,'mean'),\n",
    "                  maximum =(score,'max'),\n",
    "                  minimum =(score,'min')\n",
    "                 ).reset_index()\n",
    "\n",
    "    # total data\n",
    "    df_total = df.agg(\n",
    "                  frequency =(score,'count'),\n",
    "                  avg     =(score,'mean'),\n",
    "                  maximum =(score,'max'),\n",
    "                  minimum =(score,'min')\n",
    "                 )\n",
    "\n",
    "    # transpose\n",
    "    df_total_T = df_total.T\n",
    "    df_total_T.reset_index()\n",
    "    df_total_T[category] = 'TOTAL'\n",
    "    df_total_T['dummy'] = 1\n",
    "\n",
    "    # append grouped data and total data\n",
    "    df_temp_0 = df_break.append(df_total_T)\n",
    "    df_temp_0['dummy'] = 1\n",
    "\n",
    "    df_total_T_1 = df_total_T.rename(columns={'avg':'total_avg', 'frequency':'total_frequency'})\n",
    "    df_temp_1 = pd.merge(df_temp_0, df_total_T_1[['total_avg','total_frequency','dummy']], \n",
    "                         how='left', on='dummy')\n",
    "\n",
    "    df_temp_1['proportion'] = df_temp_1['frequency'] / df_temp_1['total_frequency'] * 100\n",
    "    df_temp_1['var_index']  = df_temp_1['avg'] / df_temp_1['total_avg'] * 100\n",
    "    df_temp_1.drop(['total_avg','total_frequency','dummy','index'], axis=1, inplace=True)\n",
    "\n",
    "    # handle decimal places\n",
    "    df_temp_1[['frequency','var_index']]= df_temp_1[['frequency','var_index']].astype(int)\n",
    "    df_temp_1 = df_temp_1.round({'avg':2, 'proportion':2})\n",
    "\n",
    "    #display_html ( df_temp_1.head(1000) )"
   ]
  },
  {
   "cell_type": "code",
   "execution_count": 134,
   "id": "113874f2-efe5-4723-91a0-0169664a71c5",
   "metadata": {},
   "outputs": [
    {
     "name": "stdout",
     "output_type": "stream",
     "text": [
      "----- Aroma by Continent -----\n"
     ]
    },
    {
     "data": {
      "text/html": [
       "<div>\n",
       "<style scoped>\n",
       "    .dataframe tbody tr th:only-of-type {\n",
       "        vertical-align: middle;\n",
       "    }\n",
       "\n",
       "    .dataframe tbody tr th {\n",
       "        vertical-align: top;\n",
       "    }\n",
       "\n",
       "    .dataframe thead th {\n",
       "        text-align: right;\n",
       "    }\n",
       "</style>\n",
       "<table border=\"1\" class=\"dataframe\">\n",
       "  <thead>\n",
       "    <tr style=\"text-align: right;\">\n",
       "      <th></th>\n",
       "      <th>continent</th>\n",
       "      <th>frequency</th>\n",
       "      <th>avg</th>\n",
       "      <th>maximum</th>\n",
       "      <th>minimum</th>\n",
       "      <th>proportion</th>\n",
       "      <th>var_index</th>\n",
       "    </tr>\n",
       "  </thead>\n",
       "  <tbody>\n",
       "    <tr>\n",
       "      <th>0</th>\n",
       "      <td>Africa</td>\n",
       "      <td>23</td>\n",
       "      <td>7.87</td>\n",
       "      <td>8.17</td>\n",
       "      <td>7.42</td>\n",
       "      <td>11.11</td>\n",
       "      <td>101</td>\n",
       "    </tr>\n",
       "    <tr>\n",
       "      <th>1</th>\n",
       "      <td>Asia</td>\n",
       "      <td>84</td>\n",
       "      <td>7.77</td>\n",
       "      <td>8.50</td>\n",
       "      <td>7.17</td>\n",
       "      <td>40.58</td>\n",
       "      <td>100</td>\n",
       "    </tr>\n",
       "    <tr>\n",
       "      <th>2</th>\n",
       "      <td>North America</td>\n",
       "      <td>67</td>\n",
       "      <td>7.63</td>\n",
       "      <td>8.33</td>\n",
       "      <td>6.50</td>\n",
       "      <td>32.37</td>\n",
       "      <td>98</td>\n",
       "    </tr>\n",
       "    <tr>\n",
       "      <th>3</th>\n",
       "      <td>South America</td>\n",
       "      <td>33</td>\n",
       "      <td>7.67</td>\n",
       "      <td>8.58</td>\n",
       "      <td>7.17</td>\n",
       "      <td>15.94</td>\n",
       "      <td>99</td>\n",
       "    </tr>\n",
       "    <tr>\n",
       "      <th>4</th>\n",
       "      <td>TOTAL</td>\n",
       "      <td>207</td>\n",
       "      <td>7.72</td>\n",
       "      <td>8.58</td>\n",
       "      <td>6.50</td>\n",
       "      <td>100.00</td>\n",
       "      <td>100</td>\n",
       "    </tr>\n",
       "  </tbody>\n",
       "</table>\n",
       "</div>"
      ]
     },
     "metadata": {},
     "output_type": "display_data"
    }
   ],
   "source": [
    "print('----- Aroma by Continent -----')\n",
    "score_by_category('aroma', 'continent')"
   ]
  },
  {
   "cell_type": "code",
   "execution_count": 143,
   "id": "49da199b-8e0e-407c-950b-00cf47dfb92d",
   "metadata": {},
   "outputs": [
    {
     "data": {
      "text/html": [
       "<div>\n",
       "<style scoped>\n",
       "    .dataframe tbody tr th:only-of-type {\n",
       "        vertical-align: middle;\n",
       "    }\n",
       "\n",
       "    .dataframe tbody tr th {\n",
       "        vertical-align: top;\n",
       "    }\n",
       "\n",
       "    .dataframe thead th {\n",
       "        text-align: right;\n",
       "    }\n",
       "</style>\n",
       "<table border=\"1\" class=\"dataframe\">\n",
       "  <thead>\n",
       "    <tr style=\"text-align: right;\">\n",
       "      <th></th>\n",
       "      <th>continent</th>\n",
       "      <th>proportion</th>\n",
       "      <th>aroma_avg</th>\n",
       "      <th>aroma_index</th>\n",
       "      <th>flavor_avg</th>\n",
       "      <th>flavor_index</th>\n",
       "    </tr>\n",
       "  </thead>\n",
       "  <tbody>\n",
       "    <tr>\n",
       "      <th>0</th>\n",
       "      <td>Africa</td>\n",
       "      <td>11.11</td>\n",
       "      <td>7.87</td>\n",
       "      <td>101</td>\n",
       "      <td>7.82</td>\n",
       "      <td>101</td>\n",
       "    </tr>\n",
       "    <tr>\n",
       "      <th>1</th>\n",
       "      <td>Asia</td>\n",
       "      <td>40.58</td>\n",
       "      <td>7.77</td>\n",
       "      <td>100</td>\n",
       "      <td>7.81</td>\n",
       "      <td>100</td>\n",
       "    </tr>\n",
       "    <tr>\n",
       "      <th>2</th>\n",
       "      <td>North America</td>\n",
       "      <td>32.37</td>\n",
       "      <td>7.63</td>\n",
       "      <td>98</td>\n",
       "      <td>7.68</td>\n",
       "      <td>99</td>\n",
       "    </tr>\n",
       "    <tr>\n",
       "      <th>3</th>\n",
       "      <td>South America</td>\n",
       "      <td>15.94</td>\n",
       "      <td>7.67</td>\n",
       "      <td>99</td>\n",
       "      <td>7.66</td>\n",
       "      <td>98</td>\n",
       "    </tr>\n",
       "    <tr>\n",
       "      <th>4</th>\n",
       "      <td>TOTAL</td>\n",
       "      <td>100.00</td>\n",
       "      <td>7.72</td>\n",
       "      <td>100</td>\n",
       "      <td>7.74</td>\n",
       "      <td>100</td>\n",
       "    </tr>\n",
       "  </tbody>\n",
       "</table>\n",
       "</div>"
      ],
      "text/plain": [
       "       continent  proportion  aroma_avg  aroma_index  flavor_avg  flavor_index\n",
       "0         Africa       11.11       7.87          101        7.82           101\n",
       "1           Asia       40.58       7.77          100        7.81           100\n",
       "2  North America       32.37       7.63           98        7.68            99\n",
       "3  South America       15.94       7.67           99        7.66            98\n",
       "4          TOTAL      100.00       7.72          100        7.74           100"
      ]
     },
     "execution_count": 143,
     "metadata": {},
     "output_type": "execute_result"
    }
   ],
   "source": [
    "score_by_category('aroma', 'continent')\n",
    "df_aroma = df_temp_1[['continent','proportion','avg','var_index']].rename(columns={'avg':'aroma_avg','var_index':'aroma_index',})\n",
    "\n",
    "score_by_category('flavor', 'continent')\n",
    "df_flavor = df_temp_1[['continent','avg','var_index']].rename(columns={'avg':'flavor_avg','var_index':'flavor_index',})\n",
    "\n",
    "df_multiple = pd.merge(df_aroma, df_flavor, how='left', on='continent')\n",
    "\n",
    "df_multiple"
   ]
  },
  {
   "cell_type": "code",
   "execution_count": 151,
   "id": "272664f5-c2ea-414b-ab58-405de16eb0da",
   "metadata": {},
   "outputs": [],
   "source": [
    "def multiple_score(category):\n",
    "    score_by_category('aroma', category)\n",
    "    df_aroma = df_temp_1[[category,'proportion','avg','var_index']].rename(columns={'avg':'aroma_avg','var_index':'aroma_index',})\n",
    "\n",
    "    score_by_category('flavor', category)\n",
    "    df_flavor = df_temp_1[[category,'avg','var_index']].rename(columns={'avg':'flavor_avg','var_index':'flavor_index',})\n",
    "\n",
    "    score_by_category('aftertaste', category)\n",
    "    df_aftertaste = df_temp_1[[category,'avg','var_index']].rename(columns={'avg':'aftertaste_avg','var_index':'aftertaste_index',})\n",
    "\n",
    "    score_by_category('acidity', category)\n",
    "    df_acidity = df_temp_1[[category,'avg','var_index']].rename(columns={'avg':'acidity_avg','var_index':'acidity_index',})\n",
    "\n",
    "    score_by_category('sweetness', category)\n",
    "    df_sweetness = df_temp_1[[category,'avg','var_index']].rename(columns={'avg':'sweetness_avg','var_index':'sweetness_index',})\n",
    "    \n",
    "    df_multiple = pd.merge(df_aroma,    df_flavor,     how='left', on=category)\n",
    "    df_multiple = pd.merge(df_multiple, df_aftertaste, how='left', on=category)\n",
    "    df_multiple = pd.merge(df_multiple, df_sweetness,  how='left', on=category)\n",
    "    \n",
    "    display_html ( df_multiple.head(1000) )"
   ]
  },
  {
   "cell_type": "code",
   "execution_count": 152,
   "id": "baf4fd9d-334a-4dae-9b8a-1a72405c07aa",
   "metadata": {},
   "outputs": [
    {
     "data": {
      "text/html": [
       "<div>\n",
       "<style scoped>\n",
       "    .dataframe tbody tr th:only-of-type {\n",
       "        vertical-align: middle;\n",
       "    }\n",
       "\n",
       "    .dataframe tbody tr th {\n",
       "        vertical-align: top;\n",
       "    }\n",
       "\n",
       "    .dataframe thead th {\n",
       "        text-align: right;\n",
       "    }\n",
       "</style>\n",
       "<table border=\"1\" class=\"dataframe\">\n",
       "  <thead>\n",
       "    <tr style=\"text-align: right;\">\n",
       "      <th></th>\n",
       "      <th>continent</th>\n",
       "      <th>proportion</th>\n",
       "      <th>aroma_avg</th>\n",
       "      <th>aroma_index</th>\n",
       "      <th>flavor_avg</th>\n",
       "      <th>flavor_index</th>\n",
       "      <th>aftertaste_avg</th>\n",
       "      <th>aftertaste_index</th>\n",
       "      <th>sweetness_avg</th>\n",
       "      <th>sweetness_index</th>\n",
       "    </tr>\n",
       "  </thead>\n",
       "  <tbody>\n",
       "    <tr>\n",
       "      <th>0</th>\n",
       "      <td>Africa</td>\n",
       "      <td>11.11</td>\n",
       "      <td>7.87</td>\n",
       "      <td>101</td>\n",
       "      <td>7.82</td>\n",
       "      <td>101</td>\n",
       "      <td>7.72</td>\n",
       "      <td>101</td>\n",
       "      <td>10.0</td>\n",
       "      <td>100</td>\n",
       "    </tr>\n",
       "    <tr>\n",
       "      <th>1</th>\n",
       "      <td>Asia</td>\n",
       "      <td>40.58</td>\n",
       "      <td>7.77</td>\n",
       "      <td>100</td>\n",
       "      <td>7.81</td>\n",
       "      <td>100</td>\n",
       "      <td>7.66</td>\n",
       "      <td>100</td>\n",
       "      <td>10.0</td>\n",
       "      <td>100</td>\n",
       "    </tr>\n",
       "    <tr>\n",
       "      <th>2</th>\n",
       "      <td>North America</td>\n",
       "      <td>32.37</td>\n",
       "      <td>7.63</td>\n",
       "      <td>98</td>\n",
       "      <td>7.68</td>\n",
       "      <td>99</td>\n",
       "      <td>7.52</td>\n",
       "      <td>98</td>\n",
       "      <td>10.0</td>\n",
       "      <td>100</td>\n",
       "    </tr>\n",
       "    <tr>\n",
       "      <th>3</th>\n",
       "      <td>South America</td>\n",
       "      <td>15.94</td>\n",
       "      <td>7.67</td>\n",
       "      <td>99</td>\n",
       "      <td>7.66</td>\n",
       "      <td>98</td>\n",
       "      <td>7.52</td>\n",
       "      <td>98</td>\n",
       "      <td>10.0</td>\n",
       "      <td>100</td>\n",
       "    </tr>\n",
       "    <tr>\n",
       "      <th>4</th>\n",
       "      <td>TOTAL</td>\n",
       "      <td>100.00</td>\n",
       "      <td>7.72</td>\n",
       "      <td>100</td>\n",
       "      <td>7.74</td>\n",
       "      <td>100</td>\n",
       "      <td>7.60</td>\n",
       "      <td>100</td>\n",
       "      <td>10.0</td>\n",
       "      <td>100</td>\n",
       "    </tr>\n",
       "  </tbody>\n",
       "</table>\n",
       "</div>"
      ]
     },
     "metadata": {},
     "output_type": "display_data"
    }
   ],
   "source": [
    "multiple_score('continent')"
   ]
  },
  {
   "cell_type": "code",
   "execution_count": 126,
   "id": "60188c24-1723-4482-a780-f58677542d95",
   "metadata": {},
   "outputs": [
    {
     "data": {
      "text/html": [
       "<div>\n",
       "<style scoped>\n",
       "    .dataframe tbody tr th:only-of-type {\n",
       "        vertical-align: middle;\n",
       "    }\n",
       "\n",
       "    .dataframe tbody tr th {\n",
       "        vertical-align: top;\n",
       "    }\n",
       "\n",
       "    .dataframe thead th {\n",
       "        text-align: right;\n",
       "    }\n",
       "</style>\n",
       "<table border=\"1\" class=\"dataframe\">\n",
       "  <thead>\n",
       "    <tr style=\"text-align: right;\">\n",
       "      <th></th>\n",
       "      <th>continent</th>\n",
       "      <th>frequency</th>\n",
       "      <th>avg</th>\n",
       "      <th>maximum</th>\n",
       "      <th>minimum</th>\n",
       "      <th>proportion</th>\n",
       "      <th>var_index</th>\n",
       "    </tr>\n",
       "  </thead>\n",
       "  <tbody>\n",
       "    <tr>\n",
       "      <th>0</th>\n",
       "      <td>Africa</td>\n",
       "      <td>23</td>\n",
       "      <td>7.82</td>\n",
       "      <td>8.25</td>\n",
       "      <td>7.42</td>\n",
       "      <td>11.11</td>\n",
       "      <td>101</td>\n",
       "    </tr>\n",
       "    <tr>\n",
       "      <th>1</th>\n",
       "      <td>Asia</td>\n",
       "      <td>84</td>\n",
       "      <td>7.81</td>\n",
       "      <td>8.50</td>\n",
       "      <td>7.17</td>\n",
       "      <td>40.58</td>\n",
       "      <td>100</td>\n",
       "    </tr>\n",
       "    <tr>\n",
       "      <th>2</th>\n",
       "      <td>North America</td>\n",
       "      <td>67</td>\n",
       "      <td>7.68</td>\n",
       "      <td>8.33</td>\n",
       "      <td>6.75</td>\n",
       "      <td>32.37</td>\n",
       "      <td>99</td>\n",
       "    </tr>\n",
       "    <tr>\n",
       "      <th>3</th>\n",
       "      <td>South America</td>\n",
       "      <td>33</td>\n",
       "      <td>7.66</td>\n",
       "      <td>8.50</td>\n",
       "      <td>7.08</td>\n",
       "      <td>15.94</td>\n",
       "      <td>98</td>\n",
       "    </tr>\n",
       "    <tr>\n",
       "      <th>4</th>\n",
       "      <td>TOTAL</td>\n",
       "      <td>207</td>\n",
       "      <td>7.74</td>\n",
       "      <td>8.50</td>\n",
       "      <td>6.75</td>\n",
       "      <td>100.00</td>\n",
       "      <td>100</td>\n",
       "    </tr>\n",
       "  </tbody>\n",
       "</table>\n",
       "</div>"
      ]
     },
     "metadata": {},
     "output_type": "display_data"
    }
   ],
   "source": [
    "score_by_category('flavor', 'continent')"
   ]
  },
  {
   "cell_type": "code",
   "execution_count": 331,
   "id": "07d472f1-da2c-4cbc-97f9-d7f012d13c03",
   "metadata": {},
   "outputs": [
    {
     "name": "stdout",
     "output_type": "stream",
     "text": [
      "----- Aroma by country_of_origin -----\n"
     ]
    },
    {
     "data": {
      "text/html": [
       "<div>\n",
       "<style scoped>\n",
       "    .dataframe tbody tr th:only-of-type {\n",
       "        vertical-align: middle;\n",
       "    }\n",
       "\n",
       "    .dataframe tbody tr th {\n",
       "        vertical-align: top;\n",
       "    }\n",
       "\n",
       "    .dataframe thead th {\n",
       "        text-align: right;\n",
       "    }\n",
       "</style>\n",
       "<table border=\"1\" class=\"dataframe\">\n",
       "  <thead>\n",
       "    <tr style=\"text-align: right;\">\n",
       "      <th></th>\n",
       "      <th>country_of_origin</th>\n",
       "      <th>frequency</th>\n",
       "      <th>avg</th>\n",
       "      <th>maximum</th>\n",
       "      <th>minimum</th>\n",
       "      <th>proportion</th>\n",
       "      <th>var_index</th>\n",
       "    </tr>\n",
       "  </thead>\n",
       "  <tbody>\n",
       "    <tr>\n",
       "      <th>0</th>\n",
       "      <td>Brazil</td>\n",
       "      <td>10</td>\n",
       "      <td>7.48</td>\n",
       "      <td>7.83</td>\n",
       "      <td>7.17</td>\n",
       "      <td>4.83</td>\n",
       "      <td>96</td>\n",
       "    </tr>\n",
       "    <tr>\n",
       "      <th>1</th>\n",
       "      <td>Colombia</td>\n",
       "      <td>19</td>\n",
       "      <td>7.78</td>\n",
       "      <td>8.58</td>\n",
       "      <td>7.25</td>\n",
       "      <td>9.18</td>\n",
       "      <td>100</td>\n",
       "    </tr>\n",
       "    <tr>\n",
       "      <th>2</th>\n",
       "      <td>Costa Rica</td>\n",
       "      <td>8</td>\n",
       "      <td>7.59</td>\n",
       "      <td>8.08</td>\n",
       "      <td>7.33</td>\n",
       "      <td>3.86</td>\n",
       "      <td>98</td>\n",
       "    </tr>\n",
       "    <tr>\n",
       "      <th>3</th>\n",
       "      <td>El Salvador</td>\n",
       "      <td>7</td>\n",
       "      <td>7.33</td>\n",
       "      <td>7.83</td>\n",
       "      <td>6.50</td>\n",
       "      <td>3.38</td>\n",
       "      <td>94</td>\n",
       "    </tr>\n",
       "    <tr>\n",
       "      <th>4</th>\n",
       "      <td>Ethiopia</td>\n",
       "      <td>11</td>\n",
       "      <td>7.86</td>\n",
       "      <td>8.17</td>\n",
       "      <td>7.42</td>\n",
       "      <td>5.31</td>\n",
       "      <td>101</td>\n",
       "    </tr>\n",
       "    <tr>\n",
       "      <th>5</th>\n",
       "      <td>Guatemala</td>\n",
       "      <td>21</td>\n",
       "      <td>7.70</td>\n",
       "      <td>8.33</td>\n",
       "      <td>7.33</td>\n",
       "      <td>10.14</td>\n",
       "      <td>99</td>\n",
       "    </tr>\n",
       "    <tr>\n",
       "      <th>6</th>\n",
       "      <td>Honduras</td>\n",
       "      <td>13</td>\n",
       "      <td>7.71</td>\n",
       "      <td>7.83</td>\n",
       "      <td>7.58</td>\n",
       "      <td>6.28</td>\n",
       "      <td>99</td>\n",
       "    </tr>\n",
       "    <tr>\n",
       "      <th>7</th>\n",
       "      <td>Indonesia</td>\n",
       "      <td>3</td>\n",
       "      <td>7.72</td>\n",
       "      <td>7.83</td>\n",
       "      <td>7.67</td>\n",
       "      <td>1.45</td>\n",
       "      <td>100</td>\n",
       "    </tr>\n",
       "    <tr>\n",
       "      <th>8</th>\n",
       "      <td>Kenya</td>\n",
       "      <td>2</td>\n",
       "      <td>7.84</td>\n",
       "      <td>8.17</td>\n",
       "      <td>7.50</td>\n",
       "      <td>0.97</td>\n",
       "      <td>101</td>\n",
       "    </tr>\n",
       "    <tr>\n",
       "      <th>9</th>\n",
       "      <td>Laos</td>\n",
       "      <td>3</td>\n",
       "      <td>7.75</td>\n",
       "      <td>8.33</td>\n",
       "      <td>7.25</td>\n",
       "      <td>1.45</td>\n",
       "      <td>100</td>\n",
       "    </tr>\n",
       "    <tr>\n",
       "      <th>10</th>\n",
       "      <td>Madagascar</td>\n",
       "      <td>1</td>\n",
       "      <td>7.92</td>\n",
       "      <td>7.92</td>\n",
       "      <td>7.92</td>\n",
       "      <td>0.48</td>\n",
       "      <td>102</td>\n",
       "    </tr>\n",
       "    <tr>\n",
       "      <th>11</th>\n",
       "      <td>Mexico</td>\n",
       "      <td>4</td>\n",
       "      <td>7.67</td>\n",
       "      <td>7.75</td>\n",
       "      <td>7.58</td>\n",
       "      <td>1.93</td>\n",
       "      <td>99</td>\n",
       "    </tr>\n",
       "    <tr>\n",
       "      <th>12</th>\n",
       "      <td>Myanmar</td>\n",
       "      <td>1</td>\n",
       "      <td>7.83</td>\n",
       "      <td>7.83</td>\n",
       "      <td>7.83</td>\n",
       "      <td>0.48</td>\n",
       "      <td>101</td>\n",
       "    </tr>\n",
       "    <tr>\n",
       "      <th>13</th>\n",
       "      <td>Nicaragua</td>\n",
       "      <td>7</td>\n",
       "      <td>7.48</td>\n",
       "      <td>7.92</td>\n",
       "      <td>7.25</td>\n",
       "      <td>3.38</td>\n",
       "      <td>96</td>\n",
       "    </tr>\n",
       "    <tr>\n",
       "      <th>14</th>\n",
       "      <td>Panama</td>\n",
       "      <td>2</td>\n",
       "      <td>7.79</td>\n",
       "      <td>7.83</td>\n",
       "      <td>7.75</td>\n",
       "      <td>0.97</td>\n",
       "      <td>100</td>\n",
       "    </tr>\n",
       "    <tr>\n",
       "      <th>15</th>\n",
       "      <td>Peru</td>\n",
       "      <td>4</td>\n",
       "      <td>7.67</td>\n",
       "      <td>8.00</td>\n",
       "      <td>7.50</td>\n",
       "      <td>1.93</td>\n",
       "      <td>99</td>\n",
       "    </tr>\n",
       "    <tr>\n",
       "      <th>16</th>\n",
       "      <td>Taiwan</td>\n",
       "      <td>61</td>\n",
       "      <td>7.84</td>\n",
       "      <td>8.50</td>\n",
       "      <td>7.25</td>\n",
       "      <td>29.47</td>\n",
       "      <td>101</td>\n",
       "    </tr>\n",
       "    <tr>\n",
       "      <th>17</th>\n",
       "      <td>Tanzania, United Republic Of</td>\n",
       "      <td>6</td>\n",
       "      <td>7.90</td>\n",
       "      <td>8.17</td>\n",
       "      <td>7.58</td>\n",
       "      <td>2.90</td>\n",
       "      <td>102</td>\n",
       "    </tr>\n",
       "    <tr>\n",
       "      <th>18</th>\n",
       "      <td>Thailand</td>\n",
       "      <td>12</td>\n",
       "      <td>7.47</td>\n",
       "      <td>7.92</td>\n",
       "      <td>7.17</td>\n",
       "      <td>5.80</td>\n",
       "      <td>96</td>\n",
       "    </tr>\n",
       "    <tr>\n",
       "      <th>19</th>\n",
       "      <td>Uganda</td>\n",
       "      <td>3</td>\n",
       "      <td>7.83</td>\n",
       "      <td>8.00</td>\n",
       "      <td>7.75</td>\n",
       "      <td>1.45</td>\n",
       "      <td>101</td>\n",
       "    </tr>\n",
       "    <tr>\n",
       "      <th>20</th>\n",
       "      <td>United States (Hawaii)</td>\n",
       "      <td>5</td>\n",
       "      <td>7.73</td>\n",
       "      <td>8.00</td>\n",
       "      <td>7.33</td>\n",
       "      <td>2.42</td>\n",
       "      <td>100</td>\n",
       "    </tr>\n",
       "    <tr>\n",
       "      <th>21</th>\n",
       "      <td>Vietnam</td>\n",
       "      <td>4</td>\n",
       "      <td>7.64</td>\n",
       "      <td>8.00</td>\n",
       "      <td>7.50</td>\n",
       "      <td>1.93</td>\n",
       "      <td>99</td>\n",
       "    </tr>\n",
       "    <tr>\n",
       "      <th>22</th>\n",
       "      <td>TOTAL</td>\n",
       "      <td>207</td>\n",
       "      <td>7.72</td>\n",
       "      <td>8.58</td>\n",
       "      <td>6.50</td>\n",
       "      <td>100.00</td>\n",
       "      <td>100</td>\n",
       "    </tr>\n",
       "  </tbody>\n",
       "</table>\n",
       "</div>"
      ]
     },
     "metadata": {},
     "output_type": "display_data"
    }
   ],
   "source": [
    "print('----- Aroma by country_of_origin -----')\n",
    "score_by_category('aroma', 'country_of_origin')"
   ]
  },
  {
   "cell_type": "code",
   "execution_count": 332,
   "id": "8f5e5742-7ca5-4a3c-9382-bacbc10da0ab",
   "metadata": {},
   "outputs": [
    {
     "data": {
      "text/html": [
       "<div>\n",
       "<style scoped>\n",
       "    .dataframe tbody tr th:only-of-type {\n",
       "        vertical-align: middle;\n",
       "    }\n",
       "\n",
       "    .dataframe tbody tr th {\n",
       "        vertical-align: top;\n",
       "    }\n",
       "\n",
       "    .dataframe thead th {\n",
       "        text-align: right;\n",
       "    }\n",
       "</style>\n",
       "<table border=\"1\" class=\"dataframe\">\n",
       "  <thead>\n",
       "    <tr style=\"text-align: right;\">\n",
       "      <th></th>\n",
       "      <th>harvest_year</th>\n",
       "      <th>frequency</th>\n",
       "      <th>avg</th>\n",
       "      <th>maximum</th>\n",
       "      <th>minimum</th>\n",
       "      <th>proportion</th>\n",
       "      <th>var_index</th>\n",
       "    </tr>\n",
       "  </thead>\n",
       "  <tbody>\n",
       "    <tr>\n",
       "      <th>0</th>\n",
       "      <td>2017 / 2018</td>\n",
       "      <td>1</td>\n",
       "      <td>7.75</td>\n",
       "      <td>7.75</td>\n",
       "      <td>7.75</td>\n",
       "      <td>0.48</td>\n",
       "      <td>100</td>\n",
       "    </tr>\n",
       "    <tr>\n",
       "      <th>1</th>\n",
       "      <td>2018 / 2019</td>\n",
       "      <td>1</td>\n",
       "      <td>7.42</td>\n",
       "      <td>7.42</td>\n",
       "      <td>7.42</td>\n",
       "      <td>0.48</td>\n",
       "      <td>96</td>\n",
       "    </tr>\n",
       "    <tr>\n",
       "      <th>2</th>\n",
       "      <td>2021</td>\n",
       "      <td>13</td>\n",
       "      <td>7.58</td>\n",
       "      <td>8.08</td>\n",
       "      <td>7.25</td>\n",
       "      <td>6.28</td>\n",
       "      <td>98</td>\n",
       "    </tr>\n",
       "    <tr>\n",
       "      <th>3</th>\n",
       "      <td>2021 / 2022</td>\n",
       "      <td>99</td>\n",
       "      <td>7.77</td>\n",
       "      <td>8.58</td>\n",
       "      <td>7.25</td>\n",
       "      <td>47.83</td>\n",
       "      <td>100</td>\n",
       "    </tr>\n",
       "    <tr>\n",
       "      <th>4</th>\n",
       "      <td>2022</td>\n",
       "      <td>48</td>\n",
       "      <td>7.76</td>\n",
       "      <td>8.33</td>\n",
       "      <td>7.17</td>\n",
       "      <td>23.19</td>\n",
       "      <td>100</td>\n",
       "    </tr>\n",
       "    <tr>\n",
       "      <th>5</th>\n",
       "      <td>2022 / 2023</td>\n",
       "      <td>42</td>\n",
       "      <td>7.66</td>\n",
       "      <td>8.17</td>\n",
       "      <td>7.17</td>\n",
       "      <td>20.29</td>\n",
       "      <td>99</td>\n",
       "    </tr>\n",
       "    <tr>\n",
       "      <th>6</th>\n",
       "      <td>2023</td>\n",
       "      <td>3</td>\n",
       "      <td>7.00</td>\n",
       "      <td>7.42</td>\n",
       "      <td>6.50</td>\n",
       "      <td>1.45</td>\n",
       "      <td>90</td>\n",
       "    </tr>\n",
       "    <tr>\n",
       "      <th>7</th>\n",
       "      <td>TOTAL</td>\n",
       "      <td>207</td>\n",
       "      <td>7.72</td>\n",
       "      <td>8.58</td>\n",
       "      <td>6.50</td>\n",
       "      <td>100.00</td>\n",
       "      <td>100</td>\n",
       "    </tr>\n",
       "  </tbody>\n",
       "</table>\n",
       "</div>"
      ]
     },
     "metadata": {},
     "output_type": "display_data"
    }
   ],
   "source": [
    "score_by_category('aroma','harvest_year')"
   ]
  },
  {
   "cell_type": "code",
   "execution_count": 333,
   "id": "b36bb76c-ecb0-4a3a-98ef-152c84879ca2",
   "metadata": {},
   "outputs": [
    {
     "data": {
      "text/html": [
       "<div>\n",
       "<style scoped>\n",
       "    .dataframe tbody tr th:only-of-type {\n",
       "        vertical-align: middle;\n",
       "    }\n",
       "\n",
       "    .dataframe tbody tr th {\n",
       "        vertical-align: top;\n",
       "    }\n",
       "\n",
       "    .dataframe thead th {\n",
       "        text-align: right;\n",
       "    }\n",
       "</style>\n",
       "<table border=\"1\" class=\"dataframe\">\n",
       "  <thead>\n",
       "    <tr style=\"text-align: right;\">\n",
       "      <th></th>\n",
       "      <th>processing_method</th>\n",
       "      <th>frequency</th>\n",
       "      <th>avg</th>\n",
       "      <th>maximum</th>\n",
       "      <th>minimum</th>\n",
       "      <th>proportion</th>\n",
       "      <th>var_index</th>\n",
       "    </tr>\n",
       "  </thead>\n",
       "  <tbody>\n",
       "    <tr>\n",
       "      <th>0</th>\n",
       "      <td>Anaerobico 1000h</td>\n",
       "      <td>1</td>\n",
       "      <td>7.67</td>\n",
       "      <td>7.67</td>\n",
       "      <td>7.67</td>\n",
       "      <td>0.48</td>\n",
       "      <td>99</td>\n",
       "    </tr>\n",
       "    <tr>\n",
       "      <th>1</th>\n",
       "      <td>Double Anaerobic Washed</td>\n",
       "      <td>1</td>\n",
       "      <td>8.58</td>\n",
       "      <td>8.58</td>\n",
       "      <td>8.58</td>\n",
       "      <td>0.48</td>\n",
       "      <td>111</td>\n",
       "    </tr>\n",
       "    <tr>\n",
       "      <th>2</th>\n",
       "      <td>Double Carbonic Maceration / Natural</td>\n",
       "      <td>1</td>\n",
       "      <td>7.83</td>\n",
       "      <td>7.83</td>\n",
       "      <td>7.83</td>\n",
       "      <td>0.48</td>\n",
       "      <td>101</td>\n",
       "    </tr>\n",
       "    <tr>\n",
       "      <th>3</th>\n",
       "      <td>Honey,Mossto</td>\n",
       "      <td>1</td>\n",
       "      <td>8.33</td>\n",
       "      <td>8.33</td>\n",
       "      <td>8.33</td>\n",
       "      <td>0.48</td>\n",
       "      <td>107</td>\n",
       "    </tr>\n",
       "    <tr>\n",
       "      <th>4</th>\n",
       "      <td>Natural / Dry</td>\n",
       "      <td>46</td>\n",
       "      <td>7.73</td>\n",
       "      <td>8.25</td>\n",
       "      <td>6.50</td>\n",
       "      <td>22.22</td>\n",
       "      <td>100</td>\n",
       "    </tr>\n",
       "    <tr>\n",
       "      <th>5</th>\n",
       "      <td>Pulped natural / honey</td>\n",
       "      <td>25</td>\n",
       "      <td>7.67</td>\n",
       "      <td>8.25</td>\n",
       "      <td>7.25</td>\n",
       "      <td>12.08</td>\n",
       "      <td>99</td>\n",
       "    </tr>\n",
       "    <tr>\n",
       "      <th>6</th>\n",
       "      <td>SEMI-LAVADO</td>\n",
       "      <td>1</td>\n",
       "      <td>7.25</td>\n",
       "      <td>7.25</td>\n",
       "      <td>7.25</td>\n",
       "      <td>0.48</td>\n",
       "      <td>93</td>\n",
       "    </tr>\n",
       "    <tr>\n",
       "      <th>7</th>\n",
       "      <td>Semi Washed</td>\n",
       "      <td>1</td>\n",
       "      <td>8.33</td>\n",
       "      <td>8.33</td>\n",
       "      <td>8.33</td>\n",
       "      <td>0.48</td>\n",
       "      <td>107</td>\n",
       "    </tr>\n",
       "    <tr>\n",
       "      <th>8</th>\n",
       "      <td>Washed / Wet</td>\n",
       "      <td>124</td>\n",
       "      <td>7.71</td>\n",
       "      <td>8.50</td>\n",
       "      <td>7.17</td>\n",
       "      <td>59.90</td>\n",
       "      <td>99</td>\n",
       "    </tr>\n",
       "    <tr>\n",
       "      <th>9</th>\n",
       "      <td>Wet Hulling</td>\n",
       "      <td>1</td>\n",
       "      <td>7.67</td>\n",
       "      <td>7.67</td>\n",
       "      <td>7.67</td>\n",
       "      <td>0.48</td>\n",
       "      <td>99</td>\n",
       "    </tr>\n",
       "    <tr>\n",
       "      <th>10</th>\n",
       "      <td>TOTAL</td>\n",
       "      <td>207</td>\n",
       "      <td>7.72</td>\n",
       "      <td>8.58</td>\n",
       "      <td>6.50</td>\n",
       "      <td>100.00</td>\n",
       "      <td>100</td>\n",
       "    </tr>\n",
       "  </tbody>\n",
       "</table>\n",
       "</div>"
      ]
     },
     "metadata": {},
     "output_type": "display_data"
    }
   ],
   "source": [
    "score_by_category('aroma','processing_method')"
   ]
  },
  {
   "cell_type": "code",
   "execution_count": 335,
   "id": "07474445-bf5b-4178-8576-a539a247a180",
   "metadata": {},
   "outputs": [
    {
     "data": {
      "text/html": [
       "<div>\n",
       "<style scoped>\n",
       "    .dataframe tbody tr th:only-of-type {\n",
       "        vertical-align: middle;\n",
       "    }\n",
       "\n",
       "    .dataframe tbody tr th {\n",
       "        vertical-align: top;\n",
       "    }\n",
       "\n",
       "    .dataframe thead th {\n",
       "        text-align: right;\n",
       "    }\n",
       "</style>\n",
       "<table border=\"1\" class=\"dataframe\">\n",
       "  <thead>\n",
       "    <tr style=\"text-align: right;\">\n",
       "      <th></th>\n",
       "      <th>in_country_partner</th>\n",
       "      <th>frequency</th>\n",
       "      <th>avg</th>\n",
       "      <th>maximum</th>\n",
       "      <th>minimum</th>\n",
       "      <th>proportion</th>\n",
       "      <th>var_index</th>\n",
       "    </tr>\n",
       "  </thead>\n",
       "  <tbody>\n",
       "    <tr>\n",
       "      <th>0</th>\n",
       "      <td>ASOCIACIÓN COLOMBIANA PARA LA EXCELENCIA DEL CAFE</td>\n",
       "      <td>4</td>\n",
       "      <td>7.86</td>\n",
       "      <td>8.00</td>\n",
       "      <td>7.75</td>\n",
       "      <td>1.93</td>\n",
       "      <td>101</td>\n",
       "    </tr>\n",
       "    <tr>\n",
       "      <th>1</th>\n",
       "      <td>Asociacion Nacional Del Café</td>\n",
       "      <td>14</td>\n",
       "      <td>7.65</td>\n",
       "      <td>7.83</td>\n",
       "      <td>7.58</td>\n",
       "      <td>6.76</td>\n",
       "      <td>99</td>\n",
       "    </tr>\n",
       "    <tr>\n",
       "      <th>2</th>\n",
       "      <td>Asociación de Cafés Especiales de Nicaragua</td>\n",
       "      <td>3</td>\n",
       "      <td>7.36</td>\n",
       "      <td>7.42</td>\n",
       "      <td>7.33</td>\n",
       "      <td>1.45</td>\n",
       "      <td>95</td>\n",
       "    </tr>\n",
       "    <tr>\n",
       "      <th>3</th>\n",
       "      <td>Barista and Coffee Academy of Asia</td>\n",
       "      <td>1</td>\n",
       "      <td>7.83</td>\n",
       "      <td>7.83</td>\n",
       "      <td>7.83</td>\n",
       "      <td>0.48</td>\n",
       "      <td>101</td>\n",
       "    </tr>\n",
       "    <tr>\n",
       "      <th>4</th>\n",
       "      <td>Blossom Valley International宸嶧國際</td>\n",
       "      <td>6</td>\n",
       "      <td>7.85</td>\n",
       "      <td>8.08</td>\n",
       "      <td>7.67</td>\n",
       "      <td>2.90</td>\n",
       "      <td>101</td>\n",
       "    </tr>\n",
       "    <tr>\n",
       "      <th>5</th>\n",
       "      <td>Brazil Specialty Coffee Association</td>\n",
       "      <td>4</td>\n",
       "      <td>7.52</td>\n",
       "      <td>7.83</td>\n",
       "      <td>7.17</td>\n",
       "      <td>1.93</td>\n",
       "      <td>97</td>\n",
       "    </tr>\n",
       "    <tr>\n",
       "      <th>6</th>\n",
       "      <td>Centro Agroecológico del Café A.C.</td>\n",
       "      <td>5</td>\n",
       "      <td>7.65</td>\n",
       "      <td>8.00</td>\n",
       "      <td>7.25</td>\n",
       "      <td>2.42</td>\n",
       "      <td>99</td>\n",
       "    </tr>\n",
       "    <tr>\n",
       "      <th>7</th>\n",
       "      <td>FABB Academy of Coffee</td>\n",
       "      <td>9</td>\n",
       "      <td>7.44</td>\n",
       "      <td>7.92</td>\n",
       "      <td>7.17</td>\n",
       "      <td>4.35</td>\n",
       "      <td>96</td>\n",
       "    </tr>\n",
       "    <tr>\n",
       "      <th>8</th>\n",
       "      <td>Firedancer Coffee Consultants</td>\n",
       "      <td>1</td>\n",
       "      <td>7.50</td>\n",
       "      <td>7.50</td>\n",
       "      <td>7.50</td>\n",
       "      <td>0.48</td>\n",
       "      <td>97</td>\n",
       "    </tr>\n",
       "    <tr>\n",
       "      <th>9</th>\n",
       "      <td>Instituto Hondureño del Café</td>\n",
       "      <td>10</td>\n",
       "      <td>7.71</td>\n",
       "      <td>7.83</td>\n",
       "      <td>7.58</td>\n",
       "      <td>4.83</td>\n",
       "      <td>99</td>\n",
       "    </tr>\n",
       "    <tr>\n",
       "      <th>10</th>\n",
       "      <td>Japan Coffee Exchange</td>\n",
       "      <td>27</td>\n",
       "      <td>7.68</td>\n",
       "      <td>8.58</td>\n",
       "      <td>7.25</td>\n",
       "      <td>13.04</td>\n",
       "      <td>99</td>\n",
       "    </tr>\n",
       "    <tr>\n",
       "      <th>11</th>\n",
       "      <td>Kenya Coffee Traders Association</td>\n",
       "      <td>8</td>\n",
       "      <td>7.93</td>\n",
       "      <td>8.17</td>\n",
       "      <td>7.58</td>\n",
       "      <td>3.86</td>\n",
       "      <td>102</td>\n",
       "    </tr>\n",
       "    <tr>\n",
       "      <th>12</th>\n",
       "      <td>METAD Agricultural Development plc</td>\n",
       "      <td>6</td>\n",
       "      <td>7.75</td>\n",
       "      <td>8.00</td>\n",
       "      <td>7.42</td>\n",
       "      <td>2.90</td>\n",
       "      <td>100</td>\n",
       "    </tr>\n",
       "    <tr>\n",
       "      <th>13</th>\n",
       "      <td>NKG Quality Service (a division of Bernhard Ro...</td>\n",
       "      <td>4</td>\n",
       "      <td>7.77</td>\n",
       "      <td>7.92</td>\n",
       "      <td>7.67</td>\n",
       "      <td>1.93</td>\n",
       "      <td>100</td>\n",
       "    </tr>\n",
       "    <tr>\n",
       "      <th>14</th>\n",
       "      <td>Salvadoran Coffee Council</td>\n",
       "      <td>6</td>\n",
       "      <td>7.25</td>\n",
       "      <td>7.67</td>\n",
       "      <td>6.50</td>\n",
       "      <td>2.90</td>\n",
       "      <td>93</td>\n",
       "    </tr>\n",
       "    <tr>\n",
       "      <th>15</th>\n",
       "      <td>Specialty Coffee Association</td>\n",
       "      <td>4</td>\n",
       "      <td>7.62</td>\n",
       "      <td>7.92</td>\n",
       "      <td>7.50</td>\n",
       "      <td>1.93</td>\n",
       "      <td>98</td>\n",
       "    </tr>\n",
       "    <tr>\n",
       "      <th>16</th>\n",
       "      <td>Specialty Coffee Association of Costa Rica</td>\n",
       "      <td>7</td>\n",
       "      <td>7.59</td>\n",
       "      <td>7.83</td>\n",
       "      <td>7.33</td>\n",
       "      <td>3.38</td>\n",
       "      <td>98</td>\n",
       "    </tr>\n",
       "    <tr>\n",
       "      <th>17</th>\n",
       "      <td>Specialty Coffee Association of Indonesia</td>\n",
       "      <td>1</td>\n",
       "      <td>7.67</td>\n",
       "      <td>7.67</td>\n",
       "      <td>7.67</td>\n",
       "      <td>0.48</td>\n",
       "      <td>99</td>\n",
       "    </tr>\n",
       "    <tr>\n",
       "      <th>18</th>\n",
       "      <td>Specialty Coffee Institute of Thailand</td>\n",
       "      <td>1</td>\n",
       "      <td>7.50</td>\n",
       "      <td>7.50</td>\n",
       "      <td>7.50</td>\n",
       "      <td>0.48</td>\n",
       "      <td>97</td>\n",
       "    </tr>\n",
       "    <tr>\n",
       "      <th>19</th>\n",
       "      <td>Taiwan Coffee Laboratory 台灣咖啡研究室</td>\n",
       "      <td>83</td>\n",
       "      <td>7.81</td>\n",
       "      <td>8.50</td>\n",
       "      <td>7.25</td>\n",
       "      <td>40.10</td>\n",
       "      <td>101</td>\n",
       "    </tr>\n",
       "    <tr>\n",
       "      <th>20</th>\n",
       "      <td>Uganda Coffee Development Authority</td>\n",
       "      <td>3</td>\n",
       "      <td>7.83</td>\n",
       "      <td>8.00</td>\n",
       "      <td>7.75</td>\n",
       "      <td>1.45</td>\n",
       "      <td>101</td>\n",
       "    </tr>\n",
       "    <tr>\n",
       "      <th>21</th>\n",
       "      <td>TOTAL</td>\n",
       "      <td>207</td>\n",
       "      <td>7.72</td>\n",
       "      <td>8.58</td>\n",
       "      <td>6.50</td>\n",
       "      <td>100.00</td>\n",
       "      <td>100</td>\n",
       "    </tr>\n",
       "  </tbody>\n",
       "</table>\n",
       "</div>"
      ]
     },
     "metadata": {},
     "output_type": "display_data"
    }
   ],
   "source": [
    "score_by_category('aroma','in_country_partner')"
   ]
  },
  {
   "cell_type": "code",
   "execution_count": 124,
   "id": "2e02d49d-7ef0-4e39-8936-7823d6e47522",
   "metadata": {},
   "outputs": [
    {
     "data": {
      "text/html": [
       "<div>\n",
       "<style scoped>\n",
       "    .dataframe tbody tr th:only-of-type {\n",
       "        vertical-align: middle;\n",
       "    }\n",
       "\n",
       "    .dataframe tbody tr th {\n",
       "        vertical-align: top;\n",
       "    }\n",
       "\n",
       "    .dataframe thead th {\n",
       "        text-align: right;\n",
       "    }\n",
       "</style>\n",
       "<table border=\"1\" class=\"dataframe\">\n",
       "  <thead>\n",
       "    <tr style=\"text-align: right;\">\n",
       "      <th></th>\n",
       "      <th>altitude_group</th>\n",
       "      <th>frequency</th>\n",
       "      <th>avg</th>\n",
       "      <th>maximum</th>\n",
       "      <th>minimum</th>\n",
       "      <th>proportion</th>\n",
       "      <th>var_index</th>\n",
       "    </tr>\n",
       "  </thead>\n",
       "  <tbody>\n",
       "    <tr>\n",
       "      <th>0</th>\n",
       "      <td>1. &lt;500</td>\n",
       "      <td>26</td>\n",
       "      <td>7.68</td>\n",
       "      <td>8.08</td>\n",
       "      <td>7.25</td>\n",
       "      <td>12.56</td>\n",
       "      <td>99</td>\n",
       "    </tr>\n",
       "    <tr>\n",
       "      <th>1</th>\n",
       "      <td>2. 500-&lt;1.000</td>\n",
       "      <td>23</td>\n",
       "      <td>7.72</td>\n",
       "      <td>8.25</td>\n",
       "      <td>7.17</td>\n",
       "      <td>11.11</td>\n",
       "      <td>99</td>\n",
       "    </tr>\n",
       "    <tr>\n",
       "      <th>2</th>\n",
       "      <td>3. 1,000-&lt;1,200</td>\n",
       "      <td>12</td>\n",
       "      <td>7.70</td>\n",
       "      <td>8.17</td>\n",
       "      <td>7.25</td>\n",
       "      <td>5.80</td>\n",
       "      <td>99</td>\n",
       "    </tr>\n",
       "    <tr>\n",
       "      <th>3</th>\n",
       "      <td>4. 1,200-&lt;1,400</td>\n",
       "      <td>65</td>\n",
       "      <td>7.69</td>\n",
       "      <td>8.50</td>\n",
       "      <td>6.50</td>\n",
       "      <td>31.40</td>\n",
       "      <td>99</td>\n",
       "    </tr>\n",
       "    <tr>\n",
       "      <th>4</th>\n",
       "      <td>5. 1,400-&lt;1,600</td>\n",
       "      <td>28</td>\n",
       "      <td>7.69</td>\n",
       "      <td>8.17</td>\n",
       "      <td>7.33</td>\n",
       "      <td>13.53</td>\n",
       "      <td>99</td>\n",
       "    </tr>\n",
       "    <tr>\n",
       "      <th>5</th>\n",
       "      <td>6. 1,600-&lt;1,800</td>\n",
       "      <td>24</td>\n",
       "      <td>7.76</td>\n",
       "      <td>8.58</td>\n",
       "      <td>7.25</td>\n",
       "      <td>11.59</td>\n",
       "      <td>100</td>\n",
       "    </tr>\n",
       "    <tr>\n",
       "      <th>6</th>\n",
       "      <td>7. 1,800-&lt;2,000</td>\n",
       "      <td>19</td>\n",
       "      <td>7.87</td>\n",
       "      <td>8.33</td>\n",
       "      <td>7.58</td>\n",
       "      <td>9.18</td>\n",
       "      <td>101</td>\n",
       "    </tr>\n",
       "    <tr>\n",
       "      <th>7</th>\n",
       "      <td>8. 2,000+</td>\n",
       "      <td>9</td>\n",
       "      <td>7.79</td>\n",
       "      <td>8.08</td>\n",
       "      <td>7.50</td>\n",
       "      <td>4.35</td>\n",
       "      <td>100</td>\n",
       "    </tr>\n",
       "    <tr>\n",
       "      <th>8</th>\n",
       "      <td>8. Missing</td>\n",
       "      <td>1</td>\n",
       "      <td>7.83</td>\n",
       "      <td>7.83</td>\n",
       "      <td>7.83</td>\n",
       "      <td>0.48</td>\n",
       "      <td>101</td>\n",
       "    </tr>\n",
       "    <tr>\n",
       "      <th>9</th>\n",
       "      <td>TOTAL</td>\n",
       "      <td>207</td>\n",
       "      <td>7.72</td>\n",
       "      <td>8.58</td>\n",
       "      <td>6.50</td>\n",
       "      <td>100.00</td>\n",
       "      <td>100</td>\n",
       "    </tr>\n",
       "  </tbody>\n",
       "</table>\n",
       "</div>"
      ]
     },
     "metadata": {},
     "output_type": "display_data"
    }
   ],
   "source": [
    "score_by_category('aroma','altitude_group')"
   ]
  },
  {
   "cell_type": "markdown",
   "id": "64f1e81d-508f-4b11-8efc-8798698a44aa",
   "metadata": {},
   "source": [
    "# star diagram"
   ]
  },
  {
   "cell_type": "code",
   "execution_count": null,
   "id": "7da57831-1a5a-4be6-8f10-7783b5c66dcb",
   "metadata": {},
   "outputs": [],
   "source": [
    "# https://plotly.com/python/radar-chart/"
   ]
  },
  {
   "cell_type": "code",
   "execution_count": 339,
   "id": "8dbb9571-de50-483c-8094-7dcdb8026b18",
   "metadata": {},
   "outputs": [
    {
     "data": {
      "application/vnd.plotly.v1+json": {
       "config": {
        "plotlyServerURL": "https://plot.ly"
       },
       "data": [
        {
         "hovertemplate": "r=%{r}<br>theta=%{theta}<extra></extra>",
         "legendgroup": "",
         "line": {
          "color": "#636efa",
          "dash": "solid"
         },
         "marker": {
          "symbol": "circle"
         },
         "mode": "lines",
         "name": "",
         "r": [
          1,
          5,
          2,
          2,
          3,
          1
         ],
         "showlegend": false,
         "subplot": "polar",
         "theta": [
          "processing cost",
          "mechanical properties",
          "chemical stability",
          "thermal stability",
          "device integration",
          "processing cost"
         ],
         "type": "scatterpolar"
        }
       ],
       "layout": {
        "autosize": true,
        "legend": {
         "tracegroupgap": 0
        },
        "margin": {
         "t": 60
        },
        "polar": {
         "angularaxis": {
          "direction": "clockwise",
          "rotation": 90,
          "type": "category"
         },
         "domain": {
          "x": [
           0,
           1
          ],
          "y": [
           0,
           1
          ]
         },
         "radialaxis": {
          "autorange": true,
          "range": [
           0,
           5
          ],
          "type": "linear"
         }
        },
        "template": {
         "data": {
          "bar": [
           {
            "error_x": {
             "color": "#2a3f5f"
            },
            "error_y": {
             "color": "#2a3f5f"
            },
            "marker": {
             "line": {
              "color": "#E5ECF6",
              "width": 0.5
             },
             "pattern": {
              "fillmode": "overlay",
              "size": 10,
              "solidity": 0.2
             }
            },
            "type": "bar"
           }
          ],
          "barpolar": [
           {
            "marker": {
             "line": {
              "color": "#E5ECF6",
              "width": 0.5
             },
             "pattern": {
              "fillmode": "overlay",
              "size": 10,
              "solidity": 0.2
             }
            },
            "type": "barpolar"
           }
          ],
          "carpet": [
           {
            "aaxis": {
             "endlinecolor": "#2a3f5f",
             "gridcolor": "white",
             "linecolor": "white",
             "minorgridcolor": "white",
             "startlinecolor": "#2a3f5f"
            },
            "baxis": {
             "endlinecolor": "#2a3f5f",
             "gridcolor": "white",
             "linecolor": "white",
             "minorgridcolor": "white",
             "startlinecolor": "#2a3f5f"
            },
            "type": "carpet"
           }
          ],
          "choropleth": [
           {
            "colorbar": {
             "outlinewidth": 0,
             "ticks": ""
            },
            "type": "choropleth"
           }
          ],
          "contour": [
           {
            "colorbar": {
             "outlinewidth": 0,
             "ticks": ""
            },
            "colorscale": [
             [
              0,
              "#0d0887"
             ],
             [
              0.1111111111111111,
              "#46039f"
             ],
             [
              0.2222222222222222,
              "#7201a8"
             ],
             [
              0.3333333333333333,
              "#9c179e"
             ],
             [
              0.4444444444444444,
              "#bd3786"
             ],
             [
              0.5555555555555556,
              "#d8576b"
             ],
             [
              0.6666666666666666,
              "#ed7953"
             ],
             [
              0.7777777777777778,
              "#fb9f3a"
             ],
             [
              0.8888888888888888,
              "#fdca26"
             ],
             [
              1,
              "#f0f921"
             ]
            ],
            "type": "contour"
           }
          ],
          "contourcarpet": [
           {
            "colorbar": {
             "outlinewidth": 0,
             "ticks": ""
            },
            "type": "contourcarpet"
           }
          ],
          "heatmap": [
           {
            "colorbar": {
             "outlinewidth": 0,
             "ticks": ""
            },
            "colorscale": [
             [
              0,
              "#0d0887"
             ],
             [
              0.1111111111111111,
              "#46039f"
             ],
             [
              0.2222222222222222,
              "#7201a8"
             ],
             [
              0.3333333333333333,
              "#9c179e"
             ],
             [
              0.4444444444444444,
              "#bd3786"
             ],
             [
              0.5555555555555556,
              "#d8576b"
             ],
             [
              0.6666666666666666,
              "#ed7953"
             ],
             [
              0.7777777777777778,
              "#fb9f3a"
             ],
             [
              0.8888888888888888,
              "#fdca26"
             ],
             [
              1,
              "#f0f921"
             ]
            ],
            "type": "heatmap"
           }
          ],
          "heatmapgl": [
           {
            "colorbar": {
             "outlinewidth": 0,
             "ticks": ""
            },
            "colorscale": [
             [
              0,
              "#0d0887"
             ],
             [
              0.1111111111111111,
              "#46039f"
             ],
             [
              0.2222222222222222,
              "#7201a8"
             ],
             [
              0.3333333333333333,
              "#9c179e"
             ],
             [
              0.4444444444444444,
              "#bd3786"
             ],
             [
              0.5555555555555556,
              "#d8576b"
             ],
             [
              0.6666666666666666,
              "#ed7953"
             ],
             [
              0.7777777777777778,
              "#fb9f3a"
             ],
             [
              0.8888888888888888,
              "#fdca26"
             ],
             [
              1,
              "#f0f921"
             ]
            ],
            "type": "heatmapgl"
           }
          ],
          "histogram": [
           {
            "marker": {
             "pattern": {
              "fillmode": "overlay",
              "size": 10,
              "solidity": 0.2
             }
            },
            "type": "histogram"
           }
          ],
          "histogram2d": [
           {
            "colorbar": {
             "outlinewidth": 0,
             "ticks": ""
            },
            "colorscale": [
             [
              0,
              "#0d0887"
             ],
             [
              0.1111111111111111,
              "#46039f"
             ],
             [
              0.2222222222222222,
              "#7201a8"
             ],
             [
              0.3333333333333333,
              "#9c179e"
             ],
             [
              0.4444444444444444,
              "#bd3786"
             ],
             [
              0.5555555555555556,
              "#d8576b"
             ],
             [
              0.6666666666666666,
              "#ed7953"
             ],
             [
              0.7777777777777778,
              "#fb9f3a"
             ],
             [
              0.8888888888888888,
              "#fdca26"
             ],
             [
              1,
              "#f0f921"
             ]
            ],
            "type": "histogram2d"
           }
          ],
          "histogram2dcontour": [
           {
            "colorbar": {
             "outlinewidth": 0,
             "ticks": ""
            },
            "colorscale": [
             [
              0,
              "#0d0887"
             ],
             [
              0.1111111111111111,
              "#46039f"
             ],
             [
              0.2222222222222222,
              "#7201a8"
             ],
             [
              0.3333333333333333,
              "#9c179e"
             ],
             [
              0.4444444444444444,
              "#bd3786"
             ],
             [
              0.5555555555555556,
              "#d8576b"
             ],
             [
              0.6666666666666666,
              "#ed7953"
             ],
             [
              0.7777777777777778,
              "#fb9f3a"
             ],
             [
              0.8888888888888888,
              "#fdca26"
             ],
             [
              1,
              "#f0f921"
             ]
            ],
            "type": "histogram2dcontour"
           }
          ],
          "mesh3d": [
           {
            "colorbar": {
             "outlinewidth": 0,
             "ticks": ""
            },
            "type": "mesh3d"
           }
          ],
          "parcoords": [
           {
            "line": {
             "colorbar": {
              "outlinewidth": 0,
              "ticks": ""
             }
            },
            "type": "parcoords"
           }
          ],
          "pie": [
           {
            "automargin": true,
            "type": "pie"
           }
          ],
          "scatter": [
           {
            "fillpattern": {
             "fillmode": "overlay",
             "size": 10,
             "solidity": 0.2
            },
            "type": "scatter"
           }
          ],
          "scatter3d": [
           {
            "line": {
             "colorbar": {
              "outlinewidth": 0,
              "ticks": ""
             }
            },
            "marker": {
             "colorbar": {
              "outlinewidth": 0,
              "ticks": ""
             }
            },
            "type": "scatter3d"
           }
          ],
          "scattercarpet": [
           {
            "marker": {
             "colorbar": {
              "outlinewidth": 0,
              "ticks": ""
             }
            },
            "type": "scattercarpet"
           }
          ],
          "scattergeo": [
           {
            "marker": {
             "colorbar": {
              "outlinewidth": 0,
              "ticks": ""
             }
            },
            "type": "scattergeo"
           }
          ],
          "scattergl": [
           {
            "marker": {
             "colorbar": {
              "outlinewidth": 0,
              "ticks": ""
             }
            },
            "type": "scattergl"
           }
          ],
          "scattermapbox": [
           {
            "marker": {
             "colorbar": {
              "outlinewidth": 0,
              "ticks": ""
             }
            },
            "type": "scattermapbox"
           }
          ],
          "scatterpolar": [
           {
            "marker": {
             "colorbar": {
              "outlinewidth": 0,
              "ticks": ""
             }
            },
            "type": "scatterpolar"
           }
          ],
          "scatterpolargl": [
           {
            "marker": {
             "colorbar": {
              "outlinewidth": 0,
              "ticks": ""
             }
            },
            "type": "scatterpolargl"
           }
          ],
          "scatterternary": [
           {
            "marker": {
             "colorbar": {
              "outlinewidth": 0,
              "ticks": ""
             }
            },
            "type": "scatterternary"
           }
          ],
          "surface": [
           {
            "colorbar": {
             "outlinewidth": 0,
             "ticks": ""
            },
            "colorscale": [
             [
              0,
              "#0d0887"
             ],
             [
              0.1111111111111111,
              "#46039f"
             ],
             [
              0.2222222222222222,
              "#7201a8"
             ],
             [
              0.3333333333333333,
              "#9c179e"
             ],
             [
              0.4444444444444444,
              "#bd3786"
             ],
             [
              0.5555555555555556,
              "#d8576b"
             ],
             [
              0.6666666666666666,
              "#ed7953"
             ],
             [
              0.7777777777777778,
              "#fb9f3a"
             ],
             [
              0.8888888888888888,
              "#fdca26"
             ],
             [
              1,
              "#f0f921"
             ]
            ],
            "type": "surface"
           }
          ],
          "table": [
           {
            "cells": {
             "fill": {
              "color": "#EBF0F8"
             },
             "line": {
              "color": "white"
             }
            },
            "header": {
             "fill": {
              "color": "#C8D4E3"
             },
             "line": {
              "color": "white"
             }
            },
            "type": "table"
           }
          ]
         },
         "layout": {
          "annotationdefaults": {
           "arrowcolor": "#2a3f5f",
           "arrowhead": 0,
           "arrowwidth": 1
          },
          "autotypenumbers": "strict",
          "coloraxis": {
           "colorbar": {
            "outlinewidth": 0,
            "ticks": ""
           }
          },
          "colorscale": {
           "diverging": [
            [
             0,
             "#8e0152"
            ],
            [
             0.1,
             "#c51b7d"
            ],
            [
             0.2,
             "#de77ae"
            ],
            [
             0.3,
             "#f1b6da"
            ],
            [
             0.4,
             "#fde0ef"
            ],
            [
             0.5,
             "#f7f7f7"
            ],
            [
             0.6,
             "#e6f5d0"
            ],
            [
             0.7,
             "#b8e186"
            ],
            [
             0.8,
             "#7fbc41"
            ],
            [
             0.9,
             "#4d9221"
            ],
            [
             1,
             "#276419"
            ]
           ],
           "sequential": [
            [
             0,
             "#0d0887"
            ],
            [
             0.1111111111111111,
             "#46039f"
            ],
            [
             0.2222222222222222,
             "#7201a8"
            ],
            [
             0.3333333333333333,
             "#9c179e"
            ],
            [
             0.4444444444444444,
             "#bd3786"
            ],
            [
             0.5555555555555556,
             "#d8576b"
            ],
            [
             0.6666666666666666,
             "#ed7953"
            ],
            [
             0.7777777777777778,
             "#fb9f3a"
            ],
            [
             0.8888888888888888,
             "#fdca26"
            ],
            [
             1,
             "#f0f921"
            ]
           ],
           "sequentialminus": [
            [
             0,
             "#0d0887"
            ],
            [
             0.1111111111111111,
             "#46039f"
            ],
            [
             0.2222222222222222,
             "#7201a8"
            ],
            [
             0.3333333333333333,
             "#9c179e"
            ],
            [
             0.4444444444444444,
             "#bd3786"
            ],
            [
             0.5555555555555556,
             "#d8576b"
            ],
            [
             0.6666666666666666,
             "#ed7953"
            ],
            [
             0.7777777777777778,
             "#fb9f3a"
            ],
            [
             0.8888888888888888,
             "#fdca26"
            ],
            [
             1,
             "#f0f921"
            ]
           ]
          },
          "colorway": [
           "#636efa",
           "#EF553B",
           "#00cc96",
           "#ab63fa",
           "#FFA15A",
           "#19d3f3",
           "#FF6692",
           "#B6E880",
           "#FF97FF",
           "#FECB52"
          ],
          "font": {
           "color": "#2a3f5f"
          },
          "geo": {
           "bgcolor": "white",
           "lakecolor": "white",
           "landcolor": "#E5ECF6",
           "showlakes": true,
           "showland": true,
           "subunitcolor": "white"
          },
          "hoverlabel": {
           "align": "left"
          },
          "hovermode": "closest",
          "mapbox": {
           "style": "light"
          },
          "paper_bgcolor": "white",
          "plot_bgcolor": "#E5ECF6",
          "polar": {
           "angularaxis": {
            "gridcolor": "white",
            "linecolor": "white",
            "ticks": ""
           },
           "bgcolor": "#E5ECF6",
           "radialaxis": {
            "gridcolor": "white",
            "linecolor": "white",
            "ticks": ""
           }
          },
          "scene": {
           "xaxis": {
            "backgroundcolor": "#E5ECF6",
            "gridcolor": "white",
            "gridwidth": 2,
            "linecolor": "white",
            "showbackground": true,
            "ticks": "",
            "zerolinecolor": "white"
           },
           "yaxis": {
            "backgroundcolor": "#E5ECF6",
            "gridcolor": "white",
            "gridwidth": 2,
            "linecolor": "white",
            "showbackground": true,
            "ticks": "",
            "zerolinecolor": "white"
           },
           "zaxis": {
            "backgroundcolor": "#E5ECF6",
            "gridcolor": "white",
            "gridwidth": 2,
            "linecolor": "white",
            "showbackground": true,
            "ticks": "",
            "zerolinecolor": "white"
           }
          },
          "shapedefaults": {
           "line": {
            "color": "#2a3f5f"
           }
          },
          "ternary": {
           "aaxis": {
            "gridcolor": "white",
            "linecolor": "white",
            "ticks": ""
           },
           "baxis": {
            "gridcolor": "white",
            "linecolor": "white",
            "ticks": ""
           },
           "bgcolor": "#E5ECF6",
           "caxis": {
            "gridcolor": "white",
            "linecolor": "white",
            "ticks": ""
           }
          },
          "title": {
           "x": 0.05
          },
          "xaxis": {
           "automargin": true,
           "gridcolor": "white",
           "linecolor": "white",
           "ticks": "",
           "title": {
            "standoff": 15
           },
           "zerolinecolor": "white",
           "zerolinewidth": 2
          },
          "yaxis": {
           "automargin": true,
           "gridcolor": "white",
           "linecolor": "white",
           "ticks": "",
           "title": {
            "standoff": 15
           },
           "zerolinecolor": "white",
           "zerolinewidth": 2
          }
         }
        }
       }
      },
      "image/png": "[encoded data removed]",
      "text/html": [
       "<div>                            <div id=\"cac00280-442e-47b9-b6ab-333c3a24f6f3\" class=\"plotly-graph-div\" style=\"height:525px; width:100%;\"></div>            <script type=\"text/javascript\">                require([\"plotly\"], function(Plotly) {                    window.PLOTLYENV=window.PLOTLYENV || {};                                    if (document.getElementById(\"cac00280-442e-47b9-b6ab-333c3a24f6f3\")) {                    Plotly.newPlot(                        \"cac00280-442e-47b9-b6ab-333c3a24f6f3\",                        [{\"hovertemplate\":\"r=%{r}<br>theta=%{theta}<extra></extra>\",\"legendgroup\":\"\",\"line\":{\"color\":\"#636efa\",\"dash\":\"solid\"},\"marker\":{\"symbol\":\"circle\"},\"mode\":\"lines\",\"name\":\"\",\"r\":[1,5,2,2,3,1],\"showlegend\":false,\"subplot\":\"polar\",\"theta\":[\"processing cost\",\"mechanical properties\",\"chemical stability\",\"thermal stability\",\"device integration\",\"processing cost\"],\"type\":\"scatterpolar\"}],                        {\"template\":{\"data\":{\"histogram2dcontour\":[{\"type\":\"histogram2dcontour\",\"colorbar\":{\"outlinewidth\":0,\"ticks\":\"\"},\"colorscale\":[[0.0,\"#0d0887\"],[0.1111111111111111,\"#46039f\"],[0.2222222222222222,\"#7201a8\"],[0.3333333333333333,\"#9c179e\"],[0.4444444444444444,\"#bd3786\"],[0.5555555555555556,\"#d8576b\"],[0.6666666666666666,\"#ed7953\"],[0.7777777777777778,\"#fb9f3a\"],[0.8888888888888888,\"#fdca26\"],[1.0,\"#f0f921\"]]}],\"choropleth\":[{\"type\":\"choropleth\",\"colorbar\":{\"outlinewidth\":0,\"ticks\":\"\"}}],\"histogram2d\":[{\"type\":\"histogram2d\",\"colorbar\":{\"outlinewidth\":0,\"ticks\":\"\"},\"colorscale\":[[0.0,\"#0d0887\"],[0.1111111111111111,\"#46039f\"],[0.2222222222222222,\"#7201a8\"],[0.3333333333333333,\"#9c179e\"],[0.4444444444444444,\"#bd3786\"],[0.5555555555555556,\"#d8576b\"],[0.6666666666666666,\"#ed7953\"],[0.7777777777777778,\"#fb9f3a\"],[0.8888888888888888,\"#fdca26\"],[1.0,\"#f0f921\"]]}],\"heatmap\":[{\"type\":\"heatmap\",\"colorbar\":{\"outlinewidth\":0,\"ticks\":\"\"},\"colorscale\":[[0.0,\"#0d0887\"],[0.1111111111111111,\"#46039f\"],[0.2222222222222222,\"#7201a8\"],[0.3333333333333333,\"#9c179e\"],[0.4444444444444444,\"#bd3786\"],[0.5555555555555556,\"#d8576b\"],[0.6666666666666666,\"#ed7953\"],[0.7777777777777778,\"#fb9f3a\"],[0.8888888888888888,\"#fdca26\"],[1.0,\"#f0f921\"]]}],\"heatmapgl\":[{\"type\":\"heatmapgl\",\"colorbar\":{\"outlinewidth\":0,\"ticks\":\"\"},\"colorscale\":[[0.0,\"#0d0887\"],[0.1111111111111111,\"#46039f\"],[0.2222222222222222,\"#7201a8\"],[0.3333333333333333,\"#9c179e\"],[0.4444444444444444,\"#bd3786\"],[0.5555555555555556,\"#d8576b\"],[0.6666666666666666,\"#ed7953\"],[0.7777777777777778,\"#fb9f3a\"],[0.8888888888888888,\"#fdca26\"],[1.0,\"#f0f921\"]]}],\"contourcarpet\":[{\"type\":\"contourcarpet\",\"colorbar\":{\"outlinewidth\":0,\"ticks\":\"\"}}],\"contour\":[{\"type\":\"contour\",\"colorbar\":{\"outlinewidth\":0,\"ticks\":\"\"},\"colorscale\":[[0.0,\"#0d0887\"],[0.1111111111111111,\"#46039f\"],[0.2222222222222222,\"#7201a8\"],[0.3333333333333333,\"#9c179e\"],[0.4444444444444444,\"#bd3786\"],[0.5555555555555556,\"#d8576b\"],[0.6666666666666666,\"#ed7953\"],[0.7777777777777778,\"#fb9f3a\"],[0.8888888888888888,\"#fdca26\"],[1.0,\"#f0f921\"]]}],\"surface\":[{\"type\":\"surface\",\"colorbar\":{\"outlinewidth\":0,\"ticks\":\"\"},\"colorscale\":[[0.0,\"#0d0887\"],[0.1111111111111111,\"#46039f\"],[0.2222222222222222,\"#7201a8\"],[0.3333333333333333,\"#9c179e\"],[0.4444444444444444,\"#bd3786\"],[0.5555555555555556,\"#d8576b\"],[0.6666666666666666,\"#ed7953\"],[0.7777777777777778,\"#fb9f3a\"],[0.8888888888888888,\"#fdca26\"],[1.0,\"#f0f921\"]]}],\"mesh3d\":[{\"type\":\"mesh3d\",\"colorbar\":{\"outlinewidth\":0,\"ticks\":\"\"}}],\"scatter\":[{\"fillpattern\":{\"fillmode\":\"overlay\",\"size\":10,\"solidity\":0.2},\"type\":\"scatter\"}],\"parcoords\":[{\"type\":\"parcoords\",\"line\":{\"colorbar\":{\"outlinewidth\":0,\"ticks\":\"\"}}}],\"scatterpolargl\":[{\"type\":\"scatterpolargl\",\"marker\":{\"colorbar\":{\"outlinewidth\":0,\"ticks\":\"\"}}}],\"bar\":[{\"error_x\":{\"color\":\"#2a3f5f\"},\"error_y\":{\"color\":\"#2a3f5f\"},\"marker\":{\"line\":{\"color\":\"#E5ECF6\",\"width\":0.5},\"pattern\":{\"fillmode\":\"overlay\",\"size\":10,\"solidity\":0.2}},\"type\":\"bar\"}],\"scattergeo\":[{\"type\":\"scattergeo\",\"marker\":{\"colorbar\":{\"outlinewidth\":0,\"ticks\":\"\"}}}],\"scatterpolar\":[{\"type\":\"scatterpolar\",\"marker\":{\"colorbar\":{\"outlinewidth\":0,\"ticks\":\"\"}}}],\"histogram\":[{\"marker\":{\"pattern\":{\"fillmode\":\"overlay\",\"size\":10,\"solidity\":0.2}},\"type\":\"histogram\"}],\"scattergl\":[{\"type\":\"scattergl\",\"marker\":{\"colorbar\":{\"outlinewidth\":0,\"ticks\":\"\"}}}],\"scatter3d\":[{\"type\":\"scatter3d\",\"line\":{\"colorbar\":{\"outlinewidth\":0,\"ticks\":\"\"}},\"marker\":{\"colorbar\":{\"outlinewidth\":0,\"ticks\":\"\"}}}],\"scattermapbox\":[{\"type\":\"scattermapbox\",\"marker\":{\"colorbar\":{\"outlinewidth\":0,\"ticks\":\"\"}}}],\"scatterternary\":[{\"type\":\"scatterternary\",\"marker\":{\"colorbar\":{\"outlinewidth\":0,\"ticks\":\"\"}}}],\"scattercarpet\":[{\"type\":\"scattercarpet\",\"marker\":{\"colorbar\":{\"outlinewidth\":0,\"ticks\":\"\"}}}],\"carpet\":[{\"aaxis\":{\"endlinecolor\":\"#2a3f5f\",\"gridcolor\":\"white\",\"linecolor\":\"white\",\"minorgridcolor\":\"white\",\"startlinecolor\":\"#2a3f5f\"},\"baxis\":{\"endlinecolor\":\"#2a3f5f\",\"gridcolor\":\"white\",\"linecolor\":\"white\",\"minorgridcolor\":\"white\",\"startlinecolor\":\"#2a3f5f\"},\"type\":\"carpet\"}],\"table\":[{\"cells\":{\"fill\":{\"color\":\"#EBF0F8\"},\"line\":{\"color\":\"white\"}},\"header\":{\"fill\":{\"color\":\"#C8D4E3\"},\"line\":{\"color\":\"white\"}},\"type\":\"table\"}],\"barpolar\":[{\"marker\":{\"line\":{\"color\":\"#E5ECF6\",\"width\":0.5},\"pattern\":{\"fillmode\":\"overlay\",\"size\":10,\"solidity\":0.2}},\"type\":\"barpolar\"}],\"pie\":[{\"automargin\":true,\"type\":\"pie\"}]},\"layout\":{\"autotypenumbers\":\"strict\",\"colorway\":[\"#636efa\",\"#EF553B\",\"#00cc96\",\"#ab63fa\",\"#FFA15A\",\"#19d3f3\",\"#FF6692\",\"#B6E880\",\"#FF97FF\",\"#FECB52\"],\"font\":{\"color\":\"#2a3f5f\"},\"hovermode\":\"closest\",\"hoverlabel\":{\"align\":\"left\"},\"paper_bgcolor\":\"white\",\"plot_bgcolor\":\"#E5ECF6\",\"polar\":{\"bgcolor\":\"#E5ECF6\",\"angularaxis\":{\"gridcolor\":\"white\",\"linecolor\":\"white\",\"ticks\":\"\"},\"radialaxis\":{\"gridcolor\":\"white\",\"linecolor\":\"white\",\"ticks\":\"\"}},\"ternary\":{\"bgcolor\":\"#E5ECF6\",\"aaxis\":{\"gridcolor\":\"white\",\"linecolor\":\"white\",\"ticks\":\"\"},\"baxis\":{\"gridcolor\":\"white\",\"linecolor\":\"white\",\"ticks\":\"\"},\"caxis\":{\"gridcolor\":\"white\",\"linecolor\":\"white\",\"ticks\":\"\"}},\"coloraxis\":{\"colorbar\":{\"outlinewidth\":0,\"ticks\":\"\"}},\"colorscale\":{\"sequential\":[[0.0,\"#0d0887\"],[0.1111111111111111,\"#46039f\"],[0.2222222222222222,\"#7201a8\"],[0.3333333333333333,\"#9c179e\"],[0.4444444444444444,\"#bd3786\"],[0.5555555555555556,\"#d8576b\"],[0.6666666666666666,\"#ed7953\"],[0.7777777777777778,\"#fb9f3a\"],[0.8888888888888888,\"#fdca26\"],[1.0,\"#f0f921\"]],\"sequentialminus\":[[0.0,\"#0d0887\"],[0.1111111111111111,\"#46039f\"],[0.2222222222222222,\"#7201a8\"],[0.3333333333333333,\"#9c179e\"],[0.4444444444444444,\"#bd3786\"],[0.5555555555555556,\"#d8576b\"],[0.6666666666666666,\"#ed7953\"],[0.7777777777777778,\"#fb9f3a\"],[0.8888888888888888,\"#fdca26\"],[1.0,\"#f0f921\"]],\"diverging\":[[0,\"#8e0152\"],[0.1,\"#c51b7d\"],[0.2,\"#de77ae\"],[0.3,\"#f1b6da\"],[0.4,\"#fde0ef\"],[0.5,\"#f7f7f7\"],[0.6,\"#e6f5d0\"],[0.7,\"#b8e186\"],[0.8,\"#7fbc41\"],[0.9,\"#4d9221\"],[1,\"#276419\"]]},\"xaxis\":{\"gridcolor\":\"white\",\"linecolor\":\"white\",\"ticks\":\"\",\"title\":{\"standoff\":15},\"zerolinecolor\":\"white\",\"automargin\":true,\"zerolinewidth\":2},\"yaxis\":{\"gridcolor\":\"white\",\"linecolor\":\"white\",\"ticks\":\"\",\"title\":{\"standoff\":15},\"zerolinecolor\":\"white\",\"automargin\":true,\"zerolinewidth\":2},\"scene\":{\"xaxis\":{\"backgroundcolor\":\"#E5ECF6\",\"gridcolor\":\"white\",\"linecolor\":\"white\",\"showbackground\":true,\"ticks\":\"\",\"zerolinecolor\":\"white\",\"gridwidth\":2},\"yaxis\":{\"backgroundcolor\":\"#E5ECF6\",\"gridcolor\":\"white\",\"linecolor\":\"white\",\"showbackground\":true,\"ticks\":\"\",\"zerolinecolor\":\"white\",\"gridwidth\":2},\"zaxis\":{\"backgroundcolor\":\"#E5ECF6\",\"gridcolor\":\"white\",\"linecolor\":\"white\",\"showbackground\":true,\"ticks\":\"\",\"zerolinecolor\":\"white\",\"gridwidth\":2}},\"shapedefaults\":{\"line\":{\"color\":\"#2a3f5f\"}},\"annotationdefaults\":{\"arrowcolor\":\"#2a3f5f\",\"arrowhead\":0,\"arrowwidth\":1},\"geo\":{\"bgcolor\":\"white\",\"landcolor\":\"#E5ECF6\",\"subunitcolor\":\"white\",\"showland\":true,\"showlakes\":true,\"lakecolor\":\"white\"},\"title\":{\"x\":0.05},\"mapbox\":{\"style\":\"light\"}}},\"polar\":{\"domain\":{\"x\":[0.0,1.0],\"y\":[0.0,1.0]},\"angularaxis\":{\"direction\":\"clockwise\",\"rotation\":90}},\"legend\":{\"tracegroupgap\":0},\"margin\":{\"t\":60}},                        {\"responsive\": true}                    ).then(function(){\n",
       "                            \n",
       "var gd = document.getElementById('cac00280-442e-47b9-b6ab-333c3a24f6f3');\n",
       "var x = new MutationObserver(function (mutations, observer) {{\n",
       "        var display = window.getComputedStyle(gd).display;\n",
       "        if (!display || display === 'none') {{\n",
       "            console.log([gd, 'removed!']);\n",
       "            Plotly.purge(gd);\n",
       "            observer.disconnect();\n",
       "        }}\n",
       "}});\n",
       "\n",
       "// Listen for the removal of the full notebook cells\n",
       "var notebookContainer = gd.closest('#notebook-container');\n",
       "if (notebookContainer) {{\n",
       "    x.observe(notebookContainer, {childList: true});\n",
       "}}\n",
       "\n",
       "// Listen for the clearing of the current output cell\n",
       "var outputEl = gd.closest('.output');\n",
       "if (outputEl) {{\n",
       "    x.observe(outputEl, {childList: true});\n",
       "}}\n",
       "\n",
       "                        })                };                });            </script>        </div>"
      ]
     },
     "metadata": {},
     "output_type": "display_data"
    }
   ],
   "source": [
    "import plotly.express as px\n",
    "import pandas as pd\n",
    "df = pd.DataFrame(dict(\n",
    "    r=[1, 5, 2, 2, 3],\n",
    "    theta=['processing cost','mechanical properties','chemical stability',\n",
    "           'thermal stability', 'device integration']))\n",
    "fig = px.line_polar(df, r='r', theta='theta', line_close=True)\n",
    "fig.show()"
   ]
  },
  {
   "cell_type": "code",
   "execution_count": 341,
   "id": "52e29db1-dee7-4c74-b376-f3f58fd5eaa6",
   "metadata": {},
   "outputs": [
    {
     "data": {
      "application/vnd.plotly.v1+json": {
       "config": {
        "plotlyServerURL": "https://plot.ly"
       },
       "data": [
        {
         "hovertemplate": "r=%{r}<br>theta=%{theta}<extra></extra>",
         "legendgroup": "",
         "line": {
          "color": "#636efa",
          "dash": "solid"
         },
         "marker": {
          "symbol": "circle"
         },
         "mode": "lines",
         "name": "",
         "r": [
          1,
          1.3,
          2,
          2,
          3,
          1
         ],
         "showlegend": false,
         "subplot": "polar",
         "theta": [
          "processing cost",
          "mechanical properties",
          "chemical stability",
          "thermal stability",
          "device integration",
          "processing cost"
         ],
         "type": "scatterpolar"
        }
       ],
       "layout": {
        "autosize": true,
        "legend": {
         "tracegroupgap": 0
        },
        "margin": {
         "t": 60
        },
        "polar": {
         "angularaxis": {
          "direction": "clockwise",
          "rotation": 90,
          "type": "category"
         },
         "domain": {
          "x": [
           0,
           1
          ],
          "y": [
           0,
           1
          ]
         },
         "radialaxis": {
          "autorange": true,
          "range": [
           0,
           3
          ],
          "type": "linear"
         }
        },
        "template": {
         "data": {
          "bar": [
           {
            "error_x": {
             "color": "#2a3f5f"
            },
            "error_y": {
             "color": "#2a3f5f"
            },
            "marker": {
             "line": {
              "color": "#E5ECF6",
              "width": 0.5
             },
             "pattern": {
              "fillmode": "overlay",
              "size": 10,
              "solidity": 0.2
             }
            },
            "type": "bar"
           }
          ],
          "barpolar": [
           {
            "marker": {
             "line": {
              "color": "#E5ECF6",
              "width": 0.5
             },
             "pattern": {
              "fillmode": "overlay",
              "size": 10,
              "solidity": 0.2
             }
            },
            "type": "barpolar"
           }
          ],
          "carpet": [
           {
            "aaxis": {
             "endlinecolor": "#2a3f5f",
             "gridcolor": "white",
             "linecolor": "white",
             "minorgridcolor": "white",
             "startlinecolor": "#2a3f5f"
            },
            "baxis": {
             "endlinecolor": "#2a3f5f",
             "gridcolor": "white",
             "linecolor": "white",
             "minorgridcolor": "white",
             "startlinecolor": "#2a3f5f"
            },
            "type": "carpet"
           }
          ],
          "choropleth": [
           {
            "colorbar": {
             "outlinewidth": 0,
             "ticks": ""
            },
            "type": "choropleth"
           }
          ],
          "contour": [
           {
            "colorbar": {
             "outlinewidth": 0,
             "ticks": ""
            },
            "colorscale": [
             [
              0,
              "#0d0887"
             ],
             [
              0.1111111111111111,
              "#46039f"
             ],
             [
              0.2222222222222222,
              "#7201a8"
             ],
             [
              0.3333333333333333,
              "#9c179e"
             ],
             [
              0.4444444444444444,
              "#bd3786"
             ],
             [
              0.5555555555555556,
              "#d8576b"
             ],
             [
              0.6666666666666666,
              "#ed7953"
             ],
             [
              0.7777777777777778,
              "#fb9f3a"
             ],
             [
              0.8888888888888888,
              "#fdca26"
             ],
             [
              1,
              "#f0f921"
             ]
            ],
            "type": "contour"
           }
          ],
          "contourcarpet": [
           {
            "colorbar": {
             "outlinewidth": 0,
             "ticks": ""
            },
            "type": "contourcarpet"
           }
          ],
          "heatmap": [
           {
            "colorbar": {
             "outlinewidth": 0,
             "ticks": ""
            },
            "colorscale": [
             [
              0,
              "#0d0887"
             ],
             [
              0.1111111111111111,
              "#46039f"
             ],
             [
              0.2222222222222222,
              "#7201a8"
             ],
             [
              0.3333333333333333,
              "#9c179e"
             ],
             [
              0.4444444444444444,
              "#bd3786"
             ],
             [
              0.5555555555555556,
              "#d8576b"
             ],
             [
              0.6666666666666666,
              "#ed7953"
             ],
             [
              0.7777777777777778,
              "#fb9f3a"
             ],
             [
              0.8888888888888888,
              "#fdca26"
             ],
             [
              1,
              "#f0f921"
             ]
            ],
            "type": "heatmap"
           }
          ],
          "heatmapgl": [
           {
            "colorbar": {
             "outlinewidth": 0,
             "ticks": ""
            },
            "colorscale": [
             [
              0,
              "#0d0887"
             ],
             [
              0.1111111111111111,
              "#46039f"
             ],
             [
              0.2222222222222222,
              "#7201a8"
             ],
             [
              0.3333333333333333,
              "#9c179e"
             ],
             [
              0.4444444444444444,
              "#bd3786"
             ],
             [
              0.5555555555555556,
              "#d8576b"
             ],
             [
              0.6666666666666666,
              "#ed7953"
             ],
             [
              0.7777777777777778,
              "#fb9f3a"
             ],
             [
              0.8888888888888888,
              "#fdca26"
             ],
             [
              1,
              "#f0f921"
             ]
            ],
            "type": "heatmapgl"
           }
          ],
          "histogram": [
           {
            "marker": {
             "pattern": {
              "fillmode": "overlay",
              "size": 10,
              "solidity": 0.2
             }
            },
            "type": "histogram"
           }
          ],
          "histogram2d": [
           {
            "colorbar": {
             "outlinewidth": 0,
             "ticks": ""
            },
            "colorscale": [
             [
              0,
              "#0d0887"
             ],
             [
              0.1111111111111111,
              "#46039f"
             ],
             [
              0.2222222222222222,
              "#7201a8"
             ],
             [
              0.3333333333333333,
              "#9c179e"
             ],
             [
              0.4444444444444444,
              "#bd3786"
             ],
             [
              0.5555555555555556,
              "#d8576b"
             ],
             [
              0.6666666666666666,
              "#ed7953"
             ],
             [
              0.7777777777777778,
              "#fb9f3a"
             ],
             [
              0.8888888888888888,
              "#fdca26"
             ],
             [
              1,
              "#f0f921"
             ]
            ],
            "type": "histogram2d"
           }
          ],
          "histogram2dcontour": [
           {
            "colorbar": {
             "outlinewidth": 0,
             "ticks": ""
            },
            "colorscale": [
             [
              0,
              "#0d0887"
             ],
             [
              0.1111111111111111,
              "#46039f"
             ],
             [
              0.2222222222222222,
              "#7201a8"
             ],
             [
              0.3333333333333333,
              "#9c179e"
             ],
             [
              0.4444444444444444,
              "#bd3786"
             ],
             [
              0.5555555555555556,
              "#d8576b"
             ],
             [
              0.6666666666666666,
              "#ed7953"
             ],
             [
              0.7777777777777778,
              "#fb9f3a"
             ],
             [
              0.8888888888888888,
              "#fdca26"
             ],
             [
              1,
              "#f0f921"
             ]
            ],
            "type": "histogram2dcontour"
           }
          ],
          "mesh3d": [
           {
            "colorbar": {
             "outlinewidth": 0,
             "ticks": ""
            },
            "type": "mesh3d"
           }
          ],
          "parcoords": [
           {
            "line": {
             "colorbar": {
              "outlinewidth": 0,
              "ticks": ""
             }
            },
            "type": "parcoords"
           }
          ],
          "pie": [
           {
            "automargin": true,
            "type": "pie"
           }
          ],
          "scatter": [
           {
            "fillpattern": {
             "fillmode": "overlay",
             "size": 10,
             "solidity": 0.2
            },
            "type": "scatter"
           }
          ],
          "scatter3d": [
           {
            "line": {
             "colorbar": {
              "outlinewidth": 0,
              "ticks": ""
             }
            },
            "marker": {
             "colorbar": {
              "outlinewidth": 0,
              "ticks": ""
             }
            },
            "type": "scatter3d"
           }
          ],
          "scattercarpet": [
           {
            "marker": {
             "colorbar": {
              "outlinewidth": 0,
              "ticks": ""
             }
            },
            "type": "scattercarpet"
           }
          ],
          "scattergeo": [
           {
            "marker": {
             "colorbar": {
              "outlinewidth": 0,
              "ticks": ""
             }
            },
            "type": "scattergeo"
           }
          ],
          "scattergl": [
           {
            "marker": {
             "colorbar": {
              "outlinewidth": 0,
              "ticks": ""
             }
            },
            "type": "scattergl"
           }
          ],
          "scattermapbox": [
           {
            "marker": {
             "colorbar": {
              "outlinewidth": 0,
              "ticks": ""
             }
            },
            "type": "scattermapbox"
           }
          ],
          "scatterpolar": [
           {
            "marker": {
             "colorbar": {
              "outlinewidth": 0,
              "ticks": ""
             }
            },
            "type": "scatterpolar"
           }
          ],
          "scatterpolargl": [
           {
            "marker": {
             "colorbar": {
              "outlinewidth": 0,
              "ticks": ""
             }
            },
            "type": "scatterpolargl"
           }
          ],
          "scatterternary": [
           {
            "marker": {
             "colorbar": {
              "outlinewidth": 0,
              "ticks": ""
             }
            },
            "type": "scatterternary"
           }
          ],
          "surface": [
           {
            "colorbar": {
             "outlinewidth": 0,
             "ticks": ""
            },
            "colorscale": [
             [
              0,
              "#0d0887"
             ],
             [
              0.1111111111111111,
              "#46039f"
             ],
             [
              0.2222222222222222,
              "#7201a8"
             ],
             [
              0.3333333333333333,
              "#9c179e"
             ],
             [
              0.4444444444444444,
              "#bd3786"
             ],
             [
              0.5555555555555556,
              "#d8576b"
             ],
             [
              0.6666666666666666,
              "#ed7953"
             ],
             [
              0.7777777777777778,
              "#fb9f3a"
             ],
             [
              0.8888888888888888,
              "#fdca26"
             ],
             [
              1,
              "#f0f921"
             ]
            ],
            "type": "surface"
           }
          ],
          "table": [
           {
            "cells": {
             "fill": {
              "color": "#EBF0F8"
             },
             "line": {
              "color": "white"
             }
            },
            "header": {
             "fill": {
              "color": "#C8D4E3"
             },
             "line": {
              "color": "white"
             }
            },
            "type": "table"
           }
          ]
         },
         "layout": {
          "annotationdefaults": {
           "arrowcolor": "#2a3f5f",
           "arrowhead": 0,
           "arrowwidth": 1
          },
          "autotypenumbers": "strict",
          "coloraxis": {
           "colorbar": {
            "outlinewidth": 0,
            "ticks": ""
           }
          },
          "colorscale": {
           "diverging": [
            [
             0,
             "#8e0152"
            ],
            [
             0.1,
             "#c51b7d"
            ],
            [
             0.2,
             "#de77ae"
            ],
            [
             0.3,
             "#f1b6da"
            ],
            [
             0.4,
             "#fde0ef"
            ],
            [
             0.5,
             "#f7f7f7"
            ],
            [
             0.6,
             "#e6f5d0"
            ],
            [
             0.7,
             "#b8e186"
            ],
            [
             0.8,
             "#7fbc41"
            ],
            [
             0.9,
             "#4d9221"
            ],
            [
             1,
             "#276419"
            ]
           ],
           "sequential": [
            [
             0,
             "#0d0887"
            ],
            [
             0.1111111111111111,
             "#46039f"
            ],
            [
             0.2222222222222222,
             "#7201a8"
            ],
            [
             0.3333333333333333,
             "#9c179e"
            ],
            [
             0.4444444444444444,
             "#bd3786"
            ],
            [
             0.5555555555555556,
             "#d8576b"
            ],
            [
             0.6666666666666666,
             "#ed7953"
            ],
            [
             0.7777777777777778,
             "#fb9f3a"
            ],
            [
             0.8888888888888888,
             "#fdca26"
            ],
            [
             1,
             "#f0f921"
            ]
           ],
           "sequentialminus": [
            [
             0,
             "#0d0887"
            ],
            [
             0.1111111111111111,
             "#46039f"
            ],
            [
             0.2222222222222222,
             "#7201a8"
            ],
            [
             0.3333333333333333,
             "#9c179e"
            ],
            [
             0.4444444444444444,
             "#bd3786"
            ],
            [
             0.5555555555555556,
             "#d8576b"
            ],
            [
             0.6666666666666666,
             "#ed7953"
            ],
            [
             0.7777777777777778,
             "#fb9f3a"
            ],
            [
             0.8888888888888888,
             "#fdca26"
            ],
            [
             1,
             "#f0f921"
            ]
           ]
          },
          "colorway": [
           "#636efa",
           "#EF553B",
           "#00cc96",
           "#ab63fa",
           "#FFA15A",
           "#19d3f3",
           "#FF6692",
           "#B6E880",
           "#FF97FF",
           "#FECB52"
          ],
          "font": {
           "color": "#2a3f5f"
          },
          "geo": {
           "bgcolor": "white",
           "lakecolor": "white",
           "landcolor": "#E5ECF6",
           "showlakes": true,
           "showland": true,
           "subunitcolor": "white"
          },
          "hoverlabel": {
           "align": "left"
          },
          "hovermode": "closest",
          "mapbox": {
           "style": "light"
          },
          "paper_bgcolor": "white",
          "plot_bgcolor": "#E5ECF6",
          "polar": {
           "angularaxis": {
            "gridcolor": "white",
            "linecolor": "white",
            "ticks": ""
           },
           "bgcolor": "#E5ECF6",
           "radialaxis": {
            "gridcolor": "white",
            "linecolor": "white",
            "ticks": ""
           }
          },
          "scene": {
           "xaxis": {
            "backgroundcolor": "#E5ECF6",
            "gridcolor": "white",
            "gridwidth": 2,
            "linecolor": "white",
            "showbackground": true,
            "ticks": "",
            "zerolinecolor": "white"
           },
           "yaxis": {
            "backgroundcolor": "#E5ECF6",
            "gridcolor": "white",
            "gridwidth": 2,
            "linecolor": "white",
            "showbackground": true,
            "ticks": "",
            "zerolinecolor": "white"
           },
           "zaxis": {
            "backgroundcolor": "#E5ECF6",
            "gridcolor": "white",
            "gridwidth": 2,
            "linecolor": "white",
            "showbackground": true,
            "ticks": "",
            "zerolinecolor": "white"
           }
          },
          "shapedefaults": {
           "line": {
            "color": "#2a3f5f"
           }
          },
          "ternary": {
           "aaxis": {
            "gridcolor": "white",
            "linecolor": "white",
            "ticks": ""
           },
           "baxis": {
            "gridcolor": "white",
            "linecolor": "white",
            "ticks": ""
           },
           "bgcolor": "#E5ECF6",
           "caxis": {
            "gridcolor": "white",
            "linecolor": "white",
            "ticks": ""
           }
          },
          "title": {
           "x": 0.05
          },
          "xaxis": {
           "automargin": true,
           "gridcolor": "white",
           "linecolor": "white",
           "ticks": "",
           "title": {
            "standoff": 15
           },
           "zerolinecolor": "white",
           "zerolinewidth": 2
          },
          "yaxis": {
           "automargin": true,
           "gridcolor": "white",
           "linecolor": "white",
           "ticks": "",
           "title": {
            "standoff": 15
           },
           "zerolinecolor": "white",
           "zerolinewidth": 2
          }
         }
        }
       }
      },
      "image/png": "[encoded data removed]",
      "text/html": [
       "<div>                            <div id=\"0518883a-388b-4ced-8fc9-aca2cc88f019\" class=\"plotly-graph-div\" style=\"height:525px; width:100%;\"></div>            <script type=\"text/javascript\">                require([\"plotly\"], function(Plotly) {                    window.PLOTLYENV=window.PLOTLYENV || {};                                    if (document.getElementById(\"0518883a-388b-4ced-8fc9-aca2cc88f019\")) {                    Plotly.newPlot(                        \"0518883a-388b-4ced-8fc9-aca2cc88f019\",                        [{\"hovertemplate\":\"r=%{r}<br>theta=%{theta}<extra></extra>\",\"legendgroup\":\"\",\"line\":{\"color\":\"#636efa\",\"dash\":\"solid\"},\"marker\":{\"symbol\":\"circle\"},\"mode\":\"lines\",\"name\":\"\",\"r\":[1.0,1.3,2.0,2.0,3.0,1.0],\"showlegend\":false,\"subplot\":\"polar\",\"theta\":[\"processing cost\",\"mechanical properties\",\"chemical stability\",\"thermal stability\",\"device integration\",\"processing cost\"],\"type\":\"scatterpolar\"}],                        {\"template\":{\"data\":{\"histogram2dcontour\":[{\"type\":\"histogram2dcontour\",\"colorbar\":{\"outlinewidth\":0,\"ticks\":\"\"},\"colorscale\":[[0.0,\"#0d0887\"],[0.1111111111111111,\"#46039f\"],[0.2222222222222222,\"#7201a8\"],[0.3333333333333333,\"#9c179e\"],[0.4444444444444444,\"#bd3786\"],[0.5555555555555556,\"#d8576b\"],[0.6666666666666666,\"#ed7953\"],[0.7777777777777778,\"#fb9f3a\"],[0.8888888888888888,\"#fdca26\"],[1.0,\"#f0f921\"]]}],\"choropleth\":[{\"type\":\"choropleth\",\"colorbar\":{\"outlinewidth\":0,\"ticks\":\"\"}}],\"histogram2d\":[{\"type\":\"histogram2d\",\"colorbar\":{\"outlinewidth\":0,\"ticks\":\"\"},\"colorscale\":[[0.0,\"#0d0887\"],[0.1111111111111111,\"#46039f\"],[0.2222222222222222,\"#7201a8\"],[0.3333333333333333,\"#9c179e\"],[0.4444444444444444,\"#bd3786\"],[0.5555555555555556,\"#d8576b\"],[0.6666666666666666,\"#ed7953\"],[0.7777777777777778,\"#fb9f3a\"],[0.8888888888888888,\"#fdca26\"],[1.0,\"#f0f921\"]]}],\"heatmap\":[{\"type\":\"heatmap\",\"colorbar\":{\"outlinewidth\":0,\"ticks\":\"\"},\"colorscale\":[[0.0,\"#0d0887\"],[0.1111111111111111,\"#46039f\"],[0.2222222222222222,\"#7201a8\"],[0.3333333333333333,\"#9c179e\"],[0.4444444444444444,\"#bd3786\"],[0.5555555555555556,\"#d8576b\"],[0.6666666666666666,\"#ed7953\"],[0.7777777777777778,\"#fb9f3a\"],[0.8888888888888888,\"#fdca26\"],[1.0,\"#f0f921\"]]}],\"heatmapgl\":[{\"type\":\"heatmapgl\",\"colorbar\":{\"outlinewidth\":0,\"ticks\":\"\"},\"colorscale\":[[0.0,\"#0d0887\"],[0.1111111111111111,\"#46039f\"],[0.2222222222222222,\"#7201a8\"],[0.3333333333333333,\"#9c179e\"],[0.4444444444444444,\"#bd3786\"],[0.5555555555555556,\"#d8576b\"],[0.6666666666666666,\"#ed7953\"],[0.7777777777777778,\"#fb9f3a\"],[0.8888888888888888,\"#fdca26\"],[1.0,\"#f0f921\"]]}],\"contourcarpet\":[{\"type\":\"contourcarpet\",\"colorbar\":{\"outlinewidth\":0,\"ticks\":\"\"}}],\"contour\":[{\"type\":\"contour\",\"colorbar\":{\"outlinewidth\":0,\"ticks\":\"\"},\"colorscale\":[[0.0,\"#0d0887\"],[0.1111111111111111,\"#46039f\"],[0.2222222222222222,\"#7201a8\"],[0.3333333333333333,\"#9c179e\"],[0.4444444444444444,\"#bd3786\"],[0.5555555555555556,\"#d8576b\"],[0.6666666666666666,\"#ed7953\"],[0.7777777777777778,\"#fb9f3a\"],[0.8888888888888888,\"#fdca26\"],[1.0,\"#f0f921\"]]}],\"surface\":[{\"type\":\"surface\",\"colorbar\":{\"outlinewidth\":0,\"ticks\":\"\"},\"colorscale\":[[0.0,\"#0d0887\"],[0.1111111111111111,\"#46039f\"],[0.2222222222222222,\"#7201a8\"],[0.3333333333333333,\"#9c179e\"],[0.4444444444444444,\"#bd3786\"],[0.5555555555555556,\"#d8576b\"],[0.6666666666666666,\"#ed7953\"],[0.7777777777777778,\"#fb9f3a\"],[0.8888888888888888,\"#fdca26\"],[1.0,\"#f0f921\"]]}],\"mesh3d\":[{\"type\":\"mesh3d\",\"colorbar\":{\"outlinewidth\":0,\"ticks\":\"\"}}],\"scatter\":[{\"fillpattern\":{\"fillmode\":\"overlay\",\"size\":10,\"solidity\":0.2},\"type\":\"scatter\"}],\"parcoords\":[{\"type\":\"parcoords\",\"line\":{\"colorbar\":{\"outlinewidth\":0,\"ticks\":\"\"}}}],\"scatterpolargl\":[{\"type\":\"scatterpolargl\",\"marker\":{\"colorbar\":{\"outlinewidth\":0,\"ticks\":\"\"}}}],\"bar\":[{\"error_x\":{\"color\":\"#2a3f5f\"},\"error_y\":{\"color\":\"#2a3f5f\"},\"marker\":{\"line\":{\"color\":\"#E5ECF6\",\"width\":0.5},\"pattern\":{\"fillmode\":\"overlay\",\"size\":10,\"solidity\":0.2}},\"type\":\"bar\"}],\"scattergeo\":[{\"type\":\"scattergeo\",\"marker\":{\"colorbar\":{\"outlinewidth\":0,\"ticks\":\"\"}}}],\"scatterpolar\":[{\"type\":\"scatterpolar\",\"marker\":{\"colorbar\":{\"outlinewidth\":0,\"ticks\":\"\"}}}],\"histogram\":[{\"marker\":{\"pattern\":{\"fillmode\":\"overlay\",\"size\":10,\"solidity\":0.2}},\"type\":\"histogram\"}],\"scattergl\":[{\"type\":\"scattergl\",\"marker\":{\"colorbar\":{\"outlinewidth\":0,\"ticks\":\"\"}}}],\"scatter3d\":[{\"type\":\"scatter3d\",\"line\":{\"colorbar\":{\"outlinewidth\":0,\"ticks\":\"\"}},\"marker\":{\"colorbar\":{\"outlinewidth\":0,\"ticks\":\"\"}}}],\"scattermapbox\":[{\"type\":\"scattermapbox\",\"marker\":{\"colorbar\":{\"outlinewidth\":0,\"ticks\":\"\"}}}],\"scatterternary\":[{\"type\":\"scatterternary\",\"marker\":{\"colorbar\":{\"outlinewidth\":0,\"ticks\":\"\"}}}],\"scattercarpet\":[{\"type\":\"scattercarpet\",\"marker\":{\"colorbar\":{\"outlinewidth\":0,\"ticks\":\"\"}}}],\"carpet\":[{\"aaxis\":{\"endlinecolor\":\"#2a3f5f\",\"gridcolor\":\"white\",\"linecolor\":\"white\",\"minorgridcolor\":\"white\",\"startlinecolor\":\"#2a3f5f\"},\"baxis\":{\"endlinecolor\":\"#2a3f5f\",\"gridcolor\":\"white\",\"linecolor\":\"white\",\"minorgridcolor\":\"white\",\"startlinecolor\":\"#2a3f5f\"},\"type\":\"carpet\"}],\"table\":[{\"cells\":{\"fill\":{\"color\":\"#EBF0F8\"},\"line\":{\"color\":\"white\"}},\"header\":{\"fill\":{\"color\":\"#C8D4E3\"},\"line\":{\"color\":\"white\"}},\"type\":\"table\"}],\"barpolar\":[{\"marker\":{\"line\":{\"color\":\"#E5ECF6\",\"width\":0.5},\"pattern\":{\"fillmode\":\"overlay\",\"size\":10,\"solidity\":0.2}},\"type\":\"barpolar\"}],\"pie\":[{\"automargin\":true,\"type\":\"pie\"}]},\"layout\":{\"autotypenumbers\":\"strict\",\"colorway\":[\"#636efa\",\"#EF553B\",\"#00cc96\",\"#ab63fa\",\"#FFA15A\",\"#19d3f3\",\"#FF6692\",\"#B6E880\",\"#FF97FF\",\"#FECB52\"],\"font\":{\"color\":\"#2a3f5f\"},\"hovermode\":\"closest\",\"hoverlabel\":{\"align\":\"left\"},\"paper_bgcolor\":\"white\",\"plot_bgcolor\":\"#E5ECF6\",\"polar\":{\"bgcolor\":\"#E5ECF6\",\"angularaxis\":{\"gridcolor\":\"white\",\"linecolor\":\"white\",\"ticks\":\"\"},\"radialaxis\":{\"gridcolor\":\"white\",\"linecolor\":\"white\",\"ticks\":\"\"}},\"ternary\":{\"bgcolor\":\"#E5ECF6\",\"aaxis\":{\"gridcolor\":\"white\",\"linecolor\":\"white\",\"ticks\":\"\"},\"baxis\":{\"gridcolor\":\"white\",\"linecolor\":\"white\",\"ticks\":\"\"},\"caxis\":{\"gridcolor\":\"white\",\"linecolor\":\"white\",\"ticks\":\"\"}},\"coloraxis\":{\"colorbar\":{\"outlinewidth\":0,\"ticks\":\"\"}},\"colorscale\":{\"sequential\":[[0.0,\"#0d0887\"],[0.1111111111111111,\"#46039f\"],[0.2222222222222222,\"#7201a8\"],[0.3333333333333333,\"#9c179e\"],[0.4444444444444444,\"#bd3786\"],[0.5555555555555556,\"#d8576b\"],[0.6666666666666666,\"#ed7953\"],[0.7777777777777778,\"#fb9f3a\"],[0.8888888888888888,\"#fdca26\"],[1.0,\"#f0f921\"]],\"sequentialminus\":[[0.0,\"#0d0887\"],[0.1111111111111111,\"#46039f\"],[0.2222222222222222,\"#7201a8\"],[0.3333333333333333,\"#9c179e\"],[0.4444444444444444,\"#bd3786\"],[0.5555555555555556,\"#d8576b\"],[0.6666666666666666,\"#ed7953\"],[0.7777777777777778,\"#fb9f3a\"],[0.8888888888888888,\"#fdca26\"],[1.0,\"#f0f921\"]],\"diverging\":[[0,\"#8e0152\"],[0.1,\"#c51b7d\"],[0.2,\"#de77ae\"],[0.3,\"#f1b6da\"],[0.4,\"#fde0ef\"],[0.5,\"#f7f7f7\"],[0.6,\"#e6f5d0\"],[0.7,\"#b8e186\"],[0.8,\"#7fbc41\"],[0.9,\"#4d9221\"],[1,\"#276419\"]]},\"xaxis\":{\"gridcolor\":\"white\",\"linecolor\":\"white\",\"ticks\":\"\",\"title\":{\"standoff\":15},\"zerolinecolor\":\"white\",\"automargin\":true,\"zerolinewidth\":2},\"yaxis\":{\"gridcolor\":\"white\",\"linecolor\":\"white\",\"ticks\":\"\",\"title\":{\"standoff\":15},\"zerolinecolor\":\"white\",\"automargin\":true,\"zerolinewidth\":2},\"scene\":{\"xaxis\":{\"backgroundcolor\":\"#E5ECF6\",\"gridcolor\":\"white\",\"linecolor\":\"white\",\"showbackground\":true,\"ticks\":\"\",\"zerolinecolor\":\"white\",\"gridwidth\":2},\"yaxis\":{\"backgroundcolor\":\"#E5ECF6\",\"gridcolor\":\"white\",\"linecolor\":\"white\",\"showbackground\":true,\"ticks\":\"\",\"zerolinecolor\":\"white\",\"gridwidth\":2},\"zaxis\":{\"backgroundcolor\":\"#E5ECF6\",\"gridcolor\":\"white\",\"linecolor\":\"white\",\"showbackground\":true,\"ticks\":\"\",\"zerolinecolor\":\"white\",\"gridwidth\":2}},\"shapedefaults\":{\"line\":{\"color\":\"#2a3f5f\"}},\"annotationdefaults\":{\"arrowcolor\":\"#2a3f5f\",\"arrowhead\":0,\"arrowwidth\":1},\"geo\":{\"bgcolor\":\"white\",\"landcolor\":\"#E5ECF6\",\"subunitcolor\":\"white\",\"showland\":true,\"showlakes\":true,\"lakecolor\":\"white\"},\"title\":{\"x\":0.05},\"mapbox\":{\"style\":\"light\"}}},\"polar\":{\"domain\":{\"x\":[0.0,1.0],\"y\":[0.0,1.0]},\"angularaxis\":{\"direction\":\"clockwise\",\"rotation\":90}},\"legend\":{\"tracegroupgap\":0},\"margin\":{\"t\":60}},                        {\"responsive\": true}                    ).then(function(){\n",
       "                            \n",
       "var gd = document.getElementById('0518883a-388b-4ced-8fc9-aca2cc88f019');\n",
       "var x = new MutationObserver(function (mutations, observer) {{\n",
       "        var display = window.getComputedStyle(gd).display;\n",
       "        if (!display || display === 'none') {{\n",
       "            console.log([gd, 'removed!']);\n",
       "            Plotly.purge(gd);\n",
       "            observer.disconnect();\n",
       "        }}\n",
       "}});\n",
       "\n",
       "// Listen for the removal of the full notebook cells\n",
       "var notebookContainer = gd.closest('#notebook-container');\n",
       "if (notebookContainer) {{\n",
       "    x.observe(notebookContainer, {childList: true});\n",
       "}}\n",
       "\n",
       "// Listen for the clearing of the current output cell\n",
       "var outputEl = gd.closest('.output');\n",
       "if (outputEl) {{\n",
       "    x.observe(outputEl, {childList: true});\n",
       "}}\n",
       "\n",
       "                        })                };                });            </script>        </div>"
      ]
     },
     "metadata": {},
     "output_type": "display_data"
    }
   ],
   "source": [
    "import plotly.express as px\n",
    "import pandas as pd\n",
    "df = pd.DataFrame(dict(\n",
    "    r=[1, 1.3, 2, 2, 3],\n",
    "    theta=['processing cost','mechanical properties','chemical stability',\n",
    "           'thermal stability', 'device integration']))\n",
    "fig = px.line_polar(df, r='r', theta='theta', line_close=True)\n",
    "fig.show()"
   ]
  },
  {
   "cell_type": "code",
   "execution_count": 345,
   "id": "6f4be6f3-18b0-460c-b26a-fa3b7dd4be52",
   "metadata": {},
   "outputs": [
    {
     "data": {
      "application/vnd.plotly.v1+json": {
       "config": {
        "plotlyServerURL": "https://plot.ly"
       },
       "data": [
        {
         "fill": "toself",
         "name": "Product B",
         "r": [
          1,
          3,
          0.5,
          1,
          2
         ],
         "theta": [
          "processing cost",
          "mechanical properties",
          "chemical stability",
          "thermal stability",
          "device integration"
         ],
         "type": "scatterpolar"
        }
       ],
       "layout": {
        "autosize": true,
        "polar": {
         "angularaxis": {
          "type": "category"
         },
         "radialaxis": {
          "autorange": false,
          "range": [
           0,
           5
          ],
          "type": "linear",
          "visible": true
         }
        },
        "showlegend": false,
        "template": {
         "data": {
          "bar": [
           {
            "error_x": {
             "color": "#2a3f5f"
            },
            "error_y": {
             "color": "#2a3f5f"
            },
            "marker": {
             "line": {
              "color": "#E5ECF6",
              "width": 0.5
             },
             "pattern": {
              "fillmode": "overlay",
              "size": 10,
              "solidity": 0.2
             }
            },
            "type": "bar"
           }
          ],
          "barpolar": [
           {
            "marker": {
             "line": {
              "color": "#E5ECF6",
              "width": 0.5
             },
             "pattern": {
              "fillmode": "overlay",
              "size": 10,
              "solidity": 0.2
             }
            },
            "type": "barpolar"
           }
          ],
          "carpet": [
           {
            "aaxis": {
             "endlinecolor": "#2a3f5f",
             "gridcolor": "white",
             "linecolor": "white",
             "minorgridcolor": "white",
             "startlinecolor": "#2a3f5f"
            },
            "baxis": {
             "endlinecolor": "#2a3f5f",
             "gridcolor": "white",
             "linecolor": "white",
             "minorgridcolor": "white",
             "startlinecolor": "#2a3f5f"
            },
            "type": "carpet"
           }
          ],
          "choropleth": [
           {
            "colorbar": {
             "outlinewidth": 0,
             "ticks": ""
            },
            "type": "choropleth"
           }
          ],
          "contour": [
           {
            "colorbar": {
             "outlinewidth": 0,
             "ticks": ""
            },
            "colorscale": [
             [
              0,
              "#0d0887"
             ],
             [
              0.1111111111111111,
              "#46039f"
             ],
             [
              0.2222222222222222,
              "#7201a8"
             ],
             [
              0.3333333333333333,
              "#9c179e"
             ],
             [
              0.4444444444444444,
              "#bd3786"
             ],
             [
              0.5555555555555556,
              "#d8576b"
             ],
             [
              0.6666666666666666,
              "#ed7953"
             ],
             [
              0.7777777777777778,
              "#fb9f3a"
             ],
             [
              0.8888888888888888,
              "#fdca26"
             ],
             [
              1,
              "#f0f921"
             ]
            ],
            "type": "contour"
           }
          ],
          "contourcarpet": [
           {
            "colorbar": {
             "outlinewidth": 0,
             "ticks": ""
            },
            "type": "contourcarpet"
           }
          ],
          "heatmap": [
           {
            "colorbar": {
             "outlinewidth": 0,
             "ticks": ""
            },
            "colorscale": [
             [
              0,
              "#0d0887"
             ],
             [
              0.1111111111111111,
              "#46039f"
             ],
             [
              0.2222222222222222,
              "#7201a8"
             ],
             [
              0.3333333333333333,
              "#9c179e"
             ],
             [
              0.4444444444444444,
              "#bd3786"
             ],
             [
              0.5555555555555556,
              "#d8576b"
             ],
             [
              0.6666666666666666,
              "#ed7953"
             ],
             [
              0.7777777777777778,
              "#fb9f3a"
             ],
             [
              0.8888888888888888,
              "#fdca26"
             ],
             [
              1,
              "#f0f921"
             ]
            ],
            "type": "heatmap"
           }
          ],
          "heatmapgl": [
           {
            "colorbar": {
             "outlinewidth": 0,
             "ticks": ""
            },
            "colorscale": [
             [
              0,
              "#0d0887"
             ],
             [
              0.1111111111111111,
              "#46039f"
             ],
             [
              0.2222222222222222,
              "#7201a8"
             ],
             [
              0.3333333333333333,
              "#9c179e"
             ],
             [
              0.4444444444444444,
              "#bd3786"
             ],
             [
              0.5555555555555556,
              "#d8576b"
             ],
             [
              0.6666666666666666,
              "#ed7953"
             ],
             [
              0.7777777777777778,
              "#fb9f3a"
             ],
             [
              0.8888888888888888,
              "#fdca26"
             ],
             [
              1,
              "#f0f921"
             ]
            ],
            "type": "heatmapgl"
           }
          ],
          "histogram": [
           {
            "marker": {
             "pattern": {
              "fillmode": "overlay",
              "size": 10,
              "solidity": 0.2
             }
            },
            "type": "histogram"
           }
          ],
          "histogram2d": [
           {
            "colorbar": {
             "outlinewidth": 0,
             "ticks": ""
            },
            "colorscale": [
             [
              0,
              "#0d0887"
             ],
             [
              0.1111111111111111,
              "#46039f"
             ],
             [
              0.2222222222222222,
              "#7201a8"
             ],
             [
              0.3333333333333333,
              "#9c179e"
             ],
             [
              0.4444444444444444,
              "#bd3786"
             ],
             [
              0.5555555555555556,
              "#d8576b"
             ],
             [
              0.6666666666666666,
              "#ed7953"
             ],
             [
              0.7777777777777778,
              "#fb9f3a"
             ],
             [
              0.8888888888888888,
              "#fdca26"
             ],
             [
              1,
              "#f0f921"
             ]
            ],
            "type": "histogram2d"
           }
          ],
          "histogram2dcontour": [
           {
            "colorbar": {
             "outlinewidth": 0,
             "ticks": ""
            },
            "colorscale": [
             [
              0,
              "#0d0887"
             ],
             [
              0.1111111111111111,
              "#46039f"
             ],
             [
              0.2222222222222222,
              "#7201a8"
             ],
             [
              0.3333333333333333,
              "#9c179e"
             ],
             [
              0.4444444444444444,
              "#bd3786"
             ],
             [
              0.5555555555555556,
              "#d8576b"
             ],
             [
              0.6666666666666666,
              "#ed7953"
             ],
             [
              0.7777777777777778,
              "#fb9f3a"
             ],
             [
              0.8888888888888888,
              "#fdca26"
             ],
             [
              1,
              "#f0f921"
             ]
            ],
            "type": "histogram2dcontour"
           }
          ],
          "mesh3d": [
           {
            "colorbar": {
             "outlinewidth": 0,
             "ticks": ""
            },
            "type": "mesh3d"
           }
          ],
          "parcoords": [
           {
            "line": {
             "colorbar": {
              "outlinewidth": 0,
              "ticks": ""
             }
            },
            "type": "parcoords"
           }
          ],
          "pie": [
           {
            "automargin": true,
            "type": "pie"
           }
          ],
          "scatter": [
           {
            "fillpattern": {
             "fillmode": "overlay",
             "size": 10,
             "solidity": 0.2
            },
            "type": "scatter"
           }
          ],
          "scatter3d": [
           {
            "line": {
             "colorbar": {
              "outlinewidth": 0,
              "ticks": ""
             }
            },
            "marker": {
             "colorbar": {
              "outlinewidth": 0,
              "ticks": ""
             }
            },
            "type": "scatter3d"
           }
          ],
          "scattercarpet": [
           {
            "marker": {
             "colorbar": {
              "outlinewidth": 0,
              "ticks": ""
             }
            },
            "type": "scattercarpet"
           }
          ],
          "scattergeo": [
           {
            "marker": {
             "colorbar": {
              "outlinewidth": 0,
              "ticks": ""
             }
            },
            "type": "scattergeo"
           }
          ],
          "scattergl": [
           {
            "marker": {
             "colorbar": {
              "outlinewidth": 0,
              "ticks": ""
             }
            },
            "type": "scattergl"
           }
          ],
          "scattermapbox": [
           {
            "marker": {
             "colorbar": {
              "outlinewidth": 0,
              "ticks": ""
             }
            },
            "type": "scattermapbox"
           }
          ],
          "scatterpolar": [
           {
            "marker": {
             "colorbar": {
              "outlinewidth": 0,
              "ticks": ""
             }
            },
            "type": "scatterpolar"
           }
          ],
          "scatterpolargl": [
           {
            "marker": {
             "colorbar": {
              "outlinewidth": 0,
              "ticks": ""
             }
            },
            "type": "scatterpolargl"
           }
          ],
          "scatterternary": [
           {
            "marker": {
             "colorbar": {
              "outlinewidth": 0,
              "ticks": ""
             }
            },
            "type": "scatterternary"
           }
          ],
          "surface": [
           {
            "colorbar": {
             "outlinewidth": 0,
             "ticks": ""
            },
            "colorscale": [
             [
              0,
              "#0d0887"
             ],
             [
              0.1111111111111111,
              "#46039f"
             ],
             [
              0.2222222222222222,
              "#7201a8"
             ],
             [
              0.3333333333333333,
              "#9c179e"
             ],
             [
              0.4444444444444444,
              "#bd3786"
             ],
             [
              0.5555555555555556,
              "#d8576b"
             ],
             [
              0.6666666666666666,
              "#ed7953"
             ],
             [
              0.7777777777777778,
              "#fb9f3a"
             ],
             [
              0.8888888888888888,
              "#fdca26"
             ],
             [
              1,
              "#f0f921"
             ]
            ],
            "type": "surface"
           }
          ],
          "table": [
           {
            "cells": {
             "fill": {
              "color": "#EBF0F8"
             },
             "line": {
              "color": "white"
             }
            },
            "header": {
             "fill": {
              "color": "#C8D4E3"
             },
             "line": {
              "color": "white"
             }
            },
            "type": "table"
           }
          ]
         },
         "layout": {
          "annotationdefaults": {
           "arrowcolor": "#2a3f5f",
           "arrowhead": 0,
           "arrowwidth": 1
          },
          "autotypenumbers": "strict",
          "coloraxis": {
           "colorbar": {
            "outlinewidth": 0,
            "ticks": ""
           }
          },
          "colorscale": {
           "diverging": [
            [
             0,
             "#8e0152"
            ],
            [
             0.1,
             "#c51b7d"
            ],
            [
             0.2,
             "#de77ae"
            ],
            [
             0.3,
             "#f1b6da"
            ],
            [
             0.4,
             "#fde0ef"
            ],
            [
             0.5,
             "#f7f7f7"
            ],
            [
             0.6,
             "#e6f5d0"
            ],
            [
             0.7,
             "#b8e186"
            ],
            [
             0.8,
             "#7fbc41"
            ],
            [
             0.9,
             "#4d9221"
            ],
            [
             1,
             "#276419"
            ]
           ],
           "sequential": [
            [
             0,
             "#0d0887"
            ],
            [
             0.1111111111111111,
             "#46039f"
            ],
            [
             0.2222222222222222,
             "#7201a8"
            ],
            [
             0.3333333333333333,
             "#9c179e"
            ],
            [
             0.4444444444444444,
             "#bd3786"
            ],
            [
             0.5555555555555556,
             "#d8576b"
            ],
            [
             0.6666666666666666,
             "#ed7953"
            ],
            [
             0.7777777777777778,
             "#fb9f3a"
            ],
            [
             0.8888888888888888,
             "#fdca26"
            ],
            [
             1,
             "#f0f921"
            ]
           ],
           "sequentialminus": [
            [
             0,
             "#0d0887"
            ],
            [
             0.1111111111111111,
             "#46039f"
            ],
            [
             0.2222222222222222,
             "#7201a8"
            ],
            [
             0.3333333333333333,
             "#9c179e"
            ],
            [
             0.4444444444444444,
             "#bd3786"
            ],
            [
             0.5555555555555556,
             "#d8576b"
            ],
            [
             0.6666666666666666,
             "#ed7953"
            ],
            [
             0.7777777777777778,
             "#fb9f3a"
            ],
            [
             0.8888888888888888,
             "#fdca26"
            ],
            [
             1,
             "#f0f921"
            ]
           ]
          },
          "colorway": [
           "#636efa",
           "#EF553B",
           "#00cc96",
           "#ab63fa",
           "#FFA15A",
           "#19d3f3",
           "#FF6692",
           "#B6E880",
           "#FF97FF",
           "#FECB52"
          ],
          "font": {
           "color": "#2a3f5f"
          },
          "geo": {
           "bgcolor": "white",
           "lakecolor": "white",
           "landcolor": "#E5ECF6",
           "showlakes": true,
           "showland": true,
           "subunitcolor": "white"
          },
          "hoverlabel": {
           "align": "left"
          },
          "hovermode": "closest",
          "mapbox": {
           "style": "light"
          },
          "paper_bgcolor": "white",
          "plot_bgcolor": "#E5ECF6",
          "polar": {
           "angularaxis": {
            "gridcolor": "white",
            "linecolor": "white",
            "ticks": ""
           },
           "bgcolor": "#E5ECF6",
           "radialaxis": {
            "gridcolor": "white",
            "linecolor": "white",
            "ticks": ""
           }
          },
          "scene": {
           "xaxis": {
            "backgroundcolor": "#E5ECF6",
            "gridcolor": "white",
            "gridwidth": 2,
            "linecolor": "white",
            "showbackground": true,
            "ticks": "",
            "zerolinecolor": "white"
           },
           "yaxis": {
            "backgroundcolor": "#E5ECF6",
            "gridcolor": "white",
            "gridwidth": 2,
            "linecolor": "white",
            "showbackground": true,
            "ticks": "",
            "zerolinecolor": "white"
           },
           "zaxis": {
            "backgroundcolor": "#E5ECF6",
            "gridcolor": "white",
            "gridwidth": 2,
            "linecolor": "white",
            "showbackground": true,
            "ticks": "",
            "zerolinecolor": "white"
           }
          },
          "shapedefaults": {
           "line": {
            "color": "#2a3f5f"
           }
          },
          "ternary": {
           "aaxis": {
            "gridcolor": "white",
            "linecolor": "white",
            "ticks": ""
           },
           "baxis": {
            "gridcolor": "white",
            "linecolor": "white",
            "ticks": ""
           },
           "bgcolor": "#E5ECF6",
           "caxis": {
            "gridcolor": "white",
            "linecolor": "white",
            "ticks": ""
           }
          },
          "title": {
           "x": 0.05
          },
          "xaxis": {
           "automargin": true,
           "gridcolor": "white",
           "linecolor": "white",
           "ticks": "",
           "title": {
            "standoff": 15
           },
           "zerolinecolor": "white",
           "zerolinewidth": 2
          },
          "yaxis": {
           "automargin": true,
           "gridcolor": "white",
           "linecolor": "white",
           "ticks": "",
           "title": {
            "standoff": 15
           },
           "zerolinecolor": "white",
           "zerolinewidth": 2
          }
         }
        }
       }
      },
      "image/png": "[encoded data removed]",
      "text/html": [
       "<div>                            <div id=\"9ca34e58-2be7-473c-95a3-bf36c59d930a\" class=\"plotly-graph-div\" style=\"height:525px; width:100%;\"></div>            <script type=\"text/javascript\">                require([\"plotly\"], function(Plotly) {                    window.PLOTLYENV=window.PLOTLYENV || {};                                    if (document.getElementById(\"9ca34e58-2be7-473c-95a3-bf36c59d930a\")) {                    Plotly.newPlot(                        \"9ca34e58-2be7-473c-95a3-bf36c59d930a\",                        [{\"fill\":\"toself\",\"name\":\"Product B\",\"r\":[1,3,0.5,1,2],\"theta\":[\"processing cost\",\"mechanical properties\",\"chemical stability\",\"thermal stability\",\"device integration\"],\"type\":\"scatterpolar\"}],                        {\"template\":{\"data\":{\"histogram2dcontour\":[{\"type\":\"histogram2dcontour\",\"colorbar\":{\"outlinewidth\":0,\"ticks\":\"\"},\"colorscale\":[[0.0,\"#0d0887\"],[0.1111111111111111,\"#46039f\"],[0.2222222222222222,\"#7201a8\"],[0.3333333333333333,\"#9c179e\"],[0.4444444444444444,\"#bd3786\"],[0.5555555555555556,\"#d8576b\"],[0.6666666666666666,\"#ed7953\"],[0.7777777777777778,\"#fb9f3a\"],[0.8888888888888888,\"#fdca26\"],[1.0,\"#f0f921\"]]}],\"choropleth\":[{\"type\":\"choropleth\",\"colorbar\":{\"outlinewidth\":0,\"ticks\":\"\"}}],\"histogram2d\":[{\"type\":\"histogram2d\",\"colorbar\":{\"outlinewidth\":0,\"ticks\":\"\"},\"colorscale\":[[0.0,\"#0d0887\"],[0.1111111111111111,\"#46039f\"],[0.2222222222222222,\"#7201a8\"],[0.3333333333333333,\"#9c179e\"],[0.4444444444444444,\"#bd3786\"],[0.5555555555555556,\"#d8576b\"],[0.6666666666666666,\"#ed7953\"],[0.7777777777777778,\"#fb9f3a\"],[0.8888888888888888,\"#fdca26\"],[1.0,\"#f0f921\"]]}],\"heatmap\":[{\"type\":\"heatmap\",\"colorbar\":{\"outlinewidth\":0,\"ticks\":\"\"},\"colorscale\":[[0.0,\"#0d0887\"],[0.1111111111111111,\"#46039f\"],[0.2222222222222222,\"#7201a8\"],[0.3333333333333333,\"#9c179e\"],[0.4444444444444444,\"#bd3786\"],[0.5555555555555556,\"#d8576b\"],[0.6666666666666666,\"#ed7953\"],[0.7777777777777778,\"#fb9f3a\"],[0.8888888888888888,\"#fdca26\"],[1.0,\"#f0f921\"]]}],\"heatmapgl\":[{\"type\":\"heatmapgl\",\"colorbar\":{\"outlinewidth\":0,\"ticks\":\"\"},\"colorscale\":[[0.0,\"#0d0887\"],[0.1111111111111111,\"#46039f\"],[0.2222222222222222,\"#7201a8\"],[0.3333333333333333,\"#9c179e\"],[0.4444444444444444,\"#bd3786\"],[0.5555555555555556,\"#d8576b\"],[0.6666666666666666,\"#ed7953\"],[0.7777777777777778,\"#fb9f3a\"],[0.8888888888888888,\"#fdca26\"],[1.0,\"#f0f921\"]]}],\"contourcarpet\":[{\"type\":\"contourcarpet\",\"colorbar\":{\"outlinewidth\":0,\"ticks\":\"\"}}],\"contour\":[{\"type\":\"contour\",\"colorbar\":{\"outlinewidth\":0,\"ticks\":\"\"},\"colorscale\":[[0.0,\"#0d0887\"],[0.1111111111111111,\"#46039f\"],[0.2222222222222222,\"#7201a8\"],[0.3333333333333333,\"#9c179e\"],[0.4444444444444444,\"#bd3786\"],[0.5555555555555556,\"#d8576b\"],[0.6666666666666666,\"#ed7953\"],[0.7777777777777778,\"#fb9f3a\"],[0.8888888888888888,\"#fdca26\"],[1.0,\"#f0f921\"]]}],\"surface\":[{\"type\":\"surface\",\"colorbar\":{\"outlinewidth\":0,\"ticks\":\"\"},\"colorscale\":[[0.0,\"#0d0887\"],[0.1111111111111111,\"#46039f\"],[0.2222222222222222,\"#7201a8\"],[0.3333333333333333,\"#9c179e\"],[0.4444444444444444,\"#bd3786\"],[0.5555555555555556,\"#d8576b\"],[0.6666666666666666,\"#ed7953\"],[0.7777777777777778,\"#fb9f3a\"],[0.8888888888888888,\"#fdca26\"],[1.0,\"#f0f921\"]]}],\"mesh3d\":[{\"type\":\"mesh3d\",\"colorbar\":{\"outlinewidth\":0,\"ticks\":\"\"}}],\"scatter\":[{\"fillpattern\":{\"fillmode\":\"overlay\",\"size\":10,\"solidity\":0.2},\"type\":\"scatter\"}],\"parcoords\":[{\"type\":\"parcoords\",\"line\":{\"colorbar\":{\"outlinewidth\":0,\"ticks\":\"\"}}}],\"scatterpolargl\":[{\"type\":\"scatterpolargl\",\"marker\":{\"colorbar\":{\"outlinewidth\":0,\"ticks\":\"\"}}}],\"bar\":[{\"error_x\":{\"color\":\"#2a3f5f\"},\"error_y\":{\"color\":\"#2a3f5f\"},\"marker\":{\"line\":{\"color\":\"#E5ECF6\",\"width\":0.5},\"pattern\":{\"fillmode\":\"overlay\",\"size\":10,\"solidity\":0.2}},\"type\":\"bar\"}],\"scattergeo\":[{\"type\":\"scattergeo\",\"marker\":{\"colorbar\":{\"outlinewidth\":0,\"ticks\":\"\"}}}],\"scatterpolar\":[{\"type\":\"scatterpolar\",\"marker\":{\"colorbar\":{\"outlinewidth\":0,\"ticks\":\"\"}}}],\"histogram\":[{\"marker\":{\"pattern\":{\"fillmode\":\"overlay\",\"size\":10,\"solidity\":0.2}},\"type\":\"histogram\"}],\"scattergl\":[{\"type\":\"scattergl\",\"marker\":{\"colorbar\":{\"outlinewidth\":0,\"ticks\":\"\"}}}],\"scatter3d\":[{\"type\":\"scatter3d\",\"line\":{\"colorbar\":{\"outlinewidth\":0,\"ticks\":\"\"}},\"marker\":{\"colorbar\":{\"outlinewidth\":0,\"ticks\":\"\"}}}],\"scattermapbox\":[{\"type\":\"scattermapbox\",\"marker\":{\"colorbar\":{\"outlinewidth\":0,\"ticks\":\"\"}}}],\"scatterternary\":[{\"type\":\"scatterternary\",\"marker\":{\"colorbar\":{\"outlinewidth\":0,\"ticks\":\"\"}}}],\"scattercarpet\":[{\"type\":\"scattercarpet\",\"marker\":{\"colorbar\":{\"outlinewidth\":0,\"ticks\":\"\"}}}],\"carpet\":[{\"aaxis\":{\"endlinecolor\":\"#2a3f5f\",\"gridcolor\":\"white\",\"linecolor\":\"white\",\"minorgridcolor\":\"white\",\"startlinecolor\":\"#2a3f5f\"},\"baxis\":{\"endlinecolor\":\"#2a3f5f\",\"gridcolor\":\"white\",\"linecolor\":\"white\",\"minorgridcolor\":\"white\",\"startlinecolor\":\"#2a3f5f\"},\"type\":\"carpet\"}],\"table\":[{\"cells\":{\"fill\":{\"color\":\"#EBF0F8\"},\"line\":{\"color\":\"white\"}},\"header\":{\"fill\":{\"color\":\"#C8D4E3\"},\"line\":{\"color\":\"white\"}},\"type\":\"table\"}],\"barpolar\":[{\"marker\":{\"line\":{\"color\":\"#E5ECF6\",\"width\":0.5},\"pattern\":{\"fillmode\":\"overlay\",\"size\":10,\"solidity\":0.2}},\"type\":\"barpolar\"}],\"pie\":[{\"automargin\":true,\"type\":\"pie\"}]},\"layout\":{\"autotypenumbers\":\"strict\",\"colorway\":[\"#636efa\",\"#EF553B\",\"#00cc96\",\"#ab63fa\",\"#FFA15A\",\"#19d3f3\",\"#FF6692\",\"#B6E880\",\"#FF97FF\",\"#FECB52\"],\"font\":{\"color\":\"#2a3f5f\"},\"hovermode\":\"closest\",\"hoverlabel\":{\"align\":\"left\"},\"paper_bgcolor\":\"white\",\"plot_bgcolor\":\"#E5ECF6\",\"polar\":{\"bgcolor\":\"#E5ECF6\",\"angularaxis\":{\"gridcolor\":\"white\",\"linecolor\":\"white\",\"ticks\":\"\"},\"radialaxis\":{\"gridcolor\":\"white\",\"linecolor\":\"white\",\"ticks\":\"\"}},\"ternary\":{\"bgcolor\":\"#E5ECF6\",\"aaxis\":{\"gridcolor\":\"white\",\"linecolor\":\"white\",\"ticks\":\"\"},\"baxis\":{\"gridcolor\":\"white\",\"linecolor\":\"white\",\"ticks\":\"\"},\"caxis\":{\"gridcolor\":\"white\",\"linecolor\":\"white\",\"ticks\":\"\"}},\"coloraxis\":{\"colorbar\":{\"outlinewidth\":0,\"ticks\":\"\"}},\"colorscale\":{\"sequential\":[[0.0,\"#0d0887\"],[0.1111111111111111,\"#46039f\"],[0.2222222222222222,\"#7201a8\"],[0.3333333333333333,\"#9c179e\"],[0.4444444444444444,\"#bd3786\"],[0.5555555555555556,\"#d8576b\"],[0.6666666666666666,\"#ed7953\"],[0.7777777777777778,\"#fb9f3a\"],[0.8888888888888888,\"#fdca26\"],[1.0,\"#f0f921\"]],\"sequentialminus\":[[0.0,\"#0d0887\"],[0.1111111111111111,\"#46039f\"],[0.2222222222222222,\"#7201a8\"],[0.3333333333333333,\"#9c179e\"],[0.4444444444444444,\"#bd3786\"],[0.5555555555555556,\"#d8576b\"],[0.6666666666666666,\"#ed7953\"],[0.7777777777777778,\"#fb9f3a\"],[0.8888888888888888,\"#fdca26\"],[1.0,\"#f0f921\"]],\"diverging\":[[0,\"#8e0152\"],[0.1,\"#c51b7d\"],[0.2,\"#de77ae\"],[0.3,\"#f1b6da\"],[0.4,\"#fde0ef\"],[0.5,\"#f7f7f7\"],[0.6,\"#e6f5d0\"],[0.7,\"#b8e186\"],[0.8,\"#7fbc41\"],[0.9,\"#4d9221\"],[1,\"#276419\"]]},\"xaxis\":{\"gridcolor\":\"white\",\"linecolor\":\"white\",\"ticks\":\"\",\"title\":{\"standoff\":15},\"zerolinecolor\":\"white\",\"automargin\":true,\"zerolinewidth\":2},\"yaxis\":{\"gridcolor\":\"white\",\"linecolor\":\"white\",\"ticks\":\"\",\"title\":{\"standoff\":15},\"zerolinecolor\":\"white\",\"automargin\":true,\"zerolinewidth\":2},\"scene\":{\"xaxis\":{\"backgroundcolor\":\"#E5ECF6\",\"gridcolor\":\"white\",\"linecolor\":\"white\",\"showbackground\":true,\"ticks\":\"\",\"zerolinecolor\":\"white\",\"gridwidth\":2},\"yaxis\":{\"backgroundcolor\":\"#E5ECF6\",\"gridcolor\":\"white\",\"linecolor\":\"white\",\"showbackground\":true,\"ticks\":\"\",\"zerolinecolor\":\"white\",\"gridwidth\":2},\"zaxis\":{\"backgroundcolor\":\"#E5ECF6\",\"gridcolor\":\"white\",\"linecolor\":\"white\",\"showbackground\":true,\"ticks\":\"\",\"zerolinecolor\":\"white\",\"gridwidth\":2}},\"shapedefaults\":{\"line\":{\"color\":\"#2a3f5f\"}},\"annotationdefaults\":{\"arrowcolor\":\"#2a3f5f\",\"arrowhead\":0,\"arrowwidth\":1},\"geo\":{\"bgcolor\":\"white\",\"landcolor\":\"#E5ECF6\",\"subunitcolor\":\"white\",\"showland\":true,\"showlakes\":true,\"lakecolor\":\"white\"},\"title\":{\"x\":0.05},\"mapbox\":{\"style\":\"light\"}}},\"polar\":{\"radialaxis\":{\"visible\":true,\"range\":[0,5]}},\"showlegend\":false},                        {\"responsive\": true}                    ).then(function(){\n",
       "                            \n",
       "var gd = document.getElementById('9ca34e58-2be7-473c-95a3-bf36c59d930a');\n",
       "var x = new MutationObserver(function (mutations, observer) {{\n",
       "        var display = window.getComputedStyle(gd).display;\n",
       "        if (!display || display === 'none') {{\n",
       "            console.log([gd, 'removed!']);\n",
       "            Plotly.purge(gd);\n",
       "            observer.disconnect();\n",
       "        }}\n",
       "}});\n",
       "\n",
       "// Listen for the removal of the full notebook cells\n",
       "var notebookContainer = gd.closest('#notebook-container');\n",
       "if (notebookContainer) {{\n",
       "    x.observe(notebookContainer, {childList: true});\n",
       "}}\n",
       "\n",
       "// Listen for the clearing of the current output cell\n",
       "var outputEl = gd.closest('.output');\n",
       "if (outputEl) {{\n",
       "    x.observe(outputEl, {childList: true});\n",
       "}}\n",
       "\n",
       "                        })                };                });            </script>        </div>"
      ]
     },
     "metadata": {},
     "output_type": "display_data"
    }
   ],
   "source": [
    "import plotly.graph_objects as go\n",
    "\n",
    "categories = ['processing cost','mechanical properties','chemical stability',\n",
    "              'thermal stability', 'device integration']\n",
    "\n",
    "fig = go.Figure()\n",
    "\n",
    "#fig.add_trace(go.Scatterpolar(\n",
    "#      r=[1, 5, 2, 2, 3],\n",
    "#      theta=categories,\n",
    "#      fill='toself',\n",
    "#      name='Product A'\n",
    "#))\n",
    "fig.add_trace(go.Scatterpolar(\n",
    "      r=[1, 3, 0.5, 1, 2],\n",
    "      theta=categories,\n",
    "      fill='toself',\n",
    "      name='Product B'\n",
    "))\n",
    "\n",
    "fig.update_layout(\n",
    "  polar=dict(\n",
    "    radialaxis=dict(\n",
    "      visible=True,\n",
    "      range=[0, 5]\n",
    "    )),\n",
    "  showlegend=False\n",
    ")\n",
    "\n",
    "fig.show()"
   ]
  },
  {
   "cell_type": "code",
   "execution_count": null,
   "id": "e7451edb-460e-42b4-9727-1ba9a6636906",
   "metadata": {},
   "outputs": [],
   "source": []
  }
 ],
 "metadata": {
  "kernelspec": {
   "display_name": "Python 3",
   "language": "python",
   "name": "python3"
  },
  "language_info": {
   "codemirror_mode": {
    "name": "ipython",
    "version": 3
   },
   "file_extension": ".py",
   "mimetype": "text/x-python",
   "name": "python",
   "nbconvert_exporter": "python",
   "pygments_lexer": "ipython3",
   "version": "3.8.8"
  }
 },
 "nbformat": 4,
 "nbformat_minor": 5
}
